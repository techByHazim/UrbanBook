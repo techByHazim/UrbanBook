{
 "cells": [
  {
   "cell_type": "markdown",
   "metadata": {},
   "source": [
    "# Pretraitement des données de la BPE "
   ]
  },
  {
   "cell_type": "markdown",
   "metadata": {},
   "source": [
    "## La BPE, qu'est-ce que c'est?\n",
    "\n",
    "La source Base permanente des équipements (BPE) est une base à vocation statistique. Elle répertorie un large éventail d'équipements et de services, marchands ou non, accessibles au public sur l'ensemble de la France au 1ᵉʳ janvier de chaque année.\n",
    "\n",
    "Elle est construite à partir de sources administratives diverses. Elle rassemble des données sur des points d'accès aux services destinés à la population, ou équipements, localisés à des niveaux géographiques fins : communes, territoires infra-communaux (Iris) et coordonnées `(x,y)`.\n",
    "\n",
    "\n",
    "Pour en savoir plus - Définitions, méthodes et qualité, consultez :  [https://www.insee.fr/fr/metadonnees/source/serie/s1161](https://www.insee.fr/fr/metadonnees/source/serie/s1161)"
   ]
  },
  {
   "cell_type": "markdown",
   "metadata": {},
   "source": [
    "## Règles de confidentialité\n",
    "\n",
    "Conformément à l’arrêté du 3 janvier 2024 modifiant l'arrêté du 11 janvier 2008 portant création d'une base permanente des équipements, les noms, raisons sociales et adresses des équipements sont diffusés dans le fichier Equipements géolocalisés de la BPE.\n",
    "\n",
    "Les données présentées sur cet outil tiennent compte de l'opposition de certains chefs d'entreprise à la diffusion de leurs données à caractère personnel sur sirene.fr. Des données nominatives (pour les entrepreneurs individuels), d’adressage et de géolocalisation sont anonymisées. Plus d'informations sur les modalités de diffusion des informations à caractère personnel sur [sirene.fr](https://www.sirene.fr)"
   ]
  },
  {
   "cell_type": "markdown",
   "metadata": {},
   "source": [
    "## BPE - Données 2023\n",
    "\n",
    "Les données utilisées dans ce notebook sont issues de la BPE de l'INSEE, édition 2023.\n",
    "Cela correspond aux données disponibles au 1ᵉʳ janvier 2024 (mise à jour en mai 2024), relatives aux équipements et services recensés au 1ᵉʳ janvier 2023."
   ]
  },
  {
   "cell_type": "markdown",
   "metadata": {},
   "source": [
    "## Objectif de la section\n",
    "\n",
    "Avant de se lancer dans les calculs, il est toujours utile de prendre un moment pour explorer les données.\n",
    "Cette étape permet de se familiariser avec leur contenu, de comprendre comment elles sont organisées et de vérifier qu’elles correspondent bien à ce que l’on attend.\n",
    "\n",
    "Dans le cas de la BPE, l’exploration sert par exemple à voir quels types d’équipements sont recensés, comment ils sont décrits et s’il y a des particularités à garder en tête pour la suite.\n",
    "C’est aussi l’occasion de préparer le terrain : nettoyer, organiser et mettre en forme les données afin qu’elles soient directement exploitables pour l’analyse."
   ]
  },
  {
   "cell_type": "markdown",
   "metadata": {},
   "source": [
    "## Importation des bibliothèques nécessaires "
   ]
  },
  {
   "cell_type": "code",
   "execution_count": 2,
   "metadata": {},
   "outputs": [],
   "source": [
    "import geopandas as gpd"
   ]
  },
  {
   "cell_type": "markdown",
   "metadata": {},
   "source": [
    "## Chargement des données de la BPE"
   ]
  },
  {
   "cell_type": "code",
   "execution_count": 17,
   "metadata": {},
   "outputs": [
    {
     "data": {
      "text/html": [
       "<div>\n",
       "<style scoped>\n",
       "    .dataframe tbody tr th:only-of-type {\n",
       "        vertical-align: middle;\n",
       "    }\n",
       "\n",
       "    .dataframe tbody tr th {\n",
       "        vertical-align: top;\n",
       "    }\n",
       "\n",
       "    .dataframe thead th {\n",
       "        text-align: right;\n",
       "    }\n",
       "</style>\n",
       "<table border=\"1\" class=\"dataframe\">\n",
       "  <thead>\n",
       "    <tr style=\"text-align: right;\">\n",
       "      <th></th>\n",
       "      <th>AN</th>\n",
       "      <th>NOMRS</th>\n",
       "      <th>CNOMRS</th>\n",
       "      <th>NUMVOIE</th>\n",
       "      <th>INDREP</th>\n",
       "      <th>TYPVOIE</th>\n",
       "      <th>LIBVOIE</th>\n",
       "      <th>CADR</th>\n",
       "      <th>LIBCOM</th>\n",
       "      <th>CODPOS</th>\n",
       "      <th>...</th>\n",
       "      <th>QUALI_QVA</th>\n",
       "      <th>ZUS</th>\n",
       "      <th>QUALI_ZUS</th>\n",
       "      <th>EPCI</th>\n",
       "      <th>UU2020</th>\n",
       "      <th>BV2022</th>\n",
       "      <th>AAV2020</th>\n",
       "      <th>DENS3</th>\n",
       "      <th>DENS7</th>\n",
       "      <th>geometry</th>\n",
       "    </tr>\n",
       "  </thead>\n",
       "  <tbody>\n",
       "    <tr>\n",
       "      <th>0</th>\n",
       "      <td>2023</td>\n",
       "      <td>DIR REG FIP PACA ET BOUCHES DU RHONE</td>\n",
       "      <td>TRESORERIE ALLAUCH</td>\n",
       "      <td></td>\n",
       "      <td></td>\n",
       "      <td>TRA</td>\n",
       "      <td>LA CHAP DES FILLES</td>\n",
       "      <td></td>\n",
       "      <td>ALLAUCH</td>\n",
       "      <td>13190</td>\n",
       "      <td>...</td>\n",
       "      <td>_Z</td>\n",
       "      <td>CSZ</td>\n",
       "      <td>_Z</td>\n",
       "      <td>200054807</td>\n",
       "      <td>00759</td>\n",
       "      <td>13055</td>\n",
       "      <td>003</td>\n",
       "      <td>1</td>\n",
       "      <td>1</td>\n",
       "      <td>POINT (901350.000 6251550.000)</td>\n",
       "    </tr>\n",
       "    <tr>\n",
       "      <th>1</th>\n",
       "      <td>2023</td>\n",
       "      <td>FRANCE SERVICES D’ALLAUCH - PLAN DE CUQUES</td>\n",
       "      <td></td>\n",
       "      <td>17</td>\n",
       "      <td></td>\n",
       "      <td>BD</td>\n",
       "      <td>CLEMENT ET JULES BARTHELEMY</td>\n",
       "      <td></td>\n",
       "      <td>ALLAUCH</td>\n",
       "      <td>13190</td>\n",
       "      <td>...</td>\n",
       "      <td>_Z</td>\n",
       "      <td>CSZ</td>\n",
       "      <td>_Z</td>\n",
       "      <td>200054807</td>\n",
       "      <td>00759</td>\n",
       "      <td>13055</td>\n",
       "      <td>003</td>\n",
       "      <td>1</td>\n",
       "      <td>1</td>\n",
       "      <td>POINT (899921.860 6251277.510)</td>\n",
       "    </tr>\n",
       "    <tr>\n",
       "      <th>2</th>\n",
       "      <td>2023</td>\n",
       "      <td>ALLAUCH</td>\n",
       "      <td></td>\n",
       "      <td>1</td>\n",
       "      <td></td>\n",
       "      <td>PL</td>\n",
       "      <td>DOCTEUR JOSEPH CHEVILLON</td>\n",
       "      <td></td>\n",
       "      <td>ALLAUCH</td>\n",
       "      <td>13190</td>\n",
       "      <td>...</td>\n",
       "      <td>_Z</td>\n",
       "      <td>CSZ</td>\n",
       "      <td>_Z</td>\n",
       "      <td>200054807</td>\n",
       "      <td>00759</td>\n",
       "      <td>13055</td>\n",
       "      <td>003</td>\n",
       "      <td>1</td>\n",
       "      <td>1</td>\n",
       "      <td>POINT (901355.700 6251704.700)</td>\n",
       "    </tr>\n",
       "    <tr>\n",
       "      <th>3</th>\n",
       "      <td>2023</td>\n",
       "      <td>CAISSE D'EPARGNE CEPAC</td>\n",
       "      <td>AGENCE ALLAUCH CANTON VERT</td>\n",
       "      <td></td>\n",
       "      <td></td>\n",
       "      <td>AV</td>\n",
       "      <td>DU CANTON VERT</td>\n",
       "      <td>CC ESPACE MELVILLE</td>\n",
       "      <td>ALLAUCH</td>\n",
       "      <td>13190</td>\n",
       "      <td>...</td>\n",
       "      <td>_Z</td>\n",
       "      <td>CSZ</td>\n",
       "      <td>_Z</td>\n",
       "      <td>200054807</td>\n",
       "      <td>00759</td>\n",
       "      <td>13055</td>\n",
       "      <td>003</td>\n",
       "      <td>1</td>\n",
       "      <td>1</td>\n",
       "      <td>POINT (900461.000 6252323.800)</td>\n",
       "    </tr>\n",
       "    <tr>\n",
       "      <th>4</th>\n",
       "      <td>2023</td>\n",
       "      <td>BANQUE POPULAIRE MEDITERRANEE</td>\n",
       "      <td></td>\n",
       "      <td></td>\n",
       "      <td></td>\n",
       "      <td>AV</td>\n",
       "      <td>LEI RIMA</td>\n",
       "      <td>LE LOGIS NEUF</td>\n",
       "      <td>ALLAUCH</td>\n",
       "      <td>13190</td>\n",
       "      <td>...</td>\n",
       "      <td>_Z</td>\n",
       "      <td>CSZ</td>\n",
       "      <td>_Z</td>\n",
       "      <td>200054807</td>\n",
       "      <td>00759</td>\n",
       "      <td>13055</td>\n",
       "      <td>003</td>\n",
       "      <td>1</td>\n",
       "      <td>1</td>\n",
       "      <td>POINT (901698.290 6254031.270)</td>\n",
       "    </tr>\n",
       "  </tbody>\n",
       "</table>\n",
       "<p>5 rows × 75 columns</p>\n",
       "</div>"
      ],
      "text/plain": [
       "     AN                                       NOMRS  \\\n",
       "0  2023        DIR REG FIP PACA ET BOUCHES DU RHONE   \n",
       "1  2023  FRANCE SERVICES D’ALLAUCH - PLAN DE CUQUES   \n",
       "2  2023                                     ALLAUCH   \n",
       "3  2023                      CAISSE D'EPARGNE CEPAC   \n",
       "4  2023               BANQUE POPULAIRE MEDITERRANEE   \n",
       "\n",
       "                       CNOMRS NUMVOIE INDREP TYPVOIE  \\\n",
       "0          TRESORERIE ALLAUCH                    TRA   \n",
       "1                                  17             BD   \n",
       "2                                   1             PL   \n",
       "3  AGENCE ALLAUCH CANTON VERT                     AV   \n",
       "4                                                 AV   \n",
       "\n",
       "                       LIBVOIE                CADR   LIBCOM CODPOS  ...  \\\n",
       "0           LA CHAP DES FILLES                      ALLAUCH  13190  ...   \n",
       "1  CLEMENT ET JULES BARTHELEMY                      ALLAUCH  13190  ...   \n",
       "2     DOCTEUR JOSEPH CHEVILLON                      ALLAUCH  13190  ...   \n",
       "3               DU CANTON VERT  CC ESPACE MELVILLE  ALLAUCH  13190  ...   \n",
       "4                     LEI RIMA       LE LOGIS NEUF  ALLAUCH  13190  ...   \n",
       "\n",
       "  QUALI_QVA  ZUS QUALI_ZUS       EPCI UU2020 BV2022 AAV2020 DENS3 DENS7  \\\n",
       "0        _Z  CSZ        _Z  200054807  00759  13055     003     1     1   \n",
       "1        _Z  CSZ        _Z  200054807  00759  13055     003     1     1   \n",
       "2        _Z  CSZ        _Z  200054807  00759  13055     003     1     1   \n",
       "3        _Z  CSZ        _Z  200054807  00759  13055     003     1     1   \n",
       "4        _Z  CSZ        _Z  200054807  00759  13055     003     1     1   \n",
       "\n",
       "                         geometry  \n",
       "0  POINT (901350.000 6251550.000)  \n",
       "1  POINT (899921.860 6251277.510)  \n",
       "2  POINT (901355.700 6251704.700)  \n",
       "3  POINT (900461.000 6252323.800)  \n",
       "4  POINT (901698.290 6254031.270)  \n",
       "\n",
       "[5 rows x 75 columns]"
      ]
     },
     "execution_count": 17,
     "metadata": {},
     "output_type": "execute_result"
    }
   ],
   "source": [
    "# chemin vers le fichier GeoPackage contenant les données de la BPE filtré sur Marseille (zone d'étude)\n",
    "data_path = \"../proxy/data/processed/bpe23_Marseille.gpkg\"\n",
    "# Chargement des données de la BPE (points) sous forme de GeoDataFrame\n",
    "data = gpd.read_file(data_path)\n",
    "\n",
    "# Affichage des premières lignes du GeoDataFrame\n",
    "data.head()"
   ]
  },
  {
   "cell_type": "code",
   "execution_count": 4,
   "metadata": {},
   "outputs": [
    {
     "data": {
      "text/plain": [
       "Index(['AN', 'NOMRS', 'CNOMRS', 'NUMVOIE', 'INDREP', 'TYPVOIE', 'LIBVOIE',\n",
       "       'CADR', 'LIBCOM', 'CODPOS', 'DEPCOM', 'DEP', 'REG', 'DOM', 'SDOM',\n",
       "       'TYPEQU', 'SIRET', 'STATUT_DIFFUSION', 'CANTINE', 'INTERNAT', 'RPI',\n",
       "       'EP', 'CL_PGE', 'SECT', 'ACCES_AIRE_PRATIQUE', 'ACCES_LIBRE',\n",
       "       'ACCES_SANITAIRE', 'ACCES_VESTIAIRE', 'CAPACITE_D_ACCUEIL',\n",
       "       'PRES_DOUCHE', 'PRES_SANITAIRE', 'SAISONNIER', 'COUVERT', 'ECLAIRE',\n",
       "       'CATEGORIE', 'MULTIPLEXE', 'ACCUEIL', 'ITINERANCE', 'MODE_GESTION',\n",
       "       'SSTYPHEB', 'TYPE', 'CAPACITE', 'INDIC_CAPA', 'NBEQUIDENT',\n",
       "       'INDIC_NBEQUIDENT', 'NBSALLES', 'INDIC_NBSALLES', 'NBLIEUX',\n",
       "       'INDIC_NBLIEUX', 'LAMBERT_X', 'LAMBERT_Y', 'LONGITUDE', 'LATITUDE',\n",
       "       'QUALITE_XY', 'EPSG', 'QUALITE_GEOLOC', 'TR_DIST_PRECISION', 'DCIRIS',\n",
       "       'QUALI_IRIS', 'IRISEE', 'QP2015', 'QUALI_QP2015', 'QP', 'QUALI_QP',\n",
       "       'QVA', 'QUALI_QVA', 'ZUS', 'QUALI_ZUS', 'EPCI', 'UU2020', 'BV2022',\n",
       "       'AAV2020', 'DENS3', 'DENS7', 'geometry'],\n",
       "      dtype='object')"
      ]
     },
     "execution_count": 4,
     "metadata": {},
     "output_type": "execute_result"
    }
   ],
   "source": [
    "# Affichages des colonnes disponibles dans le GeoDataFrame\n",
    "data.columns"
   ]
  },
  {
   "cell_type": "markdown",
   "metadata": {},
   "source": [
    "Le dictionnaire de ces variables (colonnes) est disponible dans le fichier `BPE23_anonymisee_dictionnaire_variables.html` dans le dossier `data/raw/docs` du projet."
   ]
  },
  {
   "cell_type": "markdown",
   "metadata": {},
   "source": [
    "## Categorisation des types d'équipements\n",
    "\n",
    "Dans notre analyse, les équipements seront catégorisés en plusieurs groupes en fonction de leur type. Par exemple, les équipements de santé, d'éducation, de culture, de sport, etc. Ci dessous, nous définissons des ensembles de types d'équipements pour chaque catégorie. On le fait ici manuellement, mais cela peut etre automatisé avec une table de correspondance. Pour faire cette catégorisation, nous utilisons la colonne `TYPEQU` du GeoDataFrame, qui indique le type d'équipement. La categorisation peut etre revue et corrigée selon les besoins de l'analyse. La signification de chaque code `TYPEQU` est disponible dans le fichier `BPE23_liste_hierarchisee_TYPEQU.html` dans le dossier `data/raw/docs` du projet."
   ]
  },
  {
   "cell_type": "code",
   "execution_count": 5,
   "metadata": {},
   "outputs": [],
   "source": [
    "# Pour s'approvisionner\n",
    "# supply = {'B104','B105','B201','B202','B204','B205','B206','B207','B208','B210'} # attention les typeq ont changé entre la bpe2021, 2023 et 2024 !\n",
    "# hzm doit verifier\n",
    "# PPour la culture\n",
    "# culture = {'F303', 'F305', 'F307','F312', 'F313', 'F314', 'F315'}\n",
    "# Pour la santé\n",
    "# health = {\n",
    "#     'D108', 'D113', 'D201', 'D221', 'D233', 'D235', 'D236', 'D243', 'D244', 'D302', 'D307',\n",
    "#     'F101', 'F102', 'F103', 'F104', 'F105', 'F106', 'F107', 'F108', 'F109', 'F110', 'F111', \n",
    "#     'F112', 'F113', 'F114', 'F116', 'F117', 'F118', 'F120', 'F121', 'F123', 'F201', 'F203'\n",
    "# }\n",
    "\n",
    "health = {\n",
    "    'D108', 'D113', 'D201', 'D233', 'D302', 'D307'\n",
    "}\n",
    "  \n",
    "# # Obtenir les valeurs uniques dans la colonne \"TYPEQU\" (qui contient des chaînes)\n",
    "# typequ_values = set(data[\"TYPEQU\"])\n",
    "\n",
    "# # Identifier les chaînes absentes pour chaque catégorie\n",
    "# missing_supply = supply - typequ_values\n",
    "# # missing_culture = culture - typequ_values\n",
    "# # missing_health = health - typequ_values\n",
    "\n",
    "# # Afficher les résultats\n",
    "# print(\"Éléments absents dans supply:\", missing_supply)\n",
    "# # print(\"Éléments absents dans culture:\", missing_culture)\n",
    "# # print(\"Éléments absents dans health:\", missing_health)"
   ]
  },
  {
   "cell_type": "markdown",
   "metadata": {},
   "source": [
    "## La qualité de géolocalisation des équipements\n",
    "\n",
    "Les équipements de la BPE sont géolocalisés avec différents niveaux de précision, indiqués dans la colonne `QUALITE_XY` du GeoDataFrame. Voici les différentes qualités de géolocalisation possibles :"
   ]
  },
  {
   "cell_type": "code",
   "execution_count": 6,
   "metadata": {},
   "outputs": [
    {
     "name": "stdout",
     "output_type": "stream",
     "text": [
      "['A' 'B' 'M' '_U']\n"
     ]
    }
   ],
   "source": [
    "print(data['QUALITE_XY'].unique())"
   ]
  },
  {
   "cell_type": "markdown",
   "metadata": {},
   "source": [
    "QUALITE_XY \n",
    "\n",
    "  | Code | Libellé | Description |\n",
    "  |------|---------|-------------|\n",
    "  | B    | Bonne   | Précision < 100 m (adresse exacte ou voie exacte, précision < 100 m) |\n",
    "  | A    | Acceptable | Précision [100 - 500[ m (voie exacte, précision entre 100 et 500 m) |\n",
    "  | M    | Mauvaise | Précision ≥ 500 m (voie exacte, précision ≥ 500 m ou voie inconnue/probable, position aléatoire dans la commune) |\n",
    "  | _Z   | Non-géolocalisé | Non-géolocalisé |\n",
    "  | _U   | Indéterminée | Indéterminée |"
   ]
  },
  {
   "cell_type": "markdown",
   "metadata": {
    "vscode": {
     "languageId": "yaml"
    }
   },
   "source": [
    "Dans mon analyse, je ne retiens que les équipements avec une qualité de géolocalisation \"Bonne\" ou \"Acceptable\", c'est-à-dire ceux qui ont une précision de localisation inférieure à 500 mètres. Les équipements avec une qualité \"Mauvaise\", \"Non-géolocalisé\" ou \"Indéterminée\" sont exclus de l'analyse, car leur localisation est trop imprécise pour être utile."
   ]
  },
  {
   "cell_type": "code",
   "execution_count": 7,
   "metadata": {},
   "outputs": [
    {
     "name": "stdout",
     "output_type": "stream",
     "text": [
      "Qualité des données génerale\n",
      "['A' 'B' 'M' '_U']\n",
      "-----------------------------------\n",
      "Qualité des données prises\n",
      "['A' 'B']\n"
     ]
    }
   ],
   "source": [
    "print(\"Qualité des données génerale\")\n",
    "print(data['QUALITE_XY'].unique())\n",
    "\n",
    "print('-----------------------------------')\n",
    "\n",
    "data = data[data['QUALITE_XY'].isin(['B', 'A'])]\n",
    "print(\"Qualité des données prises\")\n",
    "print(data['QUALITE_XY'].unique())"
   ]
  },
  {
   "cell_type": "markdown",
   "metadata": {},
   "source": [
    "## Pondération des équipements\n",
    "\n",
    "Les équipements sont pondérés en fonction de leur type (leur importance) et de ce qu'il y a autour d'eux. Cette pondération est représentée par les colonnes `wi` (poids intrinsèque) et `wefs` (poids extrinsèque) du GeoDataFrame."
   ]
  },
  {
   "cell_type": "markdown",
   "metadata": {},
   "source": [
    "### Crétation des colonnes et initialisation"
   ]
  },
  {
   "cell_type": "code",
   "execution_count": 8,
   "metadata": {},
   "outputs": [
    {
     "data": {
      "text/html": [
       "<div>\n",
       "<style scoped>\n",
       "    .dataframe tbody tr th:only-of-type {\n",
       "        vertical-align: middle;\n",
       "    }\n",
       "\n",
       "    .dataframe tbody tr th {\n",
       "        vertical-align: top;\n",
       "    }\n",
       "\n",
       "    .dataframe thead th {\n",
       "        text-align: right;\n",
       "    }\n",
       "</style>\n",
       "<table border=\"1\" class=\"dataframe\">\n",
       "  <thead>\n",
       "    <tr style=\"text-align: right;\">\n",
       "      <th></th>\n",
       "      <th>AN</th>\n",
       "      <th>NOMRS</th>\n",
       "      <th>CNOMRS</th>\n",
       "      <th>NUMVOIE</th>\n",
       "      <th>INDREP</th>\n",
       "      <th>TYPVOIE</th>\n",
       "      <th>LIBVOIE</th>\n",
       "      <th>CADR</th>\n",
       "      <th>LIBCOM</th>\n",
       "      <th>CODPOS</th>\n",
       "      <th>...</th>\n",
       "      <th>EPCI</th>\n",
       "      <th>UU2020</th>\n",
       "      <th>BV2022</th>\n",
       "      <th>AAV2020</th>\n",
       "      <th>DENS3</th>\n",
       "      <th>DENS7</th>\n",
       "      <th>geometry</th>\n",
       "      <th>fs</th>\n",
       "      <th>wi</th>\n",
       "      <th>wefs</th>\n",
       "    </tr>\n",
       "  </thead>\n",
       "  <tbody>\n",
       "    <tr>\n",
       "      <th>0</th>\n",
       "      <td>2023</td>\n",
       "      <td>DIR REG FIP PACA ET BOUCHES DU RHONE</td>\n",
       "      <td>TRESORERIE ALLAUCH</td>\n",
       "      <td></td>\n",
       "      <td></td>\n",
       "      <td>TRA</td>\n",
       "      <td>LA CHAP DES FILLES</td>\n",
       "      <td></td>\n",
       "      <td>ALLAUCH</td>\n",
       "      <td>13190</td>\n",
       "      <td>...</td>\n",
       "      <td>200054807</td>\n",
       "      <td>00759</td>\n",
       "      <td>13055</td>\n",
       "      <td>003</td>\n",
       "      <td>1</td>\n",
       "      <td>1</td>\n",
       "      <td>POINT (901350.000 6251550.000)</td>\n",
       "      <td>tbd</td>\n",
       "      <td>0.0</td>\n",
       "      <td>0.0</td>\n",
       "    </tr>\n",
       "    <tr>\n",
       "      <th>1</th>\n",
       "      <td>2023</td>\n",
       "      <td>FRANCE SERVICES D’ALLAUCH - PLAN DE CUQUES</td>\n",
       "      <td></td>\n",
       "      <td>17</td>\n",
       "      <td></td>\n",
       "      <td>BD</td>\n",
       "      <td>CLEMENT ET JULES BARTHELEMY</td>\n",
       "      <td></td>\n",
       "      <td>ALLAUCH</td>\n",
       "      <td>13190</td>\n",
       "      <td>...</td>\n",
       "      <td>200054807</td>\n",
       "      <td>00759</td>\n",
       "      <td>13055</td>\n",
       "      <td>003</td>\n",
       "      <td>1</td>\n",
       "      <td>1</td>\n",
       "      <td>POINT (899921.860 6251277.510)</td>\n",
       "      <td>tbd</td>\n",
       "      <td>0.0</td>\n",
       "      <td>0.0</td>\n",
       "    </tr>\n",
       "    <tr>\n",
       "      <th>2</th>\n",
       "      <td>2023</td>\n",
       "      <td>ALLAUCH</td>\n",
       "      <td></td>\n",
       "      <td>1</td>\n",
       "      <td></td>\n",
       "      <td>PL</td>\n",
       "      <td>DOCTEUR JOSEPH CHEVILLON</td>\n",
       "      <td></td>\n",
       "      <td>ALLAUCH</td>\n",
       "      <td>13190</td>\n",
       "      <td>...</td>\n",
       "      <td>200054807</td>\n",
       "      <td>00759</td>\n",
       "      <td>13055</td>\n",
       "      <td>003</td>\n",
       "      <td>1</td>\n",
       "      <td>1</td>\n",
       "      <td>POINT (901355.700 6251704.700)</td>\n",
       "      <td>tbd</td>\n",
       "      <td>0.0</td>\n",
       "      <td>0.0</td>\n",
       "    </tr>\n",
       "    <tr>\n",
       "      <th>3</th>\n",
       "      <td>2023</td>\n",
       "      <td>CAISSE D'EPARGNE CEPAC</td>\n",
       "      <td>AGENCE ALLAUCH CANTON VERT</td>\n",
       "      <td></td>\n",
       "      <td></td>\n",
       "      <td>AV</td>\n",
       "      <td>DU CANTON VERT</td>\n",
       "      <td>CC ESPACE MELVILLE</td>\n",
       "      <td>ALLAUCH</td>\n",
       "      <td>13190</td>\n",
       "      <td>...</td>\n",
       "      <td>200054807</td>\n",
       "      <td>00759</td>\n",
       "      <td>13055</td>\n",
       "      <td>003</td>\n",
       "      <td>1</td>\n",
       "      <td>1</td>\n",
       "      <td>POINT (900461.000 6252323.800)</td>\n",
       "      <td>tbd</td>\n",
       "      <td>0.0</td>\n",
       "      <td>0.0</td>\n",
       "    </tr>\n",
       "    <tr>\n",
       "      <th>4</th>\n",
       "      <td>2023</td>\n",
       "      <td>BANQUE POPULAIRE MEDITERRANEE</td>\n",
       "      <td></td>\n",
       "      <td></td>\n",
       "      <td></td>\n",
       "      <td>AV</td>\n",
       "      <td>LEI RIMA</td>\n",
       "      <td>LE LOGIS NEUF</td>\n",
       "      <td>ALLAUCH</td>\n",
       "      <td>13190</td>\n",
       "      <td>...</td>\n",
       "      <td>200054807</td>\n",
       "      <td>00759</td>\n",
       "      <td>13055</td>\n",
       "      <td>003</td>\n",
       "      <td>1</td>\n",
       "      <td>1</td>\n",
       "      <td>POINT (901698.290 6254031.270)</td>\n",
       "      <td>tbd</td>\n",
       "      <td>0.0</td>\n",
       "      <td>0.0</td>\n",
       "    </tr>\n",
       "  </tbody>\n",
       "</table>\n",
       "<p>5 rows × 78 columns</p>\n",
       "</div>"
      ],
      "text/plain": [
       "     AN                                       NOMRS  \\\n",
       "0  2023        DIR REG FIP PACA ET BOUCHES DU RHONE   \n",
       "1  2023  FRANCE SERVICES D’ALLAUCH - PLAN DE CUQUES   \n",
       "2  2023                                     ALLAUCH   \n",
       "3  2023                      CAISSE D'EPARGNE CEPAC   \n",
       "4  2023               BANQUE POPULAIRE MEDITERRANEE   \n",
       "\n",
       "                       CNOMRS NUMVOIE INDREP TYPVOIE  \\\n",
       "0          TRESORERIE ALLAUCH                    TRA   \n",
       "1                                  17             BD   \n",
       "2                                   1             PL   \n",
       "3  AGENCE ALLAUCH CANTON VERT                     AV   \n",
       "4                                                 AV   \n",
       "\n",
       "                       LIBVOIE                CADR   LIBCOM CODPOS  ...  \\\n",
       "0           LA CHAP DES FILLES                      ALLAUCH  13190  ...   \n",
       "1  CLEMENT ET JULES BARTHELEMY                      ALLAUCH  13190  ...   \n",
       "2     DOCTEUR JOSEPH CHEVILLON                      ALLAUCH  13190  ...   \n",
       "3               DU CANTON VERT  CC ESPACE MELVILLE  ALLAUCH  13190  ...   \n",
       "4                     LEI RIMA       LE LOGIS NEUF  ALLAUCH  13190  ...   \n",
       "\n",
       "        EPCI UU2020 BV2022 AAV2020 DENS3 DENS7  \\\n",
       "0  200054807  00759  13055     003     1     1   \n",
       "1  200054807  00759  13055     003     1     1   \n",
       "2  200054807  00759  13055     003     1     1   \n",
       "3  200054807  00759  13055     003     1     1   \n",
       "4  200054807  00759  13055     003     1     1   \n",
       "\n",
       "                         geometry   fs   wi wefs  \n",
       "0  POINT (901350.000 6251550.000)  tbd  0.0  0.0  \n",
       "1  POINT (899921.860 6251277.510)  tbd  0.0  0.0  \n",
       "2  POINT (901355.700 6251704.700)  tbd  0.0  0.0  \n",
       "3  POINT (900461.000 6252323.800)  tbd  0.0  0.0  \n",
       "4  POINT (901698.290 6254031.270)  tbd  0.0  0.0  \n",
       "\n",
       "[5 rows x 78 columns]"
      ]
     },
     "execution_count": 8,
     "metadata": {},
     "output_type": "execute_result"
    }
   ],
   "source": [
    "data[\"fs\"] = \"tbd\"  # une chaîne de caractères (fonction sociale)\n",
    "data[\"wi\"] = 0.0    # un float (poids intrinsèque)\n",
    "data[\"wefs\"] = 0.0  # un float (poids extrinsèque)\n",
    "\n",
    "# Vérification des premières lignes pour s'assurer que les colonnes ont été ajoutées correctement\n",
    "data.head()"
   ]
  },
  {
   "cell_type": "markdown",
   "metadata": {},
   "source": [
    "Ensuite je réduis le GeoDataFrame aux colonnes essentielles pour l'analyse, à savoir :"
   ]
  },
  {
   "cell_type": "code",
   "execution_count": 9,
   "metadata": {},
   "outputs": [],
   "source": [
    "data = data[['TYPEQU', 'geometry', 'fs', 'wi', 'wefs']] # On réduit à 5 colonnes + l'ID"
   ]
  },
  {
   "cell_type": "code",
   "execution_count": 10,
   "metadata": {},
   "outputs": [
    {
     "name": "stdout",
     "output_type": "stream",
     "text": [
      "<class 'geopandas.geodataframe.GeoDataFrame'>\n",
      "Index: 54113 entries, 0 to 58686\n",
      "Data columns (total 5 columns):\n",
      " #   Column    Non-Null Count  Dtype   \n",
      "---  ------    --------------  -----   \n",
      " 0   TYPEQU    54113 non-null  object  \n",
      " 1   geometry  54113 non-null  geometry\n",
      " 2   fs        54113 non-null  object  \n",
      " 3   wi        54113 non-null  float64 \n",
      " 4   wefs      54113 non-null  float64 \n",
      "dtypes: float64(2), geometry(1), object(2)\n",
      "memory usage: 2.5+ MB\n"
     ]
    }
   ],
   "source": [
    "# Affichage des informations sur les colonnes retenues\n",
    "data.info()"
   ]
  },
  {
   "cell_type": "markdown",
   "metadata": {},
   "source": [
    "### Remplissage des colonnes \"fs\", \"wi\" et \"wefs\"\n",
    "\n",
    "La colonne `fs` (fonction sociale) est remplie en fonction du type d'équipement (`TYPEQU`). Par exemple, les équipements de santé sont marqués comme \"santé\", les équipements d'éducation comme \"éducation\", etc. La colonne `wi` (poids intrinsèque) est également remplie en fonction du type d'équipement, avec des valeurs numériques représentant l'importance relative de chaque type d'équipement. Enfin, la colonne `wefs` (poids extrinsèque) est remplie en fonction de l'environnement et des infrastructures environnantes (la variété des services et équipements disponibles). Dans ce notebook, je ne remplis que la colonne `fs`. Les colonnes `wi` et `wefs` seront initialiser à zero, elles feront l'objet d'analyses dans d'autres notebooks ultérieures."
   ]
  },
  {
   "cell_type": "code",
   "execution_count": 11,
   "metadata": {},
   "outputs": [],
   "source": [
    "# hzm doit verifier\n",
    "data['fs'] = 'tbd'\n",
    "\n",
    "# culture = {'F303', 'F307', 'F314', 'F315', 'F113', 'F118', 'F305'}\n",
    "# health = {'D307', 'D201', 'D232', 'F101', 'F118', 'F121', 'F120', 'F107', 'F108'}\n",
    "\n",
    "# Normaliser les valeurs dans la base\n",
    "data['TYPEQU'] = data['TYPEQU'].str.strip().str.upper()\n",
    "\n",
    "# # Normaliser les listes\n",
    "# supply = {item.strip().upper() for item in supply}\n",
    "# culture = {item.strip().upper() for item in culture}\n",
    "# health = {item.strip().upper() for item in health}\n",
    "\n",
    "# Ajouter les fs\n",
    "# data.loc[data['TYPEQU'].isin(supply), 'fs'] = 'supply'\n",
    "# data.loc[data['TYPEQU'].isin(culture), 'fs'] = 'culture'\n",
    "data.loc[data['TYPEQU'].isin(health), 'fs'] = 'health'\n",
    "\n",
    "# Supprimer les lignes qui ne sont pas dans les listes\n",
    "data = data[data['fs'] != 'tbd']"
   ]
  },
  {
   "cell_type": "code",
   "execution_count": 12,
   "metadata": {},
   "outputs": [
    {
     "data": {
      "text/plain": [
       "array(['D201', 'D233', 'D302', 'D307', 'D108', 'D113'], dtype=object)"
      ]
     },
     "execution_count": 12,
     "metadata": {},
     "output_type": "execute_result"
    }
   ],
   "source": [
    "data[\"TYPEQU\"].unique()"
   ]
  },
  {
   "cell_type": "code",
   "execution_count": 13,
   "metadata": {},
   "outputs": [
    {
     "data": {
      "text/html": [
       "<div>\n",
       "<style scoped>\n",
       "    .dataframe tbody tr th:only-of-type {\n",
       "        vertical-align: middle;\n",
       "    }\n",
       "\n",
       "    .dataframe tbody tr th {\n",
       "        vertical-align: top;\n",
       "    }\n",
       "\n",
       "    .dataframe thead th {\n",
       "        text-align: right;\n",
       "    }\n",
       "</style>\n",
       "<table border=\"1\" class=\"dataframe\">\n",
       "  <thead>\n",
       "    <tr style=\"text-align: right;\">\n",
       "      <th></th>\n",
       "      <th>TYPEQU</th>\n",
       "      <th>geometry</th>\n",
       "      <th>fs</th>\n",
       "      <th>wi</th>\n",
       "      <th>wefs</th>\n",
       "    </tr>\n",
       "  </thead>\n",
       "  <tbody>\n",
       "    <tr>\n",
       "      <th>0</th>\n",
       "      <td>D201</td>\n",
       "      <td>POINT (901648.360 6253959.190)</td>\n",
       "      <td>health</td>\n",
       "      <td>0.0</td>\n",
       "      <td>0.0</td>\n",
       "    </tr>\n",
       "    <tr>\n",
       "      <th>1</th>\n",
       "      <td>D201</td>\n",
       "      <td>POINT (901650.000 6253850.000)</td>\n",
       "      <td>health</td>\n",
       "      <td>0.0</td>\n",
       "      <td>0.0</td>\n",
       "    </tr>\n",
       "    <tr>\n",
       "      <th>2</th>\n",
       "      <td>D201</td>\n",
       "      <td>POINT (901387.000 6251711.700)</td>\n",
       "      <td>health</td>\n",
       "      <td>0.0</td>\n",
       "      <td>0.0</td>\n",
       "    </tr>\n",
       "    <tr>\n",
       "      <th>3</th>\n",
       "      <td>D201</td>\n",
       "      <td>POINT (901236.730 6251635.020)</td>\n",
       "      <td>health</td>\n",
       "      <td>0.0</td>\n",
       "      <td>0.0</td>\n",
       "    </tr>\n",
       "    <tr>\n",
       "      <th>4</th>\n",
       "      <td>D201</td>\n",
       "      <td>POINT (901244.210 6251911.890)</td>\n",
       "      <td>health</td>\n",
       "      <td>0.0</td>\n",
       "      <td>0.0</td>\n",
       "    </tr>\n",
       "  </tbody>\n",
       "</table>\n",
       "</div>"
      ],
      "text/plain": [
       "  TYPEQU                        geometry      fs   wi  wefs\n",
       "0   D201  POINT (901648.360 6253959.190)  health  0.0   0.0\n",
       "1   D201  POINT (901650.000 6253850.000)  health  0.0   0.0\n",
       "2   D201  POINT (901387.000 6251711.700)  health  0.0   0.0\n",
       "3   D201  POINT (901236.730 6251635.020)  health  0.0   0.0\n",
       "4   D201  POINT (901244.210 6251911.890)  health  0.0   0.0"
      ]
     },
     "execution_count": 13,
     "metadata": {},
     "output_type": "execute_result"
    }
   ],
   "source": [
    "# Réinitialisation de l'index \n",
    "data = data.reset_index(drop=True)\n",
    "\n",
    "# Affichage de l'entête du tableau\n",
    "data.head()"
   ]
  },
  {
   "cell_type": "code",
   "execution_count": 14,
   "metadata": {},
   "outputs": [
    {
     "name": "stdout",
     "output_type": "stream",
     "text": [
      "<class 'geopandas.geodataframe.GeoDataFrame'>\n",
      "RangeIndex: 4670 entries, 0 to 4669\n",
      "Data columns (total 5 columns):\n",
      " #   Column    Non-Null Count  Dtype   \n",
      "---  ------    --------------  -----   \n",
      " 0   TYPEQU    4670 non-null   object  \n",
      " 1   geometry  4670 non-null   geometry\n",
      " 2   fs        4670 non-null   object  \n",
      " 3   wi        4670 non-null   float64 \n",
      " 4   wefs      4670 non-null   float64 \n",
      "dtypes: float64(2), geometry(1), object(2)\n",
      "memory usage: 182.5+ KB\n"
     ]
    }
   ],
   "source": [
    "# Affichage des informations du nouveau GeoDataFrame\n",
    "data.info()"
   ]
  },
  {
   "cell_type": "markdown",
   "metadata": {},
   "source": [
    "## Sauvegarde des données prétraitées\n",
    "\n",
    "Je sauvegarde le GeoDataFrame prétraité jusqu'ici dans un nouveau fichier GeoPackage. Ce fichier contient les colonnes essentielles pour l'analyse et sera utilisé dans les étapes suivantes de l'analyse."
   ]
  },
  {
   "cell_type": "code",
   "execution_count": 16,
   "metadata": {},
   "outputs": [],
   "source": [
    "# Sauvegarde de la nouvelle base\n",
    "data.to_file('../proxy/data/processed/b3_2501171030_health_mrs.gpkg', driver='GPKG')"
   ]
  },
  {
   "cell_type": "markdown",
   "metadata": {},
   "source": [
    "## Conclusion\n",
    "\n",
    "Dans ce notebook, j'ai effectué un prétraitement des données de la Base Permanente des Equipements (BPE, 2023) de l'INSEE. J'ai importé les données, filtré les équipements en fonction de leur qualité de géolocalisation, catégorisé les types d'équipements par fonction sociale. J'ai aussi introduit et initialisé les pondérations (poids intrinsèque et extrinsèque) qui seront explorées davantage dans d'autres notebooks. Enfin, j'ai sauvegardé le GeoDataFrame prétraité pour une utilisation ultérieure. Cette étape de prétraitement permet de passer de la BPE complète à un ensemble de données par catégorie d'équipements (comme par fonction sociale)."
   ]
  }
 ],
 "metadata": {
  "kernelspec": {
   "display_name": "pynkdv",
   "language": "python",
   "name": "python3"
  },
  "language_info": {
   "codemirror_mode": {
    "name": "ipython",
    "version": 3
   },
   "file_extension": ".py",
   "mimetype": "text/x-python",
   "name": "python",
   "nbconvert_exporter": "python",
   "pygments_lexer": "ipython3",
   "version": "3.9.19"
  }
 },
 "nbformat": 4,
 "nbformat_minor": 2
}
