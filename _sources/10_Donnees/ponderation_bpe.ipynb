{
 "cells": [
  {
   "cell_type": "markdown",
   "metadata": {},
   "source": [
    "# Pondération des équipements de la BPE"
   ]
  },
  {
   "cell_type": "markdown",
   "metadata": {},
   "source": [
    "Dans la section précédente, j’ai montré comment filtrer les données de la BPE afin de ne conserver que les équipements associés à une catégorie sociale.\n",
    "J’ai également introduit la notion de pondération, qui permet de tenir compte à la fois de l’importance propre des équipements et de la diversité de leur environnement.\n",
    "\n",
    "Dans cette partie, je vais montrer comment attribuer des poids aux équipements.\n"
   ]
  },
  {
   "cell_type": "markdown",
   "metadata": {},
   "source": [
    "## Les types de pondération\n",
    "\n",
    "Deux dimensions de pondération sont considérées :\n",
    "\n",
    "1. **Pondération par importance intrinsèque** : chaque type d’équipement reçoit un poids en fonction de son rôle social. Par exemple, un supermarché peut avoir un poids plus élevé qu’une boulangerie.\n",
    "\n",
    "2. **Pondération par variété environnante** : la valeur d’un équipement dépend aussi du contexte. Par exemple, un parc situé près de plusieurs écoles et centres communautaires peut être considéré comme plus précieux qu’un parc isolé.\n"
   ]
  },
  {
   "cell_type": "markdown",
   "metadata": {},
   "source": [
    "Pour cela, je vais utiliser des outils d’analyse spatiale en Python, **GeoPandas**, **NumPy** et la classe **BallTree** de `scikit-learn`, qui permet de gérer les calculs de voisinage."
   ]
  },
  {
   "cell_type": "code",
   "execution_count": 1,
   "metadata": {},
   "outputs": [],
   "source": [
    "# Import bibliothèque \n",
    "import numpy as np\n",
    "import geopandas as gpd\n",
    "from sklearn.neighbors import BallTree"
   ]
  },
  {
   "cell_type": "markdown",
   "metadata": {},
   "source": [
    "## Chargement des données\n",
    "\n",
    "Je commence par recharger les données de la **BPE (2023)** que j’ai sauvegardées lors du prétraitement dans la section précédente.\n",
    "À ce stade, le fichier contient uniquement les équipements filtrés selon leur qualité de géolocalisation et regroupés par grandes catégories sociales (santé, éducation, commerce, etc.).\n",
    "\n",
    "Pour la suite de la démonstration, je vais m’appuyer sur l’exemple du domaine **santé**."
   ]
  },
  {
   "cell_type": "code",
   "execution_count": 2,
   "metadata": {},
   "outputs": [
    {
     "data": {
      "text/html": [
       "<div>\n",
       "<style scoped>\n",
       "    .dataframe tbody tr th:only-of-type {\n",
       "        vertical-align: middle;\n",
       "    }\n",
       "\n",
       "    .dataframe tbody tr th {\n",
       "        vertical-align: top;\n",
       "    }\n",
       "\n",
       "    .dataframe thead th {\n",
       "        text-align: right;\n",
       "    }\n",
       "</style>\n",
       "<table border=\"1\" class=\"dataframe\">\n",
       "  <thead>\n",
       "    <tr style=\"text-align: right;\">\n",
       "      <th></th>\n",
       "      <th>TYPEQU</th>\n",
       "      <th>cat</th>\n",
       "      <th>wi</th>\n",
       "      <th>wecat</th>\n",
       "      <th>geometry</th>\n",
       "    </tr>\n",
       "  </thead>\n",
       "  <tbody>\n",
       "    <tr>\n",
       "      <th>0</th>\n",
       "      <td>D201</td>\n",
       "      <td>health</td>\n",
       "      <td>0.0</td>\n",
       "      <td>0.0</td>\n",
       "      <td>POINT (901648.360 6253959.190)</td>\n",
       "    </tr>\n",
       "    <tr>\n",
       "      <th>1</th>\n",
       "      <td>D201</td>\n",
       "      <td>health</td>\n",
       "      <td>0.0</td>\n",
       "      <td>0.0</td>\n",
       "      <td>POINT (901650.000 6253850.000)</td>\n",
       "    </tr>\n",
       "    <tr>\n",
       "      <th>2</th>\n",
       "      <td>D201</td>\n",
       "      <td>health</td>\n",
       "      <td>0.0</td>\n",
       "      <td>0.0</td>\n",
       "      <td>POINT (901387.000 6251711.700)</td>\n",
       "    </tr>\n",
       "    <tr>\n",
       "      <th>3</th>\n",
       "      <td>D201</td>\n",
       "      <td>health</td>\n",
       "      <td>0.0</td>\n",
       "      <td>0.0</td>\n",
       "      <td>POINT (901236.730 6251635.020)</td>\n",
       "    </tr>\n",
       "    <tr>\n",
       "      <th>4</th>\n",
       "      <td>D201</td>\n",
       "      <td>health</td>\n",
       "      <td>0.0</td>\n",
       "      <td>0.0</td>\n",
       "      <td>POINT (901244.210 6251911.890)</td>\n",
       "    </tr>\n",
       "  </tbody>\n",
       "</table>\n",
       "</div>"
      ],
      "text/plain": [
       "  TYPEQU     cat   wi  wecat                        geometry\n",
       "0   D201  health  0.0    0.0  POINT (901648.360 6253959.190)\n",
       "1   D201  health  0.0    0.0  POINT (901650.000 6253850.000)\n",
       "2   D201  health  0.0    0.0  POINT (901387.000 6251711.700)\n",
       "3   D201  health  0.0    0.0  POINT (901236.730 6251635.020)\n",
       "4   D201  health  0.0    0.0  POINT (901244.210 6251911.890)"
      ]
     },
     "execution_count": 2,
     "metadata": {},
     "output_type": "execute_result"
    }
   ],
   "source": [
    "data_path = \"../../proxy/data/processed/b3_2501171030_health_mrs.gpkg\" \n",
    "# Chargement des données de la BPE (points)\n",
    "data = gpd.read_file(data_path)\n",
    "# Affichage des premières lignes du GeoDataFrame\n",
    "data.head()"
   ]
  },
  {
   "cell_type": "markdown",
   "metadata": {},
   "source": [
    "## Pondération intrinsèque des équipements\n",
    "\n",
    "L’objectif est d’associer à chaque type d’équipement un poids numérique, reflétant son importance sociale.\n",
    "Ces poids sont définis de manière subjective, en fonction du rôle joué par l’équipement dans la vie quotidienne.\n",
    "\n",
    "Pour illustrer la démarche, je reprends l’exemple du domaine **santé** et je construis un dictionnaire où les clés correspondent aux types d’équipements et les valeurs aux poids attribués."
   ]
  },
  {
   "cell_type": "code",
   "execution_count": 3,
   "metadata": {},
   "outputs": [],
   "source": [
    "poids_health = {\n",
    "    'D108': 2.0, # CENTRE DE SANTÉ\n",
    "    'D113': 2.0, # MAISON DE SANTÉ PLURIDISCIPLINAIRE\n",
    "    'D201': 1.0, # MÉDECIN GÉNÉRALISTE\n",
    "    'D233': 1.0, # MASSEUR KINÉSITHÉRAPEUTE\n",
    "    'D302': 1.0, # LABORATOIRE D'ANALYSES ET DE BIOLOGIE MÉDICALE\n",
    "    'D307': 3.0, # PHARMACIE\n",
    "}"
   ]
  },
  {
   "cell_type": "markdown",
   "metadata": {},
   "source": [
    "## Attribution des poids aux équipements\n",
    "\n",
    "### Poids intrinsèques\n",
    "\n",
    "La colonne `wi` est complétée automatiquement à partir du dictionnaire : chaque équipement reçoit son poids, et ceux non définis prennent la valeur `0`."
   ]
  },
  {
   "cell_type": "code",
   "execution_count": 5,
   "metadata": {},
   "outputs": [
    {
     "data": {
      "text/html": [
       "<div>\n",
       "<style scoped>\n",
       "    .dataframe tbody tr th:only-of-type {\n",
       "        vertical-align: middle;\n",
       "    }\n",
       "\n",
       "    .dataframe tbody tr th {\n",
       "        vertical-align: top;\n",
       "    }\n",
       "\n",
       "    .dataframe thead th {\n",
       "        text-align: right;\n",
       "    }\n",
       "</style>\n",
       "<table border=\"1\" class=\"dataframe\">\n",
       "  <thead>\n",
       "    <tr style=\"text-align: right;\">\n",
       "      <th></th>\n",
       "      <th>TYPEQU</th>\n",
       "      <th>cat</th>\n",
       "      <th>wi</th>\n",
       "      <th>wecat</th>\n",
       "      <th>geometry</th>\n",
       "    </tr>\n",
       "  </thead>\n",
       "  <tbody>\n",
       "    <tr>\n",
       "      <th>0</th>\n",
       "      <td>D201</td>\n",
       "      <td>health</td>\n",
       "      <td>1.0</td>\n",
       "      <td>0.0</td>\n",
       "      <td>POINT (901648.360 6253959.190)</td>\n",
       "    </tr>\n",
       "    <tr>\n",
       "      <th>1</th>\n",
       "      <td>D201</td>\n",
       "      <td>health</td>\n",
       "      <td>1.0</td>\n",
       "      <td>0.0</td>\n",
       "      <td>POINT (901650.000 6253850.000)</td>\n",
       "    </tr>\n",
       "    <tr>\n",
       "      <th>2</th>\n",
       "      <td>D201</td>\n",
       "      <td>health</td>\n",
       "      <td>1.0</td>\n",
       "      <td>0.0</td>\n",
       "      <td>POINT (901387.000 6251711.700)</td>\n",
       "    </tr>\n",
       "    <tr>\n",
       "      <th>3</th>\n",
       "      <td>D201</td>\n",
       "      <td>health</td>\n",
       "      <td>1.0</td>\n",
       "      <td>0.0</td>\n",
       "      <td>POINT (901236.730 6251635.020)</td>\n",
       "    </tr>\n",
       "    <tr>\n",
       "      <th>4</th>\n",
       "      <td>D201</td>\n",
       "      <td>health</td>\n",
       "      <td>1.0</td>\n",
       "      <td>0.0</td>\n",
       "      <td>POINT (901244.210 6251911.890)</td>\n",
       "    </tr>\n",
       "  </tbody>\n",
       "</table>\n",
       "</div>"
      ],
      "text/plain": [
       "  TYPEQU     cat   wi  wecat                        geometry\n",
       "0   D201  health  1.0    0.0  POINT (901648.360 6253959.190)\n",
       "1   D201  health  1.0    0.0  POINT (901650.000 6253850.000)\n",
       "2   D201  health  1.0    0.0  POINT (901387.000 6251711.700)\n",
       "3   D201  health  1.0    0.0  POINT (901236.730 6251635.020)\n",
       "4   D201  health  1.0    0.0  POINT (901244.210 6251911.890)"
      ]
     },
     "execution_count": 5,
     "metadata": {},
     "output_type": "execute_result"
    }
   ],
   "source": [
    "# Fonction pour obtenir le poids en fonction de TYPEQU\n",
    "def get_weight(row):\n",
    "    if row['TYPEQU'] in poids_health:\n",
    "        return poids_health[row['TYPEQU']]\n",
    "    else:\n",
    "        return 0  # Valeur par défaut si TYPEQU n'est pas trouvé\n",
    "\n",
    "# Application de la fonction pour remplir la colonne `wi`\n",
    "data['wi'] = data.apply(get_weight, axis=1)\n",
    "# Affichage des premières lignes pour vérifier les poids attribués\n",
    "data.head()"
   ]
  },
  {
   "cell_type": "code",
   "execution_count": 7,
   "metadata": {},
   "outputs": [
    {
     "data": {
      "text/plain": [
       "array(['health'], dtype=object)"
      ]
     },
     "execution_count": 7,
     "metadata": {},
     "output_type": "execute_result"
    }
   ],
   "source": [
    "data['cat'].unique()"
   ]
  },
  {
   "cell_type": "markdown",
   "metadata": {},
   "source": [
    "### Poids extrinsèques (variété environnante)\n",
    "\n",
    "La colonne `wecat` dépend de la diversité des équipements autour de chaque point.\n",
    "Concrètement, je regarde combien de types différents se trouvent dans un certain rayon (un paramètre que je choisis). Plus la variété est grande, plus le poids augmente.\n",
    "Pour faire ce calcul rapidement, j’utilise `BallTree` de `scikit-learn`, qui permet de trouver efficacement les voisins dans ce rayon."
   ]
  },
  {
   "cell_type": "code",
   "execution_count": 8,
   "metadata": {},
   "outputs": [],
   "source": [
    "# Construction de l'arbre spatial avec BallTree\n",
    "coords = np.vstack([data.geometry.x, data.geometry.y]).T\n",
    "tree = BallTree(coords, metric='euclidean')"
   ]
  },
  {
   "cell_type": "code",
   "execution_count": 10,
   "metadata": {},
   "outputs": [],
   "source": [
    "# Je ne compte pas l'equipement principal, il a dejà un poids intrinsèque\n",
    "\n",
    "rayon = 50.0 # Rayon pour calculer la diversité\n",
    "\n",
    "def wecat(index, point, typequ, radius = rayon): \n",
    "\n",
    "    indices = tree.query_radius([point], r=radius)[0]\n",
    "    \n",
    "    neighboors = data.iloc[indices]\n",
    "    types_diff = neighboors['TYPEQU'].unique()\n",
    "    \n",
    "    types_diff = types_diff[types_diff != typequ]\n",
    "    \n",
    "    return len(types_diff) #+ 1 pour compter l'equipement principale"
   ]
  },
  {
   "cell_type": "code",
   "execution_count": 11,
   "metadata": {},
   "outputs": [],
   "source": [
    "# calcul et Ajout des poids extrasinque dans les données\n",
    "data.loc[:, 'wecat'] = data.apply(lambda row: wecat(row.name, [row.geometry.x, row.geometry.y], row['TYPEQU']), axis=1)"
   ]
  },
  {
   "cell_type": "code",
   "execution_count": 12,
   "metadata": {},
   "outputs": [
    {
     "data": {
      "text/html": [
       "<div>\n",
       "<style scoped>\n",
       "    .dataframe tbody tr th:only-of-type {\n",
       "        vertical-align: middle;\n",
       "    }\n",
       "\n",
       "    .dataframe tbody tr th {\n",
       "        vertical-align: top;\n",
       "    }\n",
       "\n",
       "    .dataframe thead th {\n",
       "        text-align: right;\n",
       "    }\n",
       "</style>\n",
       "<table border=\"1\" class=\"dataframe\">\n",
       "  <thead>\n",
       "    <tr style=\"text-align: right;\">\n",
       "      <th></th>\n",
       "      <th>TYPEQU</th>\n",
       "      <th>cat</th>\n",
       "      <th>wi</th>\n",
       "      <th>wecat</th>\n",
       "      <th>geometry</th>\n",
       "    </tr>\n",
       "  </thead>\n",
       "  <tbody>\n",
       "    <tr>\n",
       "      <th>4665</th>\n",
       "      <td>D307</td>\n",
       "      <td>health</td>\n",
       "      <td>3.0</td>\n",
       "      <td>2.0</td>\n",
       "      <td>POINT (887533.550 6254087.900)</td>\n",
       "    </tr>\n",
       "    <tr>\n",
       "      <th>4666</th>\n",
       "      <td>D307</td>\n",
       "      <td>health</td>\n",
       "      <td>3.0</td>\n",
       "      <td>1.0</td>\n",
       "      <td>POINT (889993.590 6253679.560)</td>\n",
       "    </tr>\n",
       "    <tr>\n",
       "      <th>4667</th>\n",
       "      <td>D307</td>\n",
       "      <td>health</td>\n",
       "      <td>3.0</td>\n",
       "      <td>2.0</td>\n",
       "      <td>POINT (888278.580 6254291.320)</td>\n",
       "    </tr>\n",
       "    <tr>\n",
       "      <th>4668</th>\n",
       "      <td>D307</td>\n",
       "      <td>health</td>\n",
       "      <td>3.0</td>\n",
       "      <td>2.0</td>\n",
       "      <td>POINT (889128.080 6253952.660)</td>\n",
       "    </tr>\n",
       "    <tr>\n",
       "      <th>4669</th>\n",
       "      <td>D307</td>\n",
       "      <td>health</td>\n",
       "      <td>3.0</td>\n",
       "      <td>1.0</td>\n",
       "      <td>POINT (889005.540 6254025.890)</td>\n",
       "    </tr>\n",
       "  </tbody>\n",
       "</table>\n",
       "</div>"
      ],
      "text/plain": [
       "     TYPEQU     cat   wi  wecat                        geometry\n",
       "4665   D307  health  3.0    2.0  POINT (887533.550 6254087.900)\n",
       "4666   D307  health  3.0    1.0  POINT (889993.590 6253679.560)\n",
       "4667   D307  health  3.0    2.0  POINT (888278.580 6254291.320)\n",
       "4668   D307  health  3.0    2.0  POINT (889128.080 6253952.660)\n",
       "4669   D307  health  3.0    1.0  POINT (889005.540 6254025.890)"
      ]
     },
     "execution_count": 12,
     "metadata": {},
     "output_type": "execute_result"
    }
   ],
   "source": [
    "# Affichage pour verif\n",
    "data.tail()"
   ]
  },
  {
   "cell_type": "markdown",
   "metadata": {},
   "source": [
    "## Sauvegarde des données pondérées\n",
    "\n",
    "Les données, désormais enrichies avec les poids, sont sauvegardées dans un nouveau fichier GeoPackage afin de pouvoir être réutilisées dans les analyses suivantes."
   ]
  },
  {
   "cell_type": "code",
   "execution_count": 13,
   "metadata": {},
   "outputs": [],
   "source": [
    "data.to_file(\"../../proxy/data/processed/b3_2501171030_health_mrs_50.gpkg\", driver=\"GPKG\")"
   ]
  },
  {
   "cell_type": "markdown",
   "metadata": {},
   "source": [
    "## Conclusion\n",
    "\n",
    "Dans cette section, j’ai présenté la démarche de pondération des équipements.\n",
    "D’abord, chaque équipement a reçu un **poids intrinsèque**, en fonction de son importance sociale. Ensuite, j’ai ajouté un **poids extrinsèque**, basé sur la diversité des équipements présents dans son voisinage.\n",
    "\n",
    "Le résultat est un GeoDataFrame enrichi et sauvegardé dans un fichier GeoPackage.\n",
    "Cette base pondérée constitue un point d’appui pour la suite du travail, et sera utilisée dans le calcul des indices de proximité dans les prochaines sections."
   ]
  }
 ],
 "metadata": {
  "kernelspec": {
   "display_name": "pynkdv",
   "language": "python",
   "name": "python3"
  },
  "language_info": {
   "codemirror_mode": {
    "name": "ipython",
    "version": 3
   },
   "file_extension": ".py",
   "mimetype": "text/x-python",
   "name": "python",
   "nbconvert_exporter": "python",
   "pygments_lexer": "ipython3",
   "version": "3.9.19"
  }
 },
 "nbformat": 4,
 "nbformat_minor": 2
}
