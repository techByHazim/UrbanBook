{
 "cells": [
  {
   "cell_type": "markdown",
   "id": "4a30a3ba",
   "metadata": {},
   "source": [
    "\n",
    "# Transport en commun - Données GTFS\n",
    "## Qu’est-ce que le GTFS ?\n",
    "\n",
    "**GTFS** (*General Transit Feed Specification*) est un format ouvert pour décrire une **offre de transport en commun** (statique) : lignes, trajets, arrêts, horaires.\n",
    "Il existe deux familles :\n",
    "\n",
    "* **GTFS Statique** (ce que nous utilisons ici) : planning de référence, valable sur une période donnée (ex. du 06/06/2025 au 05/08/2025).\n",
    "* **GTFS-Realtime** : informations en temps réel (retards, positions des véhicules, alertes), sur d’autres flux protobuf. *(non traité ici).*\n",
    "\n",
    "Pour plus de détails sur ces types **GTFS** voir [https://en.wikipedia.org/wiki/GTFS](https://en.wikipedia.org/wiki/GTFS)\n",
    "\n",
    "Un jeu GTFS statique est une **archive .zip** qui contient des **fichiers .txt** (CSV) inter-liés.\n",
    "\n",
    "Les plus fréquents :\n",
    "\n",
    "| Fichier              | Rôle                                                                   | Clés importantes         |\n",
    "| -------------------- | ---------------------------------------------------------------------- | ------------------------ |\n",
    "| `routes.txt`         | Lignes commerciales (bus, tram, métro…)                                | `route_id`, `route_type` |\n",
    "| `trips.txt`          | Trajets (un “service” d’une route, dans un sens, un jour donné)        | `trip_id`, `route_id`    |\n",
    "| `stops.txt`          | Arrêts (nom, coordonnées)                                              | `stop_id`, `stop_name`   |\n",
    "| `stop_times.txt`     | Passage d’un trajet à un arrêt (ordre + horaires)                      | `trip_id`, `stop_id`     |\n",
    "| `calendar.txt`       | Jours de service “réguliers” (lun-dim, dates de début/fin)             | `service_id`             |\n",
    "| `calendar_dates.txt` | Exceptions au calendrier (jours ajoutés/retirés)                       | `service_id`, `date`     |\n",
    "| `shapes.txt`         | Géométrie des trajets (polylignes) *(facultatif, utile pour la carte)* | `shape_id`               |\n",
    "\n",
    "**Relations clés (simplifiées)**\n",
    "`routes (route_id) ⟵ trips (route_id, trip_id) ⟵ stop_times (trip_id, stop_id) ⟶ stops (stop_id)`\n",
    "\n",
    "**Particularités à connaître**\n",
    "\n",
    "* Les horaires sont au format `HH:MM:SS` et peuvent **dépasser 24h** (ex. `25:12:00` pour un service après minuit).\n",
    "* Les arrêts peuvent avoir des **relations parent/enfant** (`parent_station`) ; ici, on reste à l’échelle `stop_id`.\n",
    "* `route_type` suit un code standard (0=tram, 1=métro, 2=train, 3=bus, 4=ferry…).\n",
    "* Le GTFS **ne contient pas** de projection : les coordonnées des arrêts sont en **WGS84** (lat/lon).\n",
    "* **Période de validité** : toujours vérifier les dates publiées avec la source."
   ]
  },
  {
   "cell_type": "markdown",
   "id": "b3cd371f",
   "metadata": {},
   "source": [
    "## Sources\n",
    "\n",
    "Ce fichier GTFS fait partie du jeu de données \"Réseaux urbains de la Métropole Aix-Marseille-Provence\". Il couvre les réseaux exploités par la RTM (Régie des Transports Métropolitains).\n",
    "\n",
    "**Informations générales :**\n",
    "\n",
    "* Réseau concerné : RTM\n",
    "* Modes de transport couverts : bus, ferry, métro, tramway\n",
    "* Nombre de lignes : 130\n",
    "* Nombre de points d'arrêt : 2 677\n",
    "* Nombre de zones d'arrêt : 0\n",
    "* Données GTFS téléchargées depuis : [https://transport.data.gouv.fr/datasets/reseau-rtm-gtfs/](https://transport.data.gouv.fr/datasets/reseau-rtm-gtfs/)\n",
    "* Format : archive `.zip` contenant des fichiers `.txt` structurés.\n",
    "* **Période de validité des données : du 6 juin 2025 au 5 août 2025**"
   ]
  },
  {
   "cell_type": "markdown",
   "id": "cbf24eec",
   "metadata": {},
   "source": [
    "## Préparation & configuration"
   ]
  },
  {
   "cell_type": "code",
   "execution_count": 17,
   "id": "83946710",
   "metadata": {},
   "outputs": [],
   "source": [
    "# Importation des bibliothèques necessaires\n",
    "import pandas as pd\n",
    "import geopandas as gpd\n",
    "from shapely.geometry import Point\n",
    "from pathlib import Path\n",
    "\n",
    "# Paramètres centralisés (déjà existants dans ton projet)\n",
    "from config import OUTPUT_DIR, city, cadre_file"
   ]
  },
  {
   "cell_type": "code",
   "execution_count": null,
   "id": "330477eb",
   "metadata": {},
   "outputs": [],
   "source": [
    "base_path = Path(\"..\") / \"proxy\" / \"data\" / \"raw\" /\"transport\" / \"mamp-all.gtfs\""
   ]
  },
  {
   "cell_type": "code",
   "execution_count": 19,
   "id": "ca08b79f",
   "metadata": {},
   "outputs": [
    {
     "name": "stdout",
     "output_type": "stream",
     "text": [
      "GTFS dir      : ..\\proxy\\data\\raw\\transport\\mamp-all.gtfs\n",
      "Sortie GPKG   : ..\\proxy\\data\\processed\\overpass_results_Marseille\n",
      "Ville         : Marseille\n",
      "Cadre (fichier): ..\\proxy\\data\\raw\\insee\\CadreMarseille.shp\n"
     ]
    }
   ],
   "source": [
    "# Affichage chemin de fichiers\n",
    "print(\"GTFS dir      :\", base_path)\n",
    "print(\"Sortie GPKG   :\", OUTPUT_DIR)\n",
    "print(\"Ville         :\", city)\n",
    "print(\"Cadre (fichier):\", cadre_file)"
   ]
  },
  {
   "cell_type": "markdown",
   "id": "a0cf4c2d",
   "metadata": {},
   "source": [
    "## Lecture des fichiers GTFS + contrôles rapides"
   ]
  },
  {
   "cell_type": "code",
   "execution_count": 20,
   "id": "54a34f5b",
   "metadata": {},
   "outputs": [
    {
     "name": "stderr",
     "output_type": "stream",
     "text": [
      "C:\\Users\\hazim\\AppData\\Local\\Temp\\ipykernel_24040\\1191352773.py:5: DtypeWarning: Columns (5) have mixed types. Specify dtype option on import or set low_memory=False.\n",
      "  stop_times = pd.read_csv(base_path / \"stop_times.txt\")\n"
     ]
    },
    {
     "name": "stdout",
     "output_type": "stream",
     "text": [
      "stops      - shape=(16548, 15) - missing=set()\n",
      "routes     - shape=(820, 13) - missing=set()\n",
      "trips      - shape=(96160, 11) - missing=set()\n",
      "stop_times - shape=(2092782, 10) - missing=set()\n"
     ]
    }
   ],
   "source": [
    "# Lecture \n",
    "stops      = pd.read_csv(base_path / \"stops.txt\")\n",
    "routes     = pd.read_csv(base_path / \"routes.txt\")\n",
    "trips      = pd.read_csv(base_path / \"trips.txt\")\n",
    "stop_times = pd.read_csv(base_path / \"stop_times.txt\")\n",
    "\n",
    "# Colonnes minimales \n",
    "required_cols = {\n",
    "    \"stops\"     : {\"stop_id\", \"stop_name\", \"stop_lat\", \"stop_lon\"},\n",
    "    \"routes\"    : {\"route_id\", \"route_type\"},\n",
    "    \"trips\"     : {\"trip_id\", \"route_id\"},\n",
    "    \"stop_times\": {\"stop_id\", \"trip_id\", \"stop_sequence\", \"arrival_time\", \"departure_time\"},\n",
    "}\n",
    "datasets = {\"stops\": stops, \"routes\": routes, \"trips\": trips, \"stop_times\": stop_times}\n",
    "\n",
    "for name, df in datasets.items():\n",
    "    missing = required_cols[name] - set(df.columns)\n",
    "    print(f\"{name:10s} - shape={df.shape} - missing={missing}\")"
   ]
  },
  {
   "cell_type": "code",
   "execution_count": 21,
   "id": "51b91252",
   "metadata": {},
   "outputs": [
    {
     "data": {
      "application/vnd.microsoft.datawrangler.viewer.v0+json": {
       "columns": [
        {
         "name": "index",
         "rawType": "int64",
         "type": "integer"
        },
        {
         "name": "stop_id",
         "rawType": "object",
         "type": "string"
        },
        {
         "name": "stop_code",
         "rawType": "object",
         "type": "unknown"
        },
        {
         "name": "stop_name",
         "rawType": "object",
         "type": "string"
        },
        {
         "name": "stop_desc",
         "rawType": "object",
         "type": "unknown"
        },
        {
         "name": "stop_lat",
         "rawType": "float64",
         "type": "float"
        },
        {
         "name": "stop_lon",
         "rawType": "float64",
         "type": "float"
        },
        {
         "name": "zone_id",
         "rawType": "float64",
         "type": "float"
        },
        {
         "name": "stop_url",
         "rawType": "float64",
         "type": "float"
        },
        {
         "name": "location_type",
         "rawType": "int64",
         "type": "integer"
        },
        {
         "name": "parent_station",
         "rawType": "object",
         "type": "unknown"
        },
        {
         "name": "wheelchair_boarding",
         "rawType": "int64",
         "type": "integer"
        },
        {
         "name": "import_id",
         "rawType": "object",
         "type": "unknown"
        },
        {
         "name": "city_name",
         "rawType": "object",
         "type": "string"
        },
        {
         "name": "ext_netex_id",
         "rawType": "object",
         "type": "unknown"
        },
        {
         "name": "postal_code",
         "rawType": "float64",
         "type": "float"
        }
       ],
       "ref": "8757feab-806e-4370-9d47-6830de59e163",
       "rows": [
        [
         "0",
         "AST-AIX-21230-AIX-24090",
         null,
         "08 mai 1945",
         null,
         "43.522967",
         "5.432991",
         null,
         null,
         "1",
         null,
         "0",
         null,
         "Aix-en-Provence",
         null,
         null
        ],
        [
         "1",
         "MAMP-S30245",
         "30245",
         "08-mai-45",
         null,
         "43.4563115",
         "5.558428",
         null,
         null,
         "1",
         null,
         "0",
         null,
         "Fuveau",
         null,
         null
        ],
        [
         "2",
         "MAMP-S31127",
         "31127",
         "08-mai-45",
         null,
         "43.458669",
         "5.4787435",
         null,
         null,
         "1",
         null,
         "0",
         null,
         "Gardanne",
         null,
         null
        ]
       ],
       "shape": {
        "columns": 15,
        "rows": 3
       }
      },
      "text/html": [
       "<div>\n",
       "<style scoped>\n",
       "    .dataframe tbody tr th:only-of-type {\n",
       "        vertical-align: middle;\n",
       "    }\n",
       "\n",
       "    .dataframe tbody tr th {\n",
       "        vertical-align: top;\n",
       "    }\n",
       "\n",
       "    .dataframe thead th {\n",
       "        text-align: right;\n",
       "    }\n",
       "</style>\n",
       "<table border=\"1\" class=\"dataframe\">\n",
       "  <thead>\n",
       "    <tr style=\"text-align: right;\">\n",
       "      <th></th>\n",
       "      <th>stop_id</th>\n",
       "      <th>stop_code</th>\n",
       "      <th>stop_name</th>\n",
       "      <th>stop_desc</th>\n",
       "      <th>stop_lat</th>\n",
       "      <th>stop_lon</th>\n",
       "      <th>zone_id</th>\n",
       "      <th>stop_url</th>\n",
       "      <th>location_type</th>\n",
       "      <th>parent_station</th>\n",
       "      <th>wheelchair_boarding</th>\n",
       "      <th>import_id</th>\n",
       "      <th>city_name</th>\n",
       "      <th>ext_netex_id</th>\n",
       "      <th>postal_code</th>\n",
       "    </tr>\n",
       "  </thead>\n",
       "  <tbody>\n",
       "    <tr>\n",
       "      <th>0</th>\n",
       "      <td>AST-AIX-21230-AIX-24090</td>\n",
       "      <td>NaN</td>\n",
       "      <td>08 mai 1945</td>\n",
       "      <td>NaN</td>\n",
       "      <td>43.522967</td>\n",
       "      <td>5.432991</td>\n",
       "      <td>NaN</td>\n",
       "      <td>NaN</td>\n",
       "      <td>1</td>\n",
       "      <td>NaN</td>\n",
       "      <td>0</td>\n",
       "      <td>NaN</td>\n",
       "      <td>Aix-en-Provence</td>\n",
       "      <td>NaN</td>\n",
       "      <td>NaN</td>\n",
       "    </tr>\n",
       "    <tr>\n",
       "      <th>1</th>\n",
       "      <td>MAMP-S30245</td>\n",
       "      <td>30245</td>\n",
       "      <td>08-mai-45</td>\n",
       "      <td>NaN</td>\n",
       "      <td>43.456311</td>\n",
       "      <td>5.558428</td>\n",
       "      <td>NaN</td>\n",
       "      <td>NaN</td>\n",
       "      <td>1</td>\n",
       "      <td>NaN</td>\n",
       "      <td>0</td>\n",
       "      <td>NaN</td>\n",
       "      <td>Fuveau</td>\n",
       "      <td>NaN</td>\n",
       "      <td>NaN</td>\n",
       "    </tr>\n",
       "    <tr>\n",
       "      <th>2</th>\n",
       "      <td>MAMP-S31127</td>\n",
       "      <td>31127</td>\n",
       "      <td>08-mai-45</td>\n",
       "      <td>NaN</td>\n",
       "      <td>43.458669</td>\n",
       "      <td>5.478744</td>\n",
       "      <td>NaN</td>\n",
       "      <td>NaN</td>\n",
       "      <td>1</td>\n",
       "      <td>NaN</td>\n",
       "      <td>0</td>\n",
       "      <td>NaN</td>\n",
       "      <td>Gardanne</td>\n",
       "      <td>NaN</td>\n",
       "      <td>NaN</td>\n",
       "    </tr>\n",
       "  </tbody>\n",
       "</table>\n",
       "</div>"
      ],
      "text/plain": [
       "                   stop_id stop_code    stop_name stop_desc   stop_lat  \\\n",
       "0  AST-AIX-21230-AIX-24090       NaN  08 mai 1945       NaN  43.522967   \n",
       "1              MAMP-S30245     30245    08-mai-45       NaN  43.456311   \n",
       "2              MAMP-S31127     31127    08-mai-45       NaN  43.458669   \n",
       "\n",
       "   stop_lon  zone_id  stop_url  location_type parent_station  \\\n",
       "0  5.432991      NaN       NaN              1            NaN   \n",
       "1  5.558428      NaN       NaN              1            NaN   \n",
       "2  5.478744      NaN       NaN              1            NaN   \n",
       "\n",
       "   wheelchair_boarding import_id        city_name ext_netex_id  postal_code  \n",
       "0                    0       NaN  Aix-en-Provence          NaN          NaN  \n",
       "1                    0       NaN           Fuveau          NaN          NaN  \n",
       "2                    0       NaN         Gardanne          NaN          NaN  "
      ]
     },
     "metadata": {},
     "output_type": "display_data"
    },
    {
     "data": {
      "application/vnd.microsoft.datawrangler.viewer.v0+json": {
       "columns": [
        {
         "name": "index",
         "rawType": "int64",
         "type": "integer"
        },
        {
         "name": "route_id",
         "rawType": "object",
         "type": "string"
        },
        {
         "name": "agency_id",
         "rawType": "object",
         "type": "string"
        },
        {
         "name": "route_short_name",
         "rawType": "object",
         "type": "string"
        },
        {
         "name": "route_long_name",
         "rawType": "object",
         "type": "string"
        },
        {
         "name": "route_desc",
         "rawType": "object",
         "type": "unknown"
        },
        {
         "name": "route_type",
         "rawType": "int64",
         "type": "integer"
        },
        {
         "name": "route_color",
         "rawType": "object",
         "type": "string"
        },
        {
         "name": "route_text_color",
         "rawType": "object",
         "type": "string"
        },
        {
         "name": "route_sort_order",
         "rawType": "float64",
         "type": "float"
        },
        {
         "name": "direction0_name",
         "rawType": "object",
         "type": "string"
        },
        {
         "name": "direction1_name",
         "rawType": "object",
         "type": "string"
        },
        {
         "name": "route_group",
         "rawType": "float64",
         "type": "float"
        },
        {
         "name": "import_id",
         "rawType": "object",
         "type": "unknown"
        }
       ],
       "ref": "621d929e-ffb2-4344-90b3-d9cc085f814a",
       "rows": [
        [
         "0",
         "ULY-1BIS",
         "ULY",
         "1BIS",
         "Ligne 1Bis",
         null,
         "3",
         "6ABC87",
         "FFFFFF",
         null,
         "Istres",
         "Miramas / Istres / Fos-sur-Mer",
         null,
         null
        ],
        [
         "1",
         "ENV-1",
         "ENV",
         "1",
         "1 - Gare SNCF <> Barriol",
         "1",
         "3",
         "FF0000",
         "ffffff",
         null,
         "Gare SNCF",
         "Barriol",
         null,
         "38"
        ],
        [
         "2",
         "BDE-1",
         "BDE",
         "1",
         "Avenue Général Leclerc - Gare Saint-Antoine",
         null,
         "3",
         "FFD800",
         "000000",
         null,
         "Marseille",
         "Les Pennes-Mirabeau",
         null,
         null
        ]
       ],
       "shape": {
        "columns": 13,
        "rows": 3
       }
      },
      "text/html": [
       "<div>\n",
       "<style scoped>\n",
       "    .dataframe tbody tr th:only-of-type {\n",
       "        vertical-align: middle;\n",
       "    }\n",
       "\n",
       "    .dataframe tbody tr th {\n",
       "        vertical-align: top;\n",
       "    }\n",
       "\n",
       "    .dataframe thead th {\n",
       "        text-align: right;\n",
       "    }\n",
       "</style>\n",
       "<table border=\"1\" class=\"dataframe\">\n",
       "  <thead>\n",
       "    <tr style=\"text-align: right;\">\n",
       "      <th></th>\n",
       "      <th>route_id</th>\n",
       "      <th>agency_id</th>\n",
       "      <th>route_short_name</th>\n",
       "      <th>route_long_name</th>\n",
       "      <th>route_desc</th>\n",
       "      <th>route_type</th>\n",
       "      <th>route_color</th>\n",
       "      <th>route_text_color</th>\n",
       "      <th>route_sort_order</th>\n",
       "      <th>direction0_name</th>\n",
       "      <th>direction1_name</th>\n",
       "      <th>route_group</th>\n",
       "      <th>import_id</th>\n",
       "    </tr>\n",
       "  </thead>\n",
       "  <tbody>\n",
       "    <tr>\n",
       "      <th>0</th>\n",
       "      <td>ULY-1BIS</td>\n",
       "      <td>ULY</td>\n",
       "      <td>1BIS</td>\n",
       "      <td>Ligne 1Bis</td>\n",
       "      <td>NaN</td>\n",
       "      <td>3</td>\n",
       "      <td>6ABC87</td>\n",
       "      <td>FFFFFF</td>\n",
       "      <td>NaN</td>\n",
       "      <td>Istres</td>\n",
       "      <td>Miramas / Istres / Fos-sur-Mer</td>\n",
       "      <td>NaN</td>\n",
       "      <td>NaN</td>\n",
       "    </tr>\n",
       "    <tr>\n",
       "      <th>1</th>\n",
       "      <td>ENV-1</td>\n",
       "      <td>ENV</td>\n",
       "      <td>1</td>\n",
       "      <td>1 - Gare SNCF &lt;&gt; Barriol</td>\n",
       "      <td>1</td>\n",
       "      <td>3</td>\n",
       "      <td>FF0000</td>\n",
       "      <td>ffffff</td>\n",
       "      <td>NaN</td>\n",
       "      <td>Gare SNCF</td>\n",
       "      <td>Barriol</td>\n",
       "      <td>NaN</td>\n",
       "      <td>38</td>\n",
       "    </tr>\n",
       "    <tr>\n",
       "      <th>2</th>\n",
       "      <td>BDE-1</td>\n",
       "      <td>BDE</td>\n",
       "      <td>1</td>\n",
       "      <td>Avenue Général Leclerc - Gare Saint-Antoine</td>\n",
       "      <td>NaN</td>\n",
       "      <td>3</td>\n",
       "      <td>FFD800</td>\n",
       "      <td>000000</td>\n",
       "      <td>NaN</td>\n",
       "      <td>Marseille</td>\n",
       "      <td>Les Pennes-Mirabeau</td>\n",
       "      <td>NaN</td>\n",
       "      <td>NaN</td>\n",
       "    </tr>\n",
       "  </tbody>\n",
       "</table>\n",
       "</div>"
      ],
      "text/plain": [
       "   route_id agency_id route_short_name  \\\n",
       "0  ULY-1BIS       ULY             1BIS   \n",
       "1     ENV-1       ENV                1   \n",
       "2     BDE-1       BDE                1   \n",
       "\n",
       "                               route_long_name route_desc  route_type  \\\n",
       "0                                   Ligne 1Bis        NaN           3   \n",
       "1                     1 - Gare SNCF <> Barriol          1           3   \n",
       "2  Avenue Général Leclerc - Gare Saint-Antoine        NaN           3   \n",
       "\n",
       "  route_color route_text_color  route_sort_order direction0_name  \\\n",
       "0      6ABC87           FFFFFF               NaN          Istres   \n",
       "1      FF0000           ffffff               NaN       Gare SNCF   \n",
       "2      FFD800           000000               NaN       Marseille   \n",
       "\n",
       "                  direction1_name  route_group import_id  \n",
       "0  Miramas / Istres / Fos-sur-Mer          NaN       NaN  \n",
       "1                         Barriol          NaN        38  \n",
       "2             Les Pennes-Mirabeau          NaN       NaN  "
      ]
     },
     "metadata": {},
     "output_type": "display_data"
    },
    {
     "data": {
      "application/vnd.microsoft.datawrangler.viewer.v0+json": {
       "columns": [
        {
         "name": "index",
         "rawType": "int64",
         "type": "integer"
        },
        {
         "name": "route_id",
         "rawType": "object",
         "type": "string"
        },
        {
         "name": "service_id",
         "rawType": "object",
         "type": "string"
        },
        {
         "name": "trip_id",
         "rawType": "object",
         "type": "string"
        },
        {
         "name": "trip_headsign",
         "rawType": "object",
         "type": "string"
        },
        {
         "name": "trip_short_name",
         "rawType": "object",
         "type": "string"
        },
        {
         "name": "direction_id",
         "rawType": "int64",
         "type": "integer"
        },
        {
         "name": "block_id",
         "rawType": "float64",
         "type": "float"
        },
        {
         "name": "shape_id",
         "rawType": "object",
         "type": "unknown"
        },
        {
         "name": "wheelchair_accessible",
         "rawType": "int64",
         "type": "integer"
        },
        {
         "name": "bikes_allowed",
         "rawType": "int64",
         "type": "integer"
        },
        {
         "name": "import_id",
         "rawType": "float64",
         "type": "float"
        }
       ],
       "ref": "b9841d0f-240f-4347-8745-7af88c18207a",
       "rows": [
        [
         "0",
         "ULY-1BIS",
         "ULY-18663",
         "ULY-1BISx1Ax3x1",
         "Istres",
         "Course 1",
         "0",
         null,
         null,
         "0",
         "0",
         null
        ],
        [
         "1",
         "ULY-1BIS",
         "ULY-18672",
         "ULY-1BISx1Rx1x1",
         "Istres",
         "Course 1",
         "0",
         null,
         null,
         "0",
         "0",
         null
        ],
        [
         "2",
         "ULY-1BIS",
         "ULY-18663",
         "ULY-1BISx5Rx2x1",
         "Istres",
         "Course 1",
         "0",
         null,
         null,
         "0",
         "0",
         null
        ]
       ],
       "shape": {
        "columns": 11,
        "rows": 3
       }
      },
      "text/html": [
       "<div>\n",
       "<style scoped>\n",
       "    .dataframe tbody tr th:only-of-type {\n",
       "        vertical-align: middle;\n",
       "    }\n",
       "\n",
       "    .dataframe tbody tr th {\n",
       "        vertical-align: top;\n",
       "    }\n",
       "\n",
       "    .dataframe thead th {\n",
       "        text-align: right;\n",
       "    }\n",
       "</style>\n",
       "<table border=\"1\" class=\"dataframe\">\n",
       "  <thead>\n",
       "    <tr style=\"text-align: right;\">\n",
       "      <th></th>\n",
       "      <th>route_id</th>\n",
       "      <th>service_id</th>\n",
       "      <th>trip_id</th>\n",
       "      <th>trip_headsign</th>\n",
       "      <th>trip_short_name</th>\n",
       "      <th>direction_id</th>\n",
       "      <th>block_id</th>\n",
       "      <th>shape_id</th>\n",
       "      <th>wheelchair_accessible</th>\n",
       "      <th>bikes_allowed</th>\n",
       "      <th>import_id</th>\n",
       "    </tr>\n",
       "  </thead>\n",
       "  <tbody>\n",
       "    <tr>\n",
       "      <th>0</th>\n",
       "      <td>ULY-1BIS</td>\n",
       "      <td>ULY-18663</td>\n",
       "      <td>ULY-1BISx1Ax3x1</td>\n",
       "      <td>Istres</td>\n",
       "      <td>Course 1</td>\n",
       "      <td>0</td>\n",
       "      <td>NaN</td>\n",
       "      <td>NaN</td>\n",
       "      <td>0</td>\n",
       "      <td>0</td>\n",
       "      <td>NaN</td>\n",
       "    </tr>\n",
       "    <tr>\n",
       "      <th>1</th>\n",
       "      <td>ULY-1BIS</td>\n",
       "      <td>ULY-18672</td>\n",
       "      <td>ULY-1BISx1Rx1x1</td>\n",
       "      <td>Istres</td>\n",
       "      <td>Course 1</td>\n",
       "      <td>0</td>\n",
       "      <td>NaN</td>\n",
       "      <td>NaN</td>\n",
       "      <td>0</td>\n",
       "      <td>0</td>\n",
       "      <td>NaN</td>\n",
       "    </tr>\n",
       "    <tr>\n",
       "      <th>2</th>\n",
       "      <td>ULY-1BIS</td>\n",
       "      <td>ULY-18663</td>\n",
       "      <td>ULY-1BISx5Rx2x1</td>\n",
       "      <td>Istres</td>\n",
       "      <td>Course 1</td>\n",
       "      <td>0</td>\n",
       "      <td>NaN</td>\n",
       "      <td>NaN</td>\n",
       "      <td>0</td>\n",
       "      <td>0</td>\n",
       "      <td>NaN</td>\n",
       "    </tr>\n",
       "  </tbody>\n",
       "</table>\n",
       "</div>"
      ],
      "text/plain": [
       "   route_id service_id          trip_id trip_headsign trip_short_name  \\\n",
       "0  ULY-1BIS  ULY-18663  ULY-1BISx1Ax3x1        Istres        Course 1   \n",
       "1  ULY-1BIS  ULY-18672  ULY-1BISx1Rx1x1        Istres        Course 1   \n",
       "2  ULY-1BIS  ULY-18663  ULY-1BISx5Rx2x1        Istres        Course 1   \n",
       "\n",
       "   direction_id  block_id shape_id  wheelchair_accessible  bikes_allowed  \\\n",
       "0             0       NaN      NaN                      0              0   \n",
       "1             0       NaN      NaN                      0              0   \n",
       "2             0       NaN      NaN                      0              0   \n",
       "\n",
       "   import_id  \n",
       "0        NaN  \n",
       "1        NaN  \n",
       "2        NaN  "
      ]
     },
     "metadata": {},
     "output_type": "display_data"
    },
    {
     "data": {
      "application/vnd.microsoft.datawrangler.viewer.v0+json": {
       "columns": [
        {
         "name": "index",
         "rawType": "int64",
         "type": "integer"
        },
        {
         "name": "trip_id",
         "rawType": "object",
         "type": "string"
        },
        {
         "name": "arrival_time",
         "rawType": "object",
         "type": "string"
        },
        {
         "name": "departure_time",
         "rawType": "object",
         "type": "string"
        },
        {
         "name": "stop_id",
         "rawType": "object",
         "type": "string"
        },
        {
         "name": "stop_sequence",
         "rawType": "int64",
         "type": "integer"
        },
        {
         "name": "stop_headsign",
         "rawType": "object",
         "type": "unknown"
        },
        {
         "name": "pickup_type",
         "rawType": "int64",
         "type": "integer"
        },
        {
         "name": "drop_off_type",
         "rawType": "int64",
         "type": "integer"
        },
        {
         "name": "shape_dist_traveled",
         "rawType": "float64",
         "type": "float"
        },
        {
         "name": "timepoint",
         "rawType": "int64",
         "type": "integer"
        }
       ],
       "ref": "5d2fef48-e502-4a22-8537-204f700262fa",
       "rows": [
        [
         "0",
         "ULY-1BISx1Ax3x1",
         "06:40:00",
         "06:40:00",
         "MAMP-22529",
         "0",
         null,
         "0",
         "0",
         null,
         "1"
        ],
        [
         "1",
         "ULY-1BISx1Ax3x1",
         "06:42:00",
         "06:42:00",
         "MAMP-20583",
         "1",
         null,
         "0",
         "0",
         null,
         "1"
        ],
        [
         "2",
         "ULY-1BISx1Ax3x1",
         "06:44:00",
         "06:44:00",
         "MAMP-25434",
         "2",
         null,
         "0",
         "0",
         null,
         "1"
        ]
       ],
       "shape": {
        "columns": 10,
        "rows": 3
       }
      },
      "text/html": [
       "<div>\n",
       "<style scoped>\n",
       "    .dataframe tbody tr th:only-of-type {\n",
       "        vertical-align: middle;\n",
       "    }\n",
       "\n",
       "    .dataframe tbody tr th {\n",
       "        vertical-align: top;\n",
       "    }\n",
       "\n",
       "    .dataframe thead th {\n",
       "        text-align: right;\n",
       "    }\n",
       "</style>\n",
       "<table border=\"1\" class=\"dataframe\">\n",
       "  <thead>\n",
       "    <tr style=\"text-align: right;\">\n",
       "      <th></th>\n",
       "      <th>trip_id</th>\n",
       "      <th>arrival_time</th>\n",
       "      <th>departure_time</th>\n",
       "      <th>stop_id</th>\n",
       "      <th>stop_sequence</th>\n",
       "      <th>stop_headsign</th>\n",
       "      <th>pickup_type</th>\n",
       "      <th>drop_off_type</th>\n",
       "      <th>shape_dist_traveled</th>\n",
       "      <th>timepoint</th>\n",
       "    </tr>\n",
       "  </thead>\n",
       "  <tbody>\n",
       "    <tr>\n",
       "      <th>0</th>\n",
       "      <td>ULY-1BISx1Ax3x1</td>\n",
       "      <td>06:40:00</td>\n",
       "      <td>06:40:00</td>\n",
       "      <td>MAMP-22529</td>\n",
       "      <td>0</td>\n",
       "      <td>NaN</td>\n",
       "      <td>0</td>\n",
       "      <td>0</td>\n",
       "      <td>NaN</td>\n",
       "      <td>1</td>\n",
       "    </tr>\n",
       "    <tr>\n",
       "      <th>1</th>\n",
       "      <td>ULY-1BISx1Ax3x1</td>\n",
       "      <td>06:42:00</td>\n",
       "      <td>06:42:00</td>\n",
       "      <td>MAMP-20583</td>\n",
       "      <td>1</td>\n",
       "      <td>NaN</td>\n",
       "      <td>0</td>\n",
       "      <td>0</td>\n",
       "      <td>NaN</td>\n",
       "      <td>1</td>\n",
       "    </tr>\n",
       "    <tr>\n",
       "      <th>2</th>\n",
       "      <td>ULY-1BISx1Ax3x1</td>\n",
       "      <td>06:44:00</td>\n",
       "      <td>06:44:00</td>\n",
       "      <td>MAMP-25434</td>\n",
       "      <td>2</td>\n",
       "      <td>NaN</td>\n",
       "      <td>0</td>\n",
       "      <td>0</td>\n",
       "      <td>NaN</td>\n",
       "      <td>1</td>\n",
       "    </tr>\n",
       "  </tbody>\n",
       "</table>\n",
       "</div>"
      ],
      "text/plain": [
       "           trip_id arrival_time departure_time     stop_id  stop_sequence  \\\n",
       "0  ULY-1BISx1Ax3x1     06:40:00       06:40:00  MAMP-22529              0   \n",
       "1  ULY-1BISx1Ax3x1     06:42:00       06:42:00  MAMP-20583              1   \n",
       "2  ULY-1BISx1Ax3x1     06:44:00       06:44:00  MAMP-25434              2   \n",
       "\n",
       "  stop_headsign  pickup_type  drop_off_type  shape_dist_traveled  timepoint  \n",
       "0           NaN            0              0                  NaN          1  \n",
       "1           NaN            0              0                  NaN          1  \n",
       "2           NaN            0              0                  NaN          1  "
      ]
     },
     "metadata": {},
     "output_type": "display_data"
    }
   ],
   "source": [
    "# Affichage de quelques lignes\n",
    "display(stops.head(3))\n",
    "display(routes.head(3))\n",
    "display(trips.head(3))\n",
    "display(stop_times.head(3))"
   ]
  },
  {
   "cell_type": "markdown",
   "id": "79eff89a",
   "metadata": {},
   "source": [
    "##  Vérifications (intégrité + horaires)\n",
    "\n",
    "### Intégrité référentielle minimale"
   ]
  },
  {
   "cell_type": "code",
   "execution_count": 22,
   "id": "adbdc416",
   "metadata": {},
   "outputs": [
    {
     "name": "stdout",
     "output_type": "stream",
     "text": [
      "trip_id inconnus dans stop_times: 0\n",
      "route_id inconnus dans trips   : 0\n"
     ]
    }
   ],
   "source": [
    "# Chaque trip_id de stop_times doit exister dans trips\n",
    "unknown_trips = stop_times[~stop_times[\"trip_id\"].isin(trips[\"trip_id\"])].shape[0]\n",
    "# Chaque route_id de trips doit exister dans routes\n",
    "unknown_routes = trips[~trips[\"route_id\"].isin(routes[\"route_id\"])].shape[0]\n",
    "\n",
    "print(\"trip_id inconnus dans stop_times:\", unknown_trips)\n",
    "print(\"route_id inconnus dans trips   :\", unknown_routes)"
   ]
  },
  {
   "cell_type": "markdown",
   "id": "92836aad",
   "metadata": {},
   "source": [
    "Si >0, le jeu est inconsistant (ou incomplet) → consigner/traiter selon besoin."
   ]
  },
  {
   "cell_type": "markdown",
   "id": "12b7d055",
   "metadata": {},
   "source": [
    "### 3.2 Horaires > 24h (pédago)"
   ]
  },
  {
   "cell_type": "code",
   "execution_count": 23,
   "id": "9ac5b715",
   "metadata": {},
   "outputs": [
    {
     "name": "stdout",
     "output_type": "stream",
     "text": [
      "Exemples d'horaires: ['06:40:00', '06:42:00', '06:44:00', '06:47:00', '06:48:00']\n",
      "En secondes        : [24000, 24120, 24240, 24420, 24480]\n"
     ]
    }
   ],
   "source": [
    "def hhmmss_to_seconds(hms: str) -> int:\n",
    "    \"\"\"Transforme HH:MM:SS en secondes, supporte HH >= 24.\"\"\"\n",
    "    h, m, s = map(int, hms.split(\":\"))\n",
    "    return h*3600 + m*60 + s\n",
    "\n",
    "sample_times = stop_times[\"arrival_time\"].dropna().head(5).tolist()\n",
    "print(\"Exemples d'horaires:\", sample_times)\n",
    "print(\"En secondes        :\", [hhmmss_to_seconds(t) for t in sample_times])"
   ]
  },
  {
   "cell_type": "markdown",
   "id": "72d90e72",
   "metadata": {},
   "source": [
    "> *Pourquoi utile ?* Pour des analyses de fréquences/amplitudes, mieux vaut convertir en secondes (gère proprement le >24h)."
   ]
  },
  {
   "cell_type": "markdown",
   "id": "9f86931b",
   "metadata": {},
   "source": [
    "## Chaînage logique — type majoritaire par arrêt\n",
    "\n",
    "On détermine, pour chaque `stop_id`, le **mode qui passe le plus souvent** (bus/tram/métro)."
   ]
  },
  {
   "cell_type": "code",
   "execution_count": 25,
   "id": "7ef43b24",
   "metadata": {},
   "outputs": [],
   "source": [
    "# Liaison stop_times → trips → routes\n",
    "stop_trip   = stop_times[[\"stop_id\", \"trip_id\"]].drop_duplicates()\n",
    "trip_route  = trips[[\"trip_id\", \"route_id\"]]\n",
    "route_type  = routes[[\"route_id\", \"route_type\"]]\n",
    "\n",
    "stops_type  = stop_trip.merge(trip_route, on=\"trip_id\", how=\"left\")\n",
    "stops_type  = stops_type.merge(route_type, on=\"route_id\", how=\"left\")"
   ]
  },
  {
   "cell_type": "code",
   "execution_count": 26,
   "id": "028b454d",
   "metadata": {},
   "outputs": [
    {
     "name": "stdout",
     "output_type": "stream",
     "text": [
      "stop_id sans route_type (après jointures) : 0\n"
     ]
    },
    {
     "data": {
      "application/vnd.microsoft.datawrangler.viewer.v0+json": {
       "columns": [
        {
         "name": "index",
         "rawType": "int64",
         "type": "integer"
        },
        {
         "name": "stop_id",
         "rawType": "object",
         "type": "string"
        },
        {
         "name": "route_type",
         "rawType": "int64",
         "type": "integer"
        }
       ],
       "ref": "2f814520-2a64-4c96-94d0-79bfbaf6f5e5",
       "rows": [
        [
         "0",
         "AIX-00026",
         "3"
        ],
        [
         "1",
         "AIX-10006",
         "3"
        ],
        [
         "2",
         "AIX-12744",
         "3"
        ],
        [
         "3",
         "AIX-12745",
         "3"
        ],
        [
         "4",
         "AIX-15109",
         "3"
        ]
       ],
       "shape": {
        "columns": 2,
        "rows": 5
       }
      },
      "text/html": [
       "<div>\n",
       "<style scoped>\n",
       "    .dataframe tbody tr th:only-of-type {\n",
       "        vertical-align: middle;\n",
       "    }\n",
       "\n",
       "    .dataframe tbody tr th {\n",
       "        vertical-align: top;\n",
       "    }\n",
       "\n",
       "    .dataframe thead th {\n",
       "        text-align: right;\n",
       "    }\n",
       "</style>\n",
       "<table border=\"1\" class=\"dataframe\">\n",
       "  <thead>\n",
       "    <tr style=\"text-align: right;\">\n",
       "      <th></th>\n",
       "      <th>stop_id</th>\n",
       "      <th>route_type</th>\n",
       "    </tr>\n",
       "  </thead>\n",
       "  <tbody>\n",
       "    <tr>\n",
       "      <th>0</th>\n",
       "      <td>AIX-00026</td>\n",
       "      <td>3</td>\n",
       "    </tr>\n",
       "    <tr>\n",
       "      <th>1</th>\n",
       "      <td>AIX-10006</td>\n",
       "      <td>3</td>\n",
       "    </tr>\n",
       "    <tr>\n",
       "      <th>2</th>\n",
       "      <td>AIX-12744</td>\n",
       "      <td>3</td>\n",
       "    </tr>\n",
       "    <tr>\n",
       "      <th>3</th>\n",
       "      <td>AIX-12745</td>\n",
       "      <td>3</td>\n",
       "    </tr>\n",
       "    <tr>\n",
       "      <th>4</th>\n",
       "      <td>AIX-15109</td>\n",
       "      <td>3</td>\n",
       "    </tr>\n",
       "  </tbody>\n",
       "</table>\n",
       "</div>"
      ],
      "text/plain": [
       "     stop_id  route_type\n",
       "0  AIX-00026           3\n",
       "1  AIX-10006           3\n",
       "2  AIX-12744           3\n",
       "3  AIX-12745           3\n",
       "4  AIX-15109           3"
      ]
     },
     "execution_count": 26,
     "metadata": {},
     "output_type": "execute_result"
    }
   ],
   "source": [
    "# Type majoritaire par stop_id\n",
    "mode_per_stop = (\n",
    "    stops_type\n",
    "    .groupby(\"stop_id\")[\"route_type\"]\n",
    "    .agg(lambda s: s.value_counts(dropna=True).idxmax())\n",
    "    .reset_index()\n",
    ")\n",
    "\n",
    "missing_rt = mode_per_stop[\"route_type\"].isna().sum()\n",
    "print(\"stop_id sans route_type (après jointures) :\", missing_rt)\n",
    "mode_per_stop.head()"
   ]
  },
  {
   "cell_type": "markdown",
   "id": "5a8cb3e2",
   "metadata": {},
   "source": [
    "## Typage clair (mapping route_type → libellé)"
   ]
  },
  {
   "cell_type": "code",
   "execution_count": 27,
   "id": "4cbbdfd0",
   "metadata": {},
   "outputs": [
    {
     "data": {
      "application/vnd.microsoft.datawrangler.viewer.v0+json": {
       "columns": [
        {
         "name": "motive_id",
         "rawType": "object",
         "type": "string"
        },
        {
         "name": "count",
         "rawType": "int64",
         "type": "integer"
        }
       ],
       "ref": "f6d89f76-51c7-4708-a638-b82eee288651",
       "rows": [
        [
         "bus",
         "10312"
        ],
        [
         "tram",
         "80"
        ],
        [
         "metro",
         "61"
        ]
       ],
       "shape": {
        "columns": 1,
        "rows": 3
       }
      },
      "text/plain": [
       "motive_id\n",
       "bus      10312\n",
       "tram        80\n",
       "metro       61\n",
       "Name: count, dtype: int64"
      ]
     },
     "execution_count": 27,
     "metadata": {},
     "output_type": "execute_result"
    }
   ],
   "source": [
    "type_map = {0: \"tram\", 1: \"metro\", 3: \"bus\"}  # étends si besoin (ex: 4: ferry)\n",
    "\n",
    "mode_per_stop = mode_per_stop[mode_per_stop[\"route_type\"].isin(type_map.keys())].copy()\n",
    "mode_per_stop[\"motive_id\"] = mode_per_stop[\"route_type\"].map(type_map)\n",
    "\n",
    "mode_per_stop[\"motive_id\"].value_counts()"
   ]
  },
  {
   "cell_type": "markdown",
   "id": "849087bd",
   "metadata": {},
   "source": [
    "## Jointure avec `stops` + GeoDataFrame"
   ]
  },
  {
   "cell_type": "code",
   "execution_count": 28,
   "id": "2000aec5",
   "metadata": {},
   "outputs": [
    {
     "data": {
      "text/html": [
       "<div>\n",
       "<style scoped>\n",
       "    .dataframe tbody tr th:only-of-type {\n",
       "        vertical-align: middle;\n",
       "    }\n",
       "\n",
       "    .dataframe tbody tr th {\n",
       "        vertical-align: top;\n",
       "    }\n",
       "\n",
       "    .dataframe thead th {\n",
       "        text-align: right;\n",
       "    }\n",
       "</style>\n",
       "<table border=\"1\" class=\"dataframe\">\n",
       "  <thead>\n",
       "    <tr style=\"text-align: right;\">\n",
       "      <th></th>\n",
       "      <th>stop_id</th>\n",
       "      <th>stop_name</th>\n",
       "      <th>motive_id</th>\n",
       "      <th>geometry</th>\n",
       "    </tr>\n",
       "  </thead>\n",
       "  <tbody>\n",
       "    <tr>\n",
       "      <th>0</th>\n",
       "      <td>AIX-21230</td>\n",
       "      <td>08 mai 1945</td>\n",
       "      <td>bus</td>\n",
       "      <td>POINT (896736.566 6272345.053)</td>\n",
       "    </tr>\n",
       "    <tr>\n",
       "      <th>1</th>\n",
       "      <td>AIX-24090</td>\n",
       "      <td>08 mai 1945</td>\n",
       "      <td>bus</td>\n",
       "      <td>POINT (896749.870 6272359.696)</td>\n",
       "    </tr>\n",
       "    <tr>\n",
       "      <th>2</th>\n",
       "      <td>MAMP-23431</td>\n",
       "      <td>08 mai 1945</td>\n",
       "      <td>bus</td>\n",
       "      <td>POINT (875842.544 6266900.430)</td>\n",
       "    </tr>\n",
       "    <tr>\n",
       "      <th>3</th>\n",
       "      <td>MAMP-25627</td>\n",
       "      <td>08 mai 1945</td>\n",
       "      <td>bus</td>\n",
       "      <td>POINT (875853.866 6266915.641)</td>\n",
       "    </tr>\n",
       "    <tr>\n",
       "      <th>4</th>\n",
       "      <td>BDE-23431</td>\n",
       "      <td>08-mai-45</td>\n",
       "      <td>bus</td>\n",
       "      <td>POINT (875879.396 6266917.678)</td>\n",
       "    </tr>\n",
       "  </tbody>\n",
       "</table>\n",
       "</div>"
      ],
      "text/plain": [
       "      stop_id    stop_name motive_id                        geometry\n",
       "0   AIX-21230  08 mai 1945       bus  POINT (896736.566 6272345.053)\n",
       "1   AIX-24090  08 mai 1945       bus  POINT (896749.870 6272359.696)\n",
       "2  MAMP-23431  08 mai 1945       bus  POINT (875842.544 6266900.430)\n",
       "3  MAMP-25627  08 mai 1945       bus  POINT (875853.866 6266915.641)\n",
       "4   BDE-23431    08-mai-45       bus  POINT (875879.396 6266917.678)"
      ]
     },
     "execution_count": 28,
     "metadata": {},
     "output_type": "execute_result"
    }
   ],
   "source": [
    "stops_filtered = stops.merge(mode_per_stop[[\"stop_id\", \"motive_id\"]], on=\"stop_id\", how=\"inner\")\n",
    "\n",
    "gdf = gpd.GeoDataFrame(\n",
    "    stops_filtered,\n",
    "    geometry=gpd.points_from_xy(stops_filtered[\"stop_lon\"], stops_filtered[\"stop_lat\"]),\n",
    "    crs=\"EPSG:4326\"\n",
    ").to_crs(\"EPSG:2154\")\n",
    "\n",
    "gdf = gdf[[\"stop_id\", \"stop_name\", \"motive_id\", \"geometry\"]]\n",
    "gdf.head()"
   ]
  },
  {
   "cell_type": "markdown",
   "id": "5ce609aa",
   "metadata": {},
   "source": [
    "## Filtrage spatial par l’emprise (Marseille)"
   ]
  },
  {
   "cell_type": "code",
   "execution_count": 29,
   "id": "79773b5e",
   "metadata": {},
   "outputs": [
    {
     "name": "stdout",
     "output_type": "stream",
     "text": [
      "Arrêts avant filtre  : 10453\n",
      "Arrêts après filtre  : 5348\n",
      "Hors emprise supprimés: 5105\n"
     ]
    }
   ],
   "source": [
    "cadre = gpd.read_file(cadre_file).to_crs(\"EPSG:2154\")\n",
    "\n",
    "before = len(gdf)\n",
    "gdf = gdf[gdf.geometry.within(cadre.unary_union)].copy()\n",
    "after = len(gdf)\n",
    "\n",
    "print(f\"Arrêts avant filtre  : {before}\")\n",
    "print(f\"Arrêts après filtre  : {after}\")\n",
    "print(f\"Hors emprise supprimés: {before - after}\")"
   ]
  },
  {
   "cell_type": "markdown",
   "id": "59216987",
   "metadata": {},
   "source": [
    "**Interprétation** : si beaucoup de points sortent, vérifier CRS et exactitude du `cadre`."
   ]
  },
  {
   "cell_type": "markdown",
   "id": "d9a91124",
   "metadata": {},
   "source": [
    "## Petit diagnostic"
   ]
  },
  {
   "cell_type": "code",
   "execution_count": 30,
   "id": "b2a473aa",
   "metadata": {},
   "outputs": [
    {
     "name": "stdout",
     "output_type": "stream",
     "text": [
      "Répartition par type (motive_id) :\n"
     ]
    },
    {
     "data": {
      "application/vnd.microsoft.datawrangler.viewer.v0+json": {
       "columns": [
        {
         "name": "motive_id",
         "rawType": "object",
         "type": "string"
        },
        {
         "name": "count",
         "rawType": "int64",
         "type": "integer"
        }
       ],
       "ref": "fabf5ec1-4d48-4061-bc20-0ba8990bb8a6",
       "rows": [
        [
         "bus",
         "5207"
        ],
        [
         "tram",
         "80"
        ],
        [
         "metro",
         "61"
        ]
       ],
       "shape": {
        "columns": 1,
        "rows": 3
       }
      },
      "text/plain": [
       "motive_id\n",
       "bus      5207\n",
       "tram       80\n",
       "metro      61\n",
       "Name: count, dtype: int64"
      ]
     },
     "metadata": {},
     "output_type": "display_data"
    },
    {
     "name": "stdout",
     "output_type": "stream",
     "text": [
      "Duplicats sur stop_id : 0\n"
     ]
    }
   ],
   "source": [
    "print(\"Répartition par type (motive_id) :\")\n",
    "display(gdf[\"motive_id\"].value_counts())\n",
    "\n",
    "dup_after = gdf.duplicated(subset=[\"stop_id\"]).sum()\n",
    "print(\"Duplicats sur stop_id :\", dup_after)"
   ]
  },
  {
   "cell_type": "markdown",
   "id": "34a3cf9e",
   "metadata": {},
   "source": [
    "## Export GeoPackage (et formats annexes)"
   ]
  },
  {
   "cell_type": "code",
   "execution_count": 31,
   "id": "74286b7e",
   "metadata": {},
   "outputs": [
    {
     "name": "stdout",
     "output_type": "stream",
     "text": [
      "Export GPKG : ..\\proxy\\data\\processed\\overpass_results_Marseille\\gtfs_stops_Marseille.gpkg | n = 5348\n"
     ]
    }
   ],
   "source": [
    "out_gpkg = Path(OUTPUT_DIR) / f\"gtfs_stops_{city}.gpkg\"\n",
    "out_gpkg.parent.mkdir(parents=True, exist_ok=True)\n",
    "gdf.to_file(out_gpkg, layer=\"arrets_tc\", driver=\"GPKG\")\n",
    "\n",
    "print(\"Export GPKG :\", out_gpkg, \"| n =\", len(gdf))"
   ]
  },
  {
   "cell_type": "markdown",
   "id": "d727add8",
   "metadata": {},
   "source": [
    "## Encapsulation réutilisable\n",
    "\n",
    "*(fonction, prête pour le pipeline)*"
   ]
  },
  {
   "cell_type": "code",
   "execution_count": 32,
   "id": "1fea2547",
   "metadata": {},
   "outputs": [],
   "source": [
    "def extract_gtfs_stops(export=False, output_gpkg=None):\n",
    "    stops      = pd.read_csv(base_path / \"stops.txt\")\n",
    "    routes     = pd.read_csv(base_path / \"routes.txt\")\n",
    "    trips      = pd.read_csv(base_path / \"trips.txt\")\n",
    "    stop_times = pd.read_csv(base_path / \"stop_times.txt\")\n",
    "\n",
    "    stop_trip  = stop_times[[\"stop_id\", \"trip_id\"]].drop_duplicates()\n",
    "    trip_route = trips[[\"trip_id\", \"route_id\"]]\n",
    "    route_type = routes[[\"route_id\", \"route_type\"]]\n",
    "\n",
    "    stops_type = stop_trip.merge(trip_route, on=\"trip_id\").merge(route_type, on=\"route_id\")\n",
    "    mode_per_stop = (\n",
    "        stops_type.groupby(\"stop_id\")[\"route_type\"]\n",
    "        .agg(lambda s: s.value_counts(dropna=True).idxmax())\n",
    "        .reset_index()\n",
    "    )\n",
    "\n",
    "    type_map = {0: \"tram\", 1: \"metro\", 3: \"bus\"}\n",
    "    mode_per_stop = mode_per_stop[mode_per_stop[\"route_type\"].isin(type_map.keys())].copy()\n",
    "    mode_per_stop[\"motive_id\"] = mode_per_stop[\"route_type\"].map(type_map)\n",
    "\n",
    "    stops_filtered = stops.merge(mode_per_stop[[\"stop_id\", \"motive_id\"]], on=\"stop_id\", how=\"inner\")\n",
    "    gdf = gpd.GeoDataFrame(\n",
    "        stops_filtered,\n",
    "        geometry=gpd.points_from_xy(stops_filtered[\"stop_lon\"], stops_filtered[\"stop_lat\"]),\n",
    "        crs=\"EPSG:4326\"\n",
    "    ).to_crs(\"EPSG:2154\")\n",
    "\n",
    "    cadre = gpd.read_file(cadre_file).to_crs(\"EPSG:2154\")\n",
    "    gdf = gdf[gdf.geometry.within(cadre.unary_union)].copy()\n",
    "    gdf_final = gdf[[\"stop_id\", \"stop_name\", \"motive_id\", \"geometry\"]]\n",
    "\n",
    "    if export and output_gpkg:\n",
    "        output_gpkg = Path(output_gpkg)\n",
    "        output_gpkg.parent.mkdir(parents=True, exist_ok=True)\n",
    "        gdf_final.to_file(output_gpkg, layer=\"arrets_tc\", driver=\"GPKG\")\n",
    "\n",
    "    return gdf_final"
   ]
  },
  {
   "cell_type": "code",
   "execution_count": null,
   "id": "38f8f87b",
   "metadata": {},
   "outputs": [
    {
     "name": "stderr",
     "output_type": "stream",
     "text": [
      "C:\\Users\\hazim\\AppData\\Local\\Temp\\ipykernel_24040\\416887354.py:5: DtypeWarning: Columns (5) have mixed types. Specify dtype option on import or set low_memory=False.\n",
      "  stop_times = pd.read_csv(base_path / \"stop_times.txt\")\n"
     ]
    },
    {
     "name": "stdout",
     "output_type": "stream",
     "text": [
      "Export OK : True | n = 5348\n"
     ]
    },
    {
     "data": {
      "text/html": [
       "<div>\n",
       "<style scoped>\n",
       "    .dataframe tbody tr th:only-of-type {\n",
       "        vertical-align: middle;\n",
       "    }\n",
       "\n",
       "    .dataframe tbody tr th {\n",
       "        vertical-align: top;\n",
       "    }\n",
       "\n",
       "    .dataframe thead th {\n",
       "        text-align: right;\n",
       "    }\n",
       "</style>\n",
       "<table border=\"1\" class=\"dataframe\">\n",
       "  <thead>\n",
       "    <tr style=\"text-align: right;\">\n",
       "      <th></th>\n",
       "      <th>stop_id</th>\n",
       "      <th>stop_name</th>\n",
       "      <th>motive_id</th>\n",
       "      <th>geometry</th>\n",
       "    </tr>\n",
       "  </thead>\n",
       "  <tbody>\n",
       "    <tr>\n",
       "      <th>15</th>\n",
       "      <td>BDE-20299</td>\n",
       "      <td>19 mars 62</td>\n",
       "      <td>bus</td>\n",
       "      <td>POINT (881349.247 6263961.020)</td>\n",
       "    </tr>\n",
       "    <tr>\n",
       "      <th>16</th>\n",
       "      <td>BDE-25735</td>\n",
       "      <td>19 mars 62</td>\n",
       "      <td>bus</td>\n",
       "      <td>POINT (881384.711 6263984.488)</td>\n",
       "    </tr>\n",
       "    <tr>\n",
       "      <th>18</th>\n",
       "      <td>RTM-00001532</td>\n",
       "      <td>3 Frères Barthélemy</td>\n",
       "      <td>bus</td>\n",
       "      <td>POINT (893705.902 6246701.204)</td>\n",
       "    </tr>\n",
       "    <tr>\n",
       "      <th>19</th>\n",
       "      <td>RTM-00001685</td>\n",
       "      <td>3 Ponts Canal</td>\n",
       "      <td>bus</td>\n",
       "      <td>POINT (897955.203 6244778.833)</td>\n",
       "    </tr>\n",
       "    <tr>\n",
       "      <th>20</th>\n",
       "      <td>RTM-00001687</td>\n",
       "      <td>3 Ponts Canal</td>\n",
       "      <td>bus</td>\n",
       "      <td>POINT (897976.470 6244787.497)</td>\n",
       "    </tr>\n",
       "  </tbody>\n",
       "</table>\n",
       "</div>"
      ],
      "text/plain": [
       "         stop_id            stop_name motive_id  \\\n",
       "15     BDE-20299           19 mars 62       bus   \n",
       "16     BDE-25735           19 mars 62       bus   \n",
       "18  RTM-00001532  3 Frères Barthélemy       bus   \n",
       "19  RTM-00001685        3 Ponts Canal       bus   \n",
       "20  RTM-00001687        3 Ponts Canal       bus   \n",
       "\n",
       "                          geometry  \n",
       "15  POINT (881349.247 6263961.020)  \n",
       "16  POINT (881384.711 6263984.488)  \n",
       "18  POINT (893705.902 6246701.204)  \n",
       "19  POINT (897955.203 6244778.833)  \n",
       "20  POINT (897976.470 6244787.497)  "
      ]
     },
     "metadata": {},
     "output_type": "display_data"
    }
   ],
   "source": [
    "# Test\n",
    "out_gpkg = Path(OUTPUT_DIR) / f\"gtfs_stops_{city}.gpkg\"\n",
    "gdf_stops = extract_gtfs_stops(export=True, output_gpkg=out_gpkg)\n",
    "print(\"Export OK :\", out_gpkg.exists(), \"| n =\", len(gdf_stops))\n",
    "display(gdf_stops.head())"
   ]
  },
  {
   "cell_type": "markdown",
   "id": "0aa155df",
   "metadata": {},
   "source": [
    "## Conclusion/ aller plus loin\n",
    "\n",
    "* Le **GTFS** décrit une **offre théorique** (statique) — complémentaire, mais distinct, du **temps réel**.\n",
    "* La **jointure logique** `stop_times → trips → routes` est le cœur de l’enrichissement.\n",
    "* Les **horaires > 24h** sont courants : préférer une conversion en **secondes** pour les calculs.\n",
    "* `route_type` peut inclure d’autres modes (ferry, train) : **adapte le mapping** à ton usage.\n",
    "* Pour la suite : fréquences par arrêt (en combinant `stop_times` et `calendar/_dates`), amplitude horaire, maillage intermodal, etc."
   ]
  }
 ],
 "metadata": {
  "kernelspec": {
   "display_name": "pynkdv",
   "language": "python",
   "name": "python3"
  },
  "language_info": {
   "codemirror_mode": {
    "name": "ipython",
    "version": 3
   },
   "file_extension": ".py",
   "mimetype": "text/x-python",
   "name": "python",
   "nbconvert_exporter": "python",
   "pygments_lexer": "ipython3",
   "version": "3.9.19"
  }
 },
 "nbformat": 4,
 "nbformat_minor": 5
}
