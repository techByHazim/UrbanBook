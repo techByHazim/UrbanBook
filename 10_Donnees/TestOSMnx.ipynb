{
 "cells": [
  {
   "cell_type": "code",
   "execution_count": 1,
   "id": "4c218367",
   "metadata": {},
   "outputs": [],
   "source": [
    "import osmnx as ox"
   ]
  },
  {
   "cell_type": "code",
   "execution_count": 2,
   "id": "4993974b",
   "metadata": {},
   "outputs": [],
   "source": [
    "G = ox.graph_from_place(\"Marseille, France\", network_type=\"walk\")"
   ]
  },
  {
   "cell_type": "code",
   "execution_count": 3,
   "id": "74dd5c8e",
   "metadata": {},
   "outputs": [],
   "source": [
    "nodes, edges = ox.graph_to_gdfs(G)"
   ]
  },
  {
   "cell_type": "code",
   "execution_count": null,
   "id": "cedc2fe7",
   "metadata": {},
   "outputs": [],
   "source": [
    "# Sauvegarder en GeoPackage (format parfait pour QGIS)\n",
    "edges.to_file(\"marseille_walk_edges.gpkg\", layer=\"edges\", driver=\"GPKG\")\n",
    "nodes.to_file(\"marseille_walk_nodes.gpkg\", layer=\"nodes\", driver=\"GPKG\")"
   ]
  },
  {
   "cell_type": "code",
   "execution_count": null,
   "id": "8b936b11",
   "metadata": {},
   "outputs": [],
   "source": []
  }
 ],
 "metadata": {
  "kernelspec": {
   "display_name": "geo_env",
   "language": "python",
   "name": "python3"
  },
  "language_info": {
   "codemirror_mode": {
    "name": "ipython",
    "version": 3
   },
   "file_extension": ".py",
   "mimetype": "text/x-python",
   "name": "python",
   "nbconvert_exporter": "python",
   "pygments_lexer": "ipython3",
   "version": "3.10.18"
  }
 },
 "nbformat": 4,
 "nbformat_minor": 5
}
