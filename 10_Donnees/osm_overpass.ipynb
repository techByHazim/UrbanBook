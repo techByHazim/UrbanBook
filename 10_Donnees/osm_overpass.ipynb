{
 "cells": [
  {
   "cell_type": "markdown",
   "id": "acf2a851",
   "metadata": {},
   "source": [
    "\n",
    "# Extraction et prétraitement des données OSM\n",
    "\n",
    "Cette section montre comment extraire des données OSM avec Overpass sur une emprise donnée, en fractionnant la zone en tuiles raisonnables, en gérant les limitations de l’API et en sauvegardant un résultat propre en GeoPackage.\n"
   ]
  },
  {
   "cell_type": "markdown",
   "id": "b030ae29",
   "metadata": {},
   "source": [
    "## Préparation\n",
    "\n",
    "On charge les bibliothèques usuelles et les paramètres centralisés dans config.py :"
   ]
  },
  {
   "cell_type": "code",
   "execution_count": null,
   "id": "4f6dc751",
   "metadata": {},
   "outputs": [
    {
     "name": "stdout",
     "output_type": "stream",
     "text": [
      "CONFIG_PATH: ..\\proxy\\data\\raw\\insee\\overpass_config.json\n",
      "cadre_file: ..\\proxy\\data\\raw\\insee\\CadreMarseille.shp\n",
      "OUTPUT_DIR: ..\\proxy\\data\\processed\\overpass_results_Marseille\n",
      "EPSG cible: 2154 | city: Marseille\n"
     ]
    }
   ],
   "source": [
    "import time\n",
    "import random\n",
    "from itertools import cycle\n",
    "from typing import List, Optional, Tuple, Iterable\n",
    "\n",
    "import requests\n",
    "import geopandas as gpd\n",
    "from shapely.geometry import Point\n",
    "from pathlib import Path\n",
    "import json\n",
    "\n",
    "# Seul fichier requis : config.py (présent dans ton projet)\n",
    "from config import CONFIG_PATH, cadre_file, OUTPUT_DIR, epsg, city\n",
    "\n",
    "print(\"CONFIG_PATH:\", CONFIG_PATH)\n",
    "print(\"cadre_file:\", cadre_file)\n",
    "print(\"OUTPUT_DIR:\", OUTPUT_DIR)\n",
    "print(\"EPSG cible:\", epsg, \"| city:\", city)"
   ]
  },
  {
   "cell_type": "markdown",
   "id": "43e04e68",
   "metadata": {},
   "source": [
    "> À retenir :\n",
    "\n",
    "   * `CONFIG_PATH` pointe vers un JSON qui liste les tags OSM à extraire.\n",
    "\n",
    "   * `cadre_file` est l’emprise (shapefile/gpkg) : c’est notre zone d’étude.\n",
    "\n",
    "   * `OUTPUT_DIR` est où on sauvegarde les .gpkg.\n",
    "\n",
    "   * `epsg` est la projection cible (ex : 2154)."
   ]
  },
  {
   "cell_type": "markdown",
   "id": "5d6ebedb",
   "metadata": {},
   "source": [
    "> Lecture de la configuration: On veut vérifier que le fichier de configuration est correctement chargé et comprendre son contenu."
   ]
  },
  {
   "cell_type": "code",
   "execution_count": 30,
   "id": "eaf9e74e",
   "metadata": {},
   "outputs": [
    {
     "name": "stdout",
     "output_type": "stream",
     "text": [
      "Clés de config: ['tags']\n",
      "max_edge_deg: 0.25\n",
      "Nombre de tags: 55\n",
      "Exemple de tag: {'key': 'highway', 'value': 'bus_stop'}\n"
     ]
    }
   ],
   "source": [
    "with open(CONFIG_PATH, \"r\", encoding=\"utf-8\") as f:\n",
    "    conf = json.load(f)\n",
    "\n",
    "print(\"Clés de config:\", list(conf.keys()))\n",
    "print(\"max_edge_deg:\", conf.get(\"overpass\", {}).get(\"max_edge_deg\", 0.25))\n",
    "\n",
    "tags = conf.get(\"tags\", [])\n",
    "print(\"Nombre de tags:\", len(tags))\n",
    "print(\"Exemple de tag:\", tags[0] if tags else None)"
   ]
  },
  {
   "cell_type": "markdown",
   "id": "41f4e092",
   "metadata": {},
   "source": [
    "> Interprétation :\n",
    "\n",
    "   * `max_edge_deg` = taille max d’une tuile en degrés → plus petit = plus de requêtes mais plus stables.\n",
    "\n",
    "   * `tags` est une liste de { \"key\": \"...\", \"value\": \"...\" }. On extraira un fichier par tag."
   ]
  },
  {
   "cell_type": "markdown",
   "id": "1a5d790b",
   "metadata": {},
   "source": [
    "## Overpass : endpoints & session HTTP \n",
    "\n",
    "Overpass impose des règles d’usage (éviter de marteler, s’identifier). On prépare :\n",
    "\n",
    "  * une liste de miroirs (rotation en cas d’échec),\n",
    "\n",
    "  * un User-Agent clair,\n",
    "\n",
    "  * un délai de politesse entre requêtes."
   ]
  },
  {
   "cell_type": "code",
   "execution_count": 31,
   "id": "57c8fed9",
   "metadata": {},
   "outputs": [],
   "source": [
    "# Overpass endpoints (HTTPS) – rotation en cas de retry\n",
    "OVERPASS_ENDPOINTS: List[str] = [\n",
    "    \"https://overpass-api.de/api/interpreter\",\n",
    "    \"https://lz4.overpass-api.de/api/interpreter\",\n",
    "    \"https://z.overpass-api.de/api/interpreter\",\n",
    "    \"https://overpass.kumi.systems/api/interpreter\",\n",
    "]\n",
    "\n",
    "# Délai (s) pour éviter de marteler l'API\n",
    "POLITE_DELAY = 1.5\n",
    "\n",
    "# Session persistante\n",
    "_SESSION: Optional[requests.Session] = None\n",
    "\n",
    "def _get_session() -> requests.Session:\n",
    "    global _SESSION\n",
    "    if _SESSION is None:\n",
    "        s = requests.Session()\n",
    "        s.headers.update({\n",
    "            \"User-Agent\": \"AttractiveCity/1.0 (contact: hazim)\",\n",
    "            \"Accept-Encoding\": \"gzip, deflate\",\n",
    "        })\n",
    "        _SESSION = s\n",
    "    return _SESSION"
   ]
  },
  {
   "cell_type": "markdown",
   "id": "759d3a90",
   "metadata": {},
   "source": [
    "> À retenir (éthique & robustesse) :\n",
    "\n",
    "  * Ralentir volontairement (POLITE_DELAY).\n",
    "\n",
    "  * S’identifier (User-Agent).\n",
    "\n",
    "  * Tourner sur plusieurs endpoints → résilience."
   ]
  },
  {
   "cell_type": "markdown",
   "id": "ba304bf1",
   "metadata": {},
   "source": [
    "## Emprise & tuilage \n",
    "\n",
    "Une bbox trop grande → requêtes lourdes → timeouts / 429.\n",
    "Le tuilage permet des requêtes plus petites, fiables, rejouables."
   ]
  },
  {
   "cell_type": "code",
   "execution_count": 32,
   "metadata": {},
   "outputs": [],
   "source": [
    "def load_bbox_from_shapefile(path) -> Tuple[float, float, float, float]:\n",
    "    gdf = gpd.read_file(path)\n",
    "    gdf = gdf.to_crs(epsg=4326)\n",
    "    tb = gdf.total_bounds  # [minx, miny, maxx, maxy]\n",
    "    return tb[0], tb[1], tb[2], tb[3]\n",
    "\n",
    "\n",
    "def tile_bbox(\n",
    "    bbox: Tuple[float, float, float, float],\n",
    "    max_edge_deg: float = 0.25,\n",
    ") -> Iterable[Tuple[float, float, float, float]]:\n",
    "    \"\"\"\n",
    "    Découpe la bbox en une grille de bboxes plus petites,\n",
    "    dont l'arête max ≤ max_edge_deg (en degrés).\n",
    "    \"\"\"\n",
    "    minx, miny, maxx, maxy = bbox\n",
    "    width = maxx - minx\n",
    "    height = maxy - miny\n",
    "\n",
    "    nx = max(1, int(width // max_edge_deg) + (1 if width % max_edge_deg > 1e-12 else 0))\n",
    "    ny = max(1, int(height // max_edge_deg) + (1 if height % max_edge_deg > 1e-12 else 0))\n",
    "\n",
    "    dx = width / nx\n",
    "    dy = height / ny\n",
    "\n",
    "    for iy in range(ny):\n",
    "        for ix in range(nx):\n",
    "            x0 = minx + ix * dx\n",
    "            x1 = minx + (ix + 1) * dx\n",
    "            y0 = miny + iy * dy\n",
    "            y1 = miny + (iy + 1) * dy\n",
    "            yield (x0, y0, x1, y1)"
   ]
  },
  {
   "cell_type": "markdown",
   "id": "faa00c39",
   "metadata": {},
   "source": [
    "> Interprétation :\n",
    "\n",
    "  * max_edge_deg est ton levier anti-timeout.\n",
    "\n",
    "  * Tu peux augmenter (plus rapide mais risqué) ou réduire (plus lent mais sûr)."
   ]
  },
  {
   "cell_type": "markdown",
   "id": "2cf28601",
   "metadata": {},
   "source": [
    "## Construire la requête Overpass \n",
    "\n",
    "Overpass prend (south, west, north, east) et permet d’interroger node / way / relation.\n",
    "out center fournit un point même pour les ways/relations → pratique pour tout stocker en points."
   ]
  },
  {
   "cell_type": "code",
   "execution_count": 33,
   "metadata": {},
   "outputs": [],
   "source": [
    "def build_query(bbox: Tuple[float, float, float, float], key: str, value: str, timeout_s: int = 180) -> str:\n",
    "    # Format Overpass: south,west,north,east => (miny,minx,maxy,maxx)\n",
    "    minx, miny, maxx, maxy = bbox\n",
    "    bbox_str = f\"{miny},{minx},{maxy},{maxx}\"\n",
    "    # out center -> récupère un point même pour ways/relations\n",
    "    query = f\"\"\"\n",
    "    [out:json][timeout:{timeout_s}];\n",
    "    (\n",
    "      node[\"{key}\"=\"{value}\"]({bbox_str});\n",
    "      way[\"{key}\"=\"{value}\"]({bbox_str});\n",
    "      relation[\"{key}\"=\"{value}\"]({bbox_str});\n",
    "    );\n",
    "    out center;\n",
    "    \"\"\"\n",
    "    return query"
   ]
  },
  {
   "cell_type": "markdown",
   "id": "85530d45",
   "metadata": {},
   "source": [
    "> À retenir :\n",
    "\n",
    "  * timeout_s peut être augmenté pour les zones denses.\n",
    "\n",
    "  * Un tag = une requête (répétée pour chaque tuile)."
   ]
  },
  {
   "cell_type": "markdown",
   "id": "b5e25867",
   "metadata": {},
   "source": [
    "## Fetch robuste\n",
    "\n",
    "Le monde réel = erreurs réseau, serveurs saturés, limitations de débit.\n",
    "On gère :\n",
    "\n",
    "429 → on respecte Retry-After si présent, sinon backoff exponentiel ;\n",
    "\n",
    "5xx → on attend et on réessaie ;\n",
    "\n",
    "rotation automatique des miroirs."
   ]
  },
  {
   "cell_type": "code",
   "execution_count": 34,
   "id": "724edf7c",
   "metadata": {},
   "outputs": [],
   "source": [
    "def fetch_osm_data(\n",
    "    query: str,\n",
    "    *,\n",
    "    max_tries: int = 7,\n",
    "    initial_backoff: float = 2.0,\n",
    "    request_timeout: int = 180,\n",
    ") -> dict:\n",
    "    session = _get_session()\n",
    "    endpoints = cycle(OVERPASS_ENDPOINTS)\n",
    "    errors = []\n",
    "\n",
    "    for attempt in range(1, max_tries + 1):\n",
    "        url = next(endpoints)\n",
    "        try:\n",
    "            time.sleep(POLITE_DELAY)\n",
    "            resp = session.post(url, data={\"data\": query}, timeout=request_timeout)\n",
    "\n",
    "            if resp.status_code == 429:\n",
    "                retry_after = resp.headers.get(\"Retry-After\")\n",
    "                if retry_after and retry_after.isdigit():\n",
    "                    delay = float(retry_after)\n",
    "                else:\n",
    "                    delay = initial_backoff * (2 ** (attempt - 1)) + random.uniform(0, 1.0)\n",
    "                time.sleep(delay)\n",
    "                continue\n",
    "\n",
    "            if resp.status_code in (500, 502, 503, 504):\n",
    "                delay = initial_backoff * (2 ** (attempt - 1)) + random.uniform(0, 1.0)\n",
    "                time.sleep(delay)\n",
    "                continue\n",
    "\n",
    "            resp.raise_for_status()\n",
    "            return resp.json()\n",
    "\n",
    "        except requests.exceptions.RequestException as e:\n",
    "            delay = initial_backoff * (2 ** (attempt - 1)) + random.uniform(0, 1.0)\n",
    "            errors.append(f\"{url}: {e}\")\n",
    "            time.sleep(delay)\n",
    "\n",
    "    raise RuntimeError(\"Overpass requests failed after retries:\\n\" + \"\\n\".join(errors))"
   ]
  },
  {
   "cell_type": "markdown",
   "id": "e9f073dc",
   "metadata": {},
   "source": [
    "> Interprétation :\n",
    "\n",
    "  * Si tu vois des temps d’attente, c’est normal.\n",
    "\n",
    "  * Si ça échoue malgré tout : réduis max_edge_deg (requêtes plus petites)."
   ]
  },
  {
   "cell_type": "markdown",
   "id": "558a0405",
   "metadata": {},
   "source": [
    "## Transformer le JSON en points & sauvegarder\n",
    "\n",
    "On veut un format homogène (points) pour tous types OSM (nodes, ways, relations).\n",
    "out center garantit un centre pour ways/relations."
   ]
  },
  {
   "cell_type": "code",
   "execution_count": 21,
   "id": "fe79754f",
   "metadata": {},
   "outputs": [],
   "source": [
    "def extract_elements(osm_json: dict) -> List[dict]:\n",
    "    elements = []\n",
    "    for elem in osm_json.get(\"elements\", []):\n",
    "        osm_type = elem.get(\"type\")  # \"node\" | \"way\" | \"relation\"\n",
    "        osm_id = elem.get(\"id\")\n",
    "\n",
    "        if \"lat\" in elem and \"lon\" in elem:\n",
    "            geometry = Point(elem[\"lon\"], elem[\"lat\"])\n",
    "        elif \"center\" in elem:\n",
    "            c = elem[\"center\"]\n",
    "            geometry = Point(c[\"lon\"], c[\"lat\"])\n",
    "        else:\n",
    "            continue\n",
    "\n",
    "        row = {\n",
    "            \"geometry\": geometry,\n",
    "            \"osm_type\": osm_type,\n",
    "            \"osm_id\": osm_id,\n",
    "        }\n",
    "        tags = elem.get(\"tags\", {})\n",
    "        if tags:\n",
    "            row.update(tags)\n",
    "        elements.append(row)\n",
    "    return elements"
   ]
  },
  {
   "cell_type": "code",
   "execution_count": 22,
   "id": "f4fb929a",
   "metadata": {},
   "outputs": [],
   "source": [
    "def save_elements(elements: List[dict], output_path: Path, motive_value: str):\n",
    "    if not elements:\n",
    "        print(f\"No data for {output_path.name}\")\n",
    "        return\n",
    "\n",
    "    gdf = gpd.GeoDataFrame(elements, geometry=\"geometry\", crs=\"EPSG:4326\").to_crs(epsg=epsg)\n",
    "    gdf[\"motive_id\"] = str(motive_value).upper()\n",
    "\n",
    "    # Dédup par (osm_type, osm_id)\n",
    "    if {\"osm_type\", \"osm_id\"}.issubset(gdf.columns):\n",
    "        gdf = gdf.drop_duplicates(subset=[\"osm_type\", \"osm_id\"])\n",
    "\n",
    "    output_path.parent.mkdir(parents=True, exist_ok=True)\n",
    "    gdf.to_file(output_path, driver=\"GPKG\")\n",
    "    print(f\"✓ Data saved: {output_path}  ({len(gdf)} features)\")"
   ]
  },
  {
   "cell_type": "markdown",
   "id": "7ab6cd4a",
   "metadata": {},
   "source": [
    "> Interprétation :\n",
    "\n",
    "  * `motive_id` te permet de filtrer par type d’équipement ensuite.\n",
    "\n",
    "  * `.to_crs(epsg=epsg)` → tu travailles directement dans ton CRS de référence (ex : 2154)."
   ]
  },
  {
   "cell_type": "markdown",
   "id": "93f968f4",
   "metadata": {},
   "source": [
    "## Collecte sur toutes les tuiles \n",
    "\n",
    "C’est le cœur de la collecte pour un tag donné : on parcourt les tuiles, on déduplique au fur et à mesure."
   ]
  },
  {
   "cell_type": "code",
   "execution_count": null,
   "id": "5336bb13",
   "metadata": {},
   "outputs": [],
   "source": [
    "def collect_elements_for_tag(\n",
    "    bbox: Tuple[float, float, float, float],\n",
    "    key: str,\n",
    "    value: str,\n",
    "    max_edge_deg: float = 0.25,\n",
    ") -> List[dict]:\n",
    "    seen = set()  # (osm_type, osm_id)\n",
    "    all_rows: List[dict] = []\n",
    "\n",
    "    for tile in tile_bbox(bbox, max_edge_deg=max_edge_deg):\n",
    "        query = build_query(tile, key, value, timeout_s=180)\n",
    "        osm_json = fetch_osm_data(query)\n",
    "        rows = extract_elements(osm_json)\n",
    "\n",
    "        for r in rows:\n",
    "            ot, oid = r.get(\"osm_type\"), r.get(\"osm_id\")\n",
    "            if ot is not None and oid is not None:\n",
    "                key_ = (ot, oid)\n",
    "                if key_ in seen:\n",
    "                    continue\n",
    "                seen.add(key_)\n",
    "            all_rows.append(r)\n",
    "\n",
    "    return all_rows"
   ]
  },
  {
   "cell_type": "markdown",
   "id": "f9a33184",
   "metadata": {},
   "source": [
    "> Interprétation :\n",
    "\n",
    "  * La déduplication évite d’écrire deux fois le même objet si une entité chevauche deux tuiles.\n",
    "\n",
    "  * Le retour = liste de dicts prêts à transformer en GeoDataFrame."
   ]
  },
  {
   "cell_type": "markdown",
   "id": "64ea3177",
   "metadata": {},
   "source": [
    "## Dry-run : 1 tuile + 1 tag (Markdown)\n",
    "\n",
    "Avant de lancer le “vrai” téléchargement, on teste :\n",
    "\n",
    "  * la connexion Overpass,\n",
    "\n",
    "  * un tag réel,\n",
    "\n",
    "  * le format de sortie,\n",
    "\n",
    "  * la chaîne requête → JSON → points → GPKG."
   ]
  },
  {
   "cell_type": "code",
   "execution_count": null,
   "id": "8c539bf0",
   "metadata": {},
   "outputs": [
    {
     "name": "stdout",
     "output_type": "stream",
     "text": [
      "Tile: (5.124256045405729, 43.13326966157955, 5.307748201187553, 43.2945089992285) | Tag: highway = bus_stop\n",
      "Éléments récupérés: 0\n",
      "No data for __SAMPLE__highway_bus_stop_Marseille.gpkg\n"
     ]
    }
   ],
   "source": [
    "# Charger bbox\n",
    "bbox = load_bbox_from_shapefile(cadre_file)\n",
    "\n",
    "# Lire la config\n",
    "with open(CONFIG_PATH, \"r\", encoding=\"utf-8\") as f:\n",
    "    conf = json.load(f)\n",
    "\n",
    "max_edge_deg = float(conf.get(\"overpass\", {}).get(\"max_edge_deg\", 0.25))\n",
    "tags = conf.get(\"tags\", [])\n",
    "assert tags, \"La config ne contient pas de tags.\"\n",
    "\n",
    "# 1ère tuile + 1er tag\n",
    "first_tile = next(tile_bbox(bbox, max_edge_deg=max_edge_deg))\n",
    "key, value = tags[0][\"key\"], tags[0][\"value\"]\n",
    "print(\"Tile:\", first_tile, \"| Tag:\", key, \"=\", value)\n",
    "\n",
    "# Requête → fetch → extraction\n",
    "q = build_query(first_tile, key, value, timeout_s=180)\n",
    "osm_json = fetch_osm_data(q)\n",
    "rows = extract_elements(osm_json)\n",
    "print(\"Éléments récupérés:\", len(rows))\n",
    "\n",
    "# Sauvegarde temporaire pour voir le format\n",
    "tmp_out = Path(OUTPUT_DIR) / f\"__SAMPLE__{key}_{value}_{city}.gpkg\"\n",
    "save_elements(rows, tmp_out, motive_value=value)\n",
    "\n",
    "# Aperçu\n",
    "if tmp_out.exists():\n",
    "    gdf_tmp = gpd.read_file(tmp_out)\n",
    "    display(gdf_tmp.head())"
   ]
  },
  {
   "cell_type": "markdown",
   "id": "c9b38722",
   "metadata": {},
   "source": [
    "> Interprétation :\n",
    "\n",
    "  * Si len(rows) == 0, soit le tag est rare sur ta zone, soit il faut diminuer max_edge_deg.\n",
    "\n",
    "  * Tu vois la structure des colonnes (tags OSM) et la géométrie."
   ]
  },
  {
   "cell_type": "markdown",
   "id": "40f171ae",
   "metadata": {},
   "source": [
    "## Un tag complet (toutes les tuiles)\n",
    "\n",
    "On passe du test au téléchargement d’un tag pour toute la zone."
   ]
  },
  {
   "cell_type": "code",
   "execution_count": 25,
   "id": "a316c294",
   "metadata": {},
   "outputs": [
    {
     "name": "stdout",
     "output_type": "stream",
     "text": [
      "Tag choisi: highway = bus_stop\n",
      "✓ Data saved: ..\\proxy\\data\\processed\\overpass_results_Marseille\\highway_bus_stop_Marseille.gpkg  (4650 features)\n"
     ]
    }
   ],
   "source": [
    "# Choisir un tag par index (ex: 0)\n",
    "i = 0\n",
    "key, value = tags[i][\"key\"], tags[i][\"value\"]\n",
    "print(\"Tag choisi:\", key, \"=\", value)\n",
    "\n",
    "elements = collect_elements_for_tag(bbox, key, value, max_edge_deg=max_edge_deg)\n",
    "outfile = Path(OUTPUT_DIR) / f\"{key}_{value}_{city}.gpkg\"\n",
    "save_elements(elements, outfile, motive_value=value)"
   ]
  },
  {
   "cell_type": "markdown",
   "id": "74516b3f",
   "metadata": {},
   "source": [
    "> Interprétation :\n",
    "\n",
    "  * Observe le nombre de features.\n",
    "\n",
    "  * Ouvre le `.gpkg` dans QGIS pour un premier regard spatial si besoin.\n"
   ]
  },
  {
   "cell_type": "markdown",
   "id": "d1851708",
   "metadata": {},
   "source": [
    "## Extraction complète (sécurisée)\n",
    "\n",
    "On ne retélécharge pas ce qui existe déjà → relançable sans surcoût.\n",
    "Tu peux couper puis relancer → il reprendra où il en est."
   ]
  },
  {
   "cell_type": "code",
   "execution_count": 35,
   "id": "b2001dc7",
   "metadata": {},
   "outputs": [],
   "source": [
    "def extract_osm_elements():\n",
    "    Path(OUTPUT_DIR).mkdir(parents=True, exist_ok=True)\n",
    "    bbox = load_bbox_from_shapefile(cadre_file)\n",
    "\n",
    "    with open(CONFIG_PATH, \"r\", encoding=\"utf-8\") as f:\n",
    "        config = json.load(f)\n",
    "\n",
    "    max_edge_deg = float(config.get(\"overpass\", {}).get(\"max_edge_deg\", 0.25))\n",
    "\n",
    "    for tag in config[\"tags\"]:\n",
    "        key, value = tag[\"key\"], tag[\"value\"]\n",
    "        fname = f\"{key}_{value}_{city}.gpkg\"\n",
    "        output_path = Path(OUTPUT_DIR) / fname\n",
    "\n",
    "        if output_path.exists():\n",
    "            print(f\"File already exists, skipping download: {output_path}\")\n",
    "            continue\n",
    "\n",
    "        print(f\"Extraction {key}={value}...\")\n",
    "        elements = collect_elements_for_tag(bbox, key, value, max_edge_deg=max_edge_deg)\n",
    "        save_elements(elements, output_path, motive_value=value)\n",
    "\n",
    "# Décommente pour lancer la collecte complète :\n",
    "# extract_osm_elements()"
   ]
  },
  {
   "cell_type": "markdown",
   "id": "0dd1cbdb",
   "metadata": {},
   "source": [
    "## Vérifier les sorties \n",
    "\n",
    "On s’assure que les fichiers sont bien produits, et on jette un œil au contenu."
   ]
  },
  {
   "cell_type": "code",
   "execution_count": 28,
   "metadata": {},
   "outputs": [
    {
     "name": "stdout",
     "output_type": "stream",
     "text": [
      "59 fichier(s) généré(s) dans ..\\proxy\\data\\processed\\overpass_results_Marseille:\n"
     ]
    },
    {
     "data": {
      "text/plain": [
       "['..\\\\proxy\\\\data\\\\processed\\\\overpass_results_Marseille\\\\amenity_bar_Marseille.gpkg',\n",
       " '..\\\\proxy\\\\data\\\\processed\\\\overpass_results_Marseille\\\\amenity_bicycle_parking_Marseille.gpkg',\n",
       " '..\\\\proxy\\\\data\\\\processed\\\\overpass_results_Marseille\\\\amenity_bicycle_rental_Marseille.gpkg',\n",
       " '..\\\\proxy\\\\data\\\\processed\\\\overpass_results_Marseille\\\\amenity_bus_station_Marseille.gpkg',\n",
       " '..\\\\proxy\\\\data\\\\processed\\\\overpass_results_Marseille\\\\amenity_cafe_Marseille.gpkg',\n",
       " '..\\\\proxy\\\\data\\\\processed\\\\overpass_results_Marseille\\\\amenity_childcare_Marseille.gpkg',\n",
       " '..\\\\proxy\\\\data\\\\processed\\\\overpass_results_Marseille\\\\amenity_cinema_Marseille.gpkg',\n",
       " '..\\\\proxy\\\\data\\\\processed\\\\overpass_results_Marseille\\\\amenity_clinic_Marseille.gpkg',\n",
       " '..\\\\proxy\\\\data\\\\processed\\\\overpass_results_Marseille\\\\amenity_college_Marseille.gpkg',\n",
       " '..\\\\proxy\\\\data\\\\processed\\\\overpass_results_Marseille\\\\amenity_community_centre_Marseille.gpkg']"
      ]
     },
     "execution_count": 28,
     "metadata": {},
     "output_type": "execute_result"
    }
   ],
   "source": [
    "from glob import glob\n",
    "\n",
    "files = sorted(glob(str(Path(OUTPUT_DIR) / f\"*_{city}.gpkg\")))\n",
    "print(f\"{len(files)} fichier(s) généré(s) dans {OUTPUT_DIR}:\")\n",
    "files[:10]"
   ]
  },
  {
   "cell_type": "markdown",
   "id": "6fcae738",
   "metadata": {},
   "source": [
    "> Interprétation :\n",
    "\n",
    "  * Si certains tags manquent → vérifie la config ou relance extract_osm_elements() (il traitera seulement les manquants).\n",
    "\n",
    "  * Si un fichier est vide → pas forcément un bug, peut être un tag absent de ta zone."
   ]
  },
  {
   "cell_type": "markdown",
   "id": "feacf68e",
   "metadata": {},
   "source": [
    "## Affichage d'un fichier\n",
    "\n",
    "On peut visualiser un des fichiers extraits pour vérifier le contenu."
   ]
  },
  {
   "cell_type": "code",
   "execution_count": 36,
   "id": "4a43e883",
   "metadata": {},
   "outputs": [
    {
     "name": "stdout",
     "output_type": "stream",
     "text": [
      "Exemple : ..\\proxy\\data\\processed\\overpass_results_Marseille\\amenity_bicycle_rental_Marseille.gpkg\n"
     ]
    },
    {
     "data": {
      "text/html": [
       "<div>\n",
       "<style scoped>\n",
       "    .dataframe tbody tr th:only-of-type {\n",
       "        vertical-align: middle;\n",
       "    }\n",
       "\n",
       "    .dataframe tbody tr th {\n",
       "        vertical-align: top;\n",
       "    }\n",
       "\n",
       "    .dataframe thead th {\n",
       "        text-align: right;\n",
       "    }\n",
       "</style>\n",
       "<table border=\"1\" class=\"dataframe\">\n",
       "  <thead>\n",
       "    <tr style=\"text-align: right;\">\n",
       "      <th></th>\n",
       "      <th>osm_type</th>\n",
       "      <th>osm_id</th>\n",
       "      <th>amenity</th>\n",
       "      <th>bicycle_rental</th>\n",
       "      <th>capacity</th>\n",
       "      <th>name</th>\n",
       "      <th>name:oc</th>\n",
       "      <th>network</th>\n",
       "      <th>operator</th>\n",
       "      <th>ref</th>\n",
       "      <th>...</th>\n",
       "      <th>survey:date</th>\n",
       "      <th>covered</th>\n",
       "      <th>operator:type</th>\n",
       "      <th>payment:app</th>\n",
       "      <th>note</th>\n",
       "      <th>brand</th>\n",
       "      <th>brand:wikidata</th>\n",
       "      <th>network:wikidata</th>\n",
       "      <th>motive_id</th>\n",
       "      <th>geometry</th>\n",
       "    </tr>\n",
       "  </thead>\n",
       "  <tbody>\n",
       "    <tr>\n",
       "      <th>0</th>\n",
       "      <td>node</td>\n",
       "      <td>391558891</td>\n",
       "      <td>bicycle_rental</td>\n",
       "      <td>docking_station</td>\n",
       "      <td>20</td>\n",
       "      <td>Prado - Paradis</td>\n",
       "      <td>Pradòt - Paradís</td>\n",
       "      <td>levélo</td>\n",
       "      <td>Inurba Mobility</td>\n",
       "      <td>ce4bhh92rcd13ifvqfh0</td>\n",
       "      <td>...</td>\n",
       "      <td>NaN</td>\n",
       "      <td>NaN</td>\n",
       "      <td>NaN</td>\n",
       "      <td>NaN</td>\n",
       "      <td>NaN</td>\n",
       "      <td>NaN</td>\n",
       "      <td>NaN</td>\n",
       "      <td>NaN</td>\n",
       "      <td>BICYCLE_RENTAL</td>\n",
       "      <td>POINT (893833.938 6244075.413)</td>\n",
       "    </tr>\n",
       "    <tr>\n",
       "      <th>1</th>\n",
       "      <td>node</td>\n",
       "      <td>391828560</td>\n",
       "      <td>bicycle_rental</td>\n",
       "      <td>docking_station</td>\n",
       "      <td>20</td>\n",
       "      <td>Prado - Gabès</td>\n",
       "      <td>Pradòt - Gàbes</td>\n",
       "      <td>levélo</td>\n",
       "      <td>Inurba Mobility</td>\n",
       "      <td>ce4bhg92rcd13ifvqf90</td>\n",
       "      <td>...</td>\n",
       "      <td>NaN</td>\n",
       "      <td>NaN</td>\n",
       "      <td>NaN</td>\n",
       "      <td>NaN</td>\n",
       "      <td>NaN</td>\n",
       "      <td>NaN</td>\n",
       "      <td>NaN</td>\n",
       "      <td>NaN</td>\n",
       "      <td>BICYCLE_RENTAL</td>\n",
       "      <td>POINT (893536.723 6243767.036)</td>\n",
       "    </tr>\n",
       "    <tr>\n",
       "      <th>2</th>\n",
       "      <td>node</td>\n",
       "      <td>393138363</td>\n",
       "      <td>bicycle_rental</td>\n",
       "      <td>docking_station</td>\n",
       "      <td>40</td>\n",
       "      <td>Prado - Michelet</td>\n",
       "      <td>Pradòt - Michelet</td>\n",
       "      <td>levélo</td>\n",
       "      <td>Inurba Mobility</td>\n",
       "      <td>ce4bhhp2rcd13ifvqfm0</td>\n",
       "      <td>...</td>\n",
       "      <td>NaN</td>\n",
       "      <td>NaN</td>\n",
       "      <td>NaN</td>\n",
       "      <td>NaN</td>\n",
       "      <td>NaN</td>\n",
       "      <td>NaN</td>\n",
       "      <td>NaN</td>\n",
       "      <td>NaN</td>\n",
       "      <td>BICYCLE_RENTAL</td>\n",
       "      <td>POINT (894253.095 6244382.594)</td>\n",
       "    </tr>\n",
       "    <tr>\n",
       "      <th>3</th>\n",
       "      <td>node</td>\n",
       "      <td>406255275</td>\n",
       "      <td>bicycle_rental</td>\n",
       "      <td>docking_station</td>\n",
       "      <td>20</td>\n",
       "      <td>Livon - Vieux-Port</td>\n",
       "      <td>Livon - Pòrt Vièlh</td>\n",
       "      <td>levélo</td>\n",
       "      <td>Inurba Mobility</td>\n",
       "      <td>ce4bhbh2rcd13ifvqeqg</td>\n",
       "      <td>...</td>\n",
       "      <td>NaN</td>\n",
       "      <td>NaN</td>\n",
       "      <td>NaN</td>\n",
       "      <td>NaN</td>\n",
       "      <td>NaN</td>\n",
       "      <td>NaN</td>\n",
       "      <td>NaN</td>\n",
       "      <td>NaN</td>\n",
       "      <td>BICYCLE_RENTAL</td>\n",
       "      <td>POINT (891666.580 6246547.828)</td>\n",
       "    </tr>\n",
       "    <tr>\n",
       "      <th>4</th>\n",
       "      <td>node</td>\n",
       "      <td>619870850</td>\n",
       "      <td>bicycle_rental</td>\n",
       "      <td>docking_station</td>\n",
       "      <td>20</td>\n",
       "      <td>Place aux Huiles</td>\n",
       "      <td>NaN</td>\n",
       "      <td>levélo</td>\n",
       "      <td>Inurba Mobility</td>\n",
       "      <td>ce4bgh92rcd13ifvqb40</td>\n",
       "      <td>...</td>\n",
       "      <td>NaN</td>\n",
       "      <td>NaN</td>\n",
       "      <td>NaN</td>\n",
       "      <td>NaN</td>\n",
       "      <td>NaN</td>\n",
       "      <td>NaN</td>\n",
       "      <td>NaN</td>\n",
       "      <td>NaN</td>\n",
       "      <td>BICYCLE_RENTAL</td>\n",
       "      <td>POINT (892545.055 6246689.056)</td>\n",
       "    </tr>\n",
       "  </tbody>\n",
       "</table>\n",
       "<p>5 rows × 30 columns</p>\n",
       "</div>"
      ],
      "text/plain": [
       "  osm_type     osm_id         amenity   bicycle_rental capacity  \\\n",
       "0     node  391558891  bicycle_rental  docking_station       20   \n",
       "1     node  391828560  bicycle_rental  docking_station       20   \n",
       "2     node  393138363  bicycle_rental  docking_station       40   \n",
       "3     node  406255275  bicycle_rental  docking_station       20   \n",
       "4     node  619870850  bicycle_rental  docking_station       20   \n",
       "\n",
       "                 name             name:oc network         operator  \\\n",
       "0     Prado - Paradis    Pradòt - Paradís  levélo  Inurba Mobility   \n",
       "1       Prado - Gabès      Pradòt - Gàbes  levélo  Inurba Mobility   \n",
       "2    Prado - Michelet   Pradòt - Michelet  levélo  Inurba Mobility   \n",
       "3  Livon - Vieux-Port  Livon - Pòrt Vièlh  levélo  Inurba Mobility   \n",
       "4    Place aux Huiles                 NaN  levélo  Inurba Mobility   \n",
       "\n",
       "                    ref  ... survey:date covered operator:type payment:app  \\\n",
       "0  ce4bhh92rcd13ifvqfh0  ...         NaN     NaN           NaN         NaN   \n",
       "1  ce4bhg92rcd13ifvqf90  ...         NaN     NaN           NaN         NaN   \n",
       "2  ce4bhhp2rcd13ifvqfm0  ...         NaN     NaN           NaN         NaN   \n",
       "3  ce4bhbh2rcd13ifvqeqg  ...         NaN     NaN           NaN         NaN   \n",
       "4  ce4bgh92rcd13ifvqb40  ...         NaN     NaN           NaN         NaN   \n",
       "\n",
       "  note brand brand:wikidata network:wikidata       motive_id  \\\n",
       "0  NaN   NaN            NaN              NaN  BICYCLE_RENTAL   \n",
       "1  NaN   NaN            NaN              NaN  BICYCLE_RENTAL   \n",
       "2  NaN   NaN            NaN              NaN  BICYCLE_RENTAL   \n",
       "3  NaN   NaN            NaN              NaN  BICYCLE_RENTAL   \n",
       "4  NaN   NaN            NaN              NaN  BICYCLE_RENTAL   \n",
       "\n",
       "                         geometry  \n",
       "0  POINT (893833.938 6244075.413)  \n",
       "1  POINT (893536.723 6243767.036)  \n",
       "2  POINT (894253.095 6244382.594)  \n",
       "3  POINT (891666.580 6246547.828)  \n",
       "4  POINT (892545.055 6246689.056)  \n",
       "\n",
       "[5 rows x 30 columns]"
      ]
     },
     "metadata": {},
     "output_type": "display_data"
    }
   ],
   "source": [
    "# Ouvrir un fichier au hasard et regarder quelques lignes\n",
    "import random\n",
    "if files:\n",
    "    sample = random.choice(files)\n",
    "    print(\"Exemple :\", sample)\n",
    "    gdf = gpd.read_file(sample)\n",
    "    display(gdf.head())\n",
    "else:\n",
    "    print(\"Aucun fichier trouvé.\")\n"
   ]
  },
  {
   "cell_type": "markdown",
   "id": "176fafc7",
   "metadata": {},
   "source": [
    "## Bonnes pratiques & dépannage\n",
    "\n",
    "Respect de l’API : `User-Agent`, délai, tailles raisonnables, retries → tu es un “bon citoyen”.\n",
    "\n",
    "**Paramètres clés** :\n",
    "\n",
    "`max_edge_deg` (plus petit = requêtes plus petites, plus sûres),\n",
    "\n",
    "`timeout_s` (zones denses),\n",
    "\n",
    "`POLITE_DELAY` (évite de déranger).\n",
    "\n",
    "**Erreurs courantes** :\n",
    "\n",
    "  * 429 = surcharge → normal → attends, réessaie, réduis `max_edge_deg`.\n",
    "\n",
    "  * Timeout = requêtes trop lourdes → idem.\n",
    "\n",
    "  * Fichier vide = tag rare → pas un bug.\n",
    "\n",
    "**Reproductibilité** :\n",
    "\n",
    "  * `extract_osm_elements()` saute les fichiers déjà présents → tu peux relancer sans tout refaire.\n",
    "\n",
    "  * GeoPackage en EPSG local → prêt pour des analyses/rendus."
   ]
  },
  {
   "cell_type": "markdown",
   "id": "8b6483fc",
   "metadata": {},
   "source": [
    "## Conclusion\n",
    "\n",
    "Dans cette section, nous avons exploré comment extraire efficacement des données d'OpenStreetMap en utilisant l'API Overpass. Nous avons couvert les étapes essentielles, de la préparation des paramètres à la gestion des erreurs courantes, en passant par le tuilage de l'emprise et la sauvegarde des données dans un format utilisable."
   ]
  }
 ],
 "metadata": {
  "kernelspec": {
   "display_name": "pynkdv",
   "language": "python",
   "name": "python3"
  },
  "language_info": {
   "codemirror_mode": {
    "name": "ipython",
    "version": 3
   },
   "file_extension": ".py",
   "mimetype": "text/x-python",
   "name": "python",
   "nbconvert_exporter": "python",
   "pygments_lexer": "ipython3",
   "version": "3.9.19"
  }
 },
 "nbformat": 4,
 "nbformat_minor": 5
}
