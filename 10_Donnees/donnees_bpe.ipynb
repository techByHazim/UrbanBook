{
 "cells": [
  {
   "cell_type": "markdown",
   "metadata": {},
   "source": [
    "# La Base permanente des équipements (BPE) "
   ]
  },
  {
   "cell_type": "markdown",
   "metadata": {},
   "source": [
    "## La BPE, qu'est-ce que c'est?\n",
    "\n",
    "La source Base permanente des équipements (BPE) est une base à vocation statistique. Elle répertorie un large éventail d'équipements et de services, marchands ou non, accessibles au public sur l'ensemble de la France au 1ᵉʳ janvier de chaque année.\n",
    "\n",
    "Elle est construite à partir de sources administratives diverses. Elle rassemble des données sur des points d'accès aux services destinés à la population, ou équipements, localisés à des niveaux géographiques fins : communes, territoires infra-communaux (Iris) et coordonnées `(x,y)`.\n",
    "\n",
    "\n",
    "Pour en savoir plus - Définitions, méthodes et qualité, consultez :  [https://www.insee.fr/fr/metadonnees/source/serie/s1161](https://www.insee.fr/fr/metadonnees/source/serie/s1161)"
   ]
  },
  {
   "cell_type": "markdown",
   "metadata": {},
   "source": [
    "## BPE - Données 2023 \n",
    "\n",
    "Les données utilisées dans cette section sont issues de la BPE de l'INSEE, édition 2023.\n",
    "Cela correspond aux données disponibles au 1ᵉʳ janvier 2024 (mise à jour en mai 2024), relatives aux équipements et services recensés au 1ᵉʳ janvier 2023. "
   ]
  },
  {
   "cell_type": "markdown",
   "metadata": {},
   "source": [
    "## Objectif\n",
    "\n",
    "Dans cette section, nous allons explorer la BPE, ses variables clés, proposer une méthode de categorisation des équipements par raison sociale en utilisant des outils python (`geopandas`)."
   ]
  },
  {
   "cell_type": "code",
   "execution_count": 1,
   "metadata": {},
   "outputs": [],
   "source": [
    "# Import biblio necessaire\n",
    "import geopandas as gpd"
   ]
  },
  {
   "cell_type": "markdown",
   "metadata": {},
   "source": [
    "## Chargement des données de la BPE\n",
    "\n",
    "Dans un premier temps, je commence par charger les données et voir ce quelles contiennent en affichant quelques lignes.\n",
    "La base chargé est celle de 2023 et est dejà filtré sur marseille (actuelle zone d'étude) par un outil QGIS. Cette filtrage sera automatisé prochainement afin de permettre de passer à la BPE general (France) vers une BPE reduit sur Marseille."
   ]
  },
  {
   "cell_type": "code",
   "execution_count": 2,
   "metadata": {},
   "outputs": [
    {
     "data": {
      "text/html": [
       "<div>\n",
       "<style scoped>\n",
       "    .dataframe tbody tr th:only-of-type {\n",
       "        vertical-align: middle;\n",
       "    }\n",
       "\n",
       "    .dataframe tbody tr th {\n",
       "        vertical-align: top;\n",
       "    }\n",
       "\n",
       "    .dataframe thead th {\n",
       "        text-align: right;\n",
       "    }\n",
       "</style>\n",
       "<table border=\"1\" class=\"dataframe\">\n",
       "  <thead>\n",
       "    <tr style=\"text-align: right;\">\n",
       "      <th></th>\n",
       "      <th>AN</th>\n",
       "      <th>NOMRS</th>\n",
       "      <th>CNOMRS</th>\n",
       "      <th>NUMVOIE</th>\n",
       "      <th>INDREP</th>\n",
       "      <th>TYPVOIE</th>\n",
       "      <th>LIBVOIE</th>\n",
       "      <th>CADR</th>\n",
       "      <th>LIBCOM</th>\n",
       "      <th>CODPOS</th>\n",
       "      <th>...</th>\n",
       "      <th>QUALI_QVA</th>\n",
       "      <th>ZUS</th>\n",
       "      <th>QUALI_ZUS</th>\n",
       "      <th>EPCI</th>\n",
       "      <th>UU2020</th>\n",
       "      <th>BV2022</th>\n",
       "      <th>AAV2020</th>\n",
       "      <th>DENS3</th>\n",
       "      <th>DENS7</th>\n",
       "      <th>geometry</th>\n",
       "    </tr>\n",
       "  </thead>\n",
       "  <tbody>\n",
       "    <tr>\n",
       "      <th>0</th>\n",
       "      <td>2023</td>\n",
       "      <td>DIR REG FIP PACA ET BOUCHES DU RHONE</td>\n",
       "      <td>TRESORERIE ALLAUCH</td>\n",
       "      <td></td>\n",
       "      <td></td>\n",
       "      <td>TRA</td>\n",
       "      <td>LA CHAP DES FILLES</td>\n",
       "      <td></td>\n",
       "      <td>ALLAUCH</td>\n",
       "      <td>13190</td>\n",
       "      <td>...</td>\n",
       "      <td>_Z</td>\n",
       "      <td>CSZ</td>\n",
       "      <td>_Z</td>\n",
       "      <td>200054807</td>\n",
       "      <td>00759</td>\n",
       "      <td>13055</td>\n",
       "      <td>003</td>\n",
       "      <td>1</td>\n",
       "      <td>1</td>\n",
       "      <td>POINT (901350.000 6251550.000)</td>\n",
       "    </tr>\n",
       "    <tr>\n",
       "      <th>1</th>\n",
       "      <td>2023</td>\n",
       "      <td>FRANCE SERVICES D’ALLAUCH - PLAN DE CUQUES</td>\n",
       "      <td></td>\n",
       "      <td>17</td>\n",
       "      <td></td>\n",
       "      <td>BD</td>\n",
       "      <td>CLEMENT ET JULES BARTHELEMY</td>\n",
       "      <td></td>\n",
       "      <td>ALLAUCH</td>\n",
       "      <td>13190</td>\n",
       "      <td>...</td>\n",
       "      <td>_Z</td>\n",
       "      <td>CSZ</td>\n",
       "      <td>_Z</td>\n",
       "      <td>200054807</td>\n",
       "      <td>00759</td>\n",
       "      <td>13055</td>\n",
       "      <td>003</td>\n",
       "      <td>1</td>\n",
       "      <td>1</td>\n",
       "      <td>POINT (899921.860 6251277.510)</td>\n",
       "    </tr>\n",
       "    <tr>\n",
       "      <th>2</th>\n",
       "      <td>2023</td>\n",
       "      <td>ALLAUCH</td>\n",
       "      <td></td>\n",
       "      <td>1</td>\n",
       "      <td></td>\n",
       "      <td>PL</td>\n",
       "      <td>DOCTEUR JOSEPH CHEVILLON</td>\n",
       "      <td></td>\n",
       "      <td>ALLAUCH</td>\n",
       "      <td>13190</td>\n",
       "      <td>...</td>\n",
       "      <td>_Z</td>\n",
       "      <td>CSZ</td>\n",
       "      <td>_Z</td>\n",
       "      <td>200054807</td>\n",
       "      <td>00759</td>\n",
       "      <td>13055</td>\n",
       "      <td>003</td>\n",
       "      <td>1</td>\n",
       "      <td>1</td>\n",
       "      <td>POINT (901355.700 6251704.700)</td>\n",
       "    </tr>\n",
       "    <tr>\n",
       "      <th>3</th>\n",
       "      <td>2023</td>\n",
       "      <td>CAISSE D'EPARGNE CEPAC</td>\n",
       "      <td>AGENCE ALLAUCH CANTON VERT</td>\n",
       "      <td></td>\n",
       "      <td></td>\n",
       "      <td>AV</td>\n",
       "      <td>DU CANTON VERT</td>\n",
       "      <td>CC ESPACE MELVILLE</td>\n",
       "      <td>ALLAUCH</td>\n",
       "      <td>13190</td>\n",
       "      <td>...</td>\n",
       "      <td>_Z</td>\n",
       "      <td>CSZ</td>\n",
       "      <td>_Z</td>\n",
       "      <td>200054807</td>\n",
       "      <td>00759</td>\n",
       "      <td>13055</td>\n",
       "      <td>003</td>\n",
       "      <td>1</td>\n",
       "      <td>1</td>\n",
       "      <td>POINT (900461.000 6252323.800)</td>\n",
       "    </tr>\n",
       "    <tr>\n",
       "      <th>4</th>\n",
       "      <td>2023</td>\n",
       "      <td>BANQUE POPULAIRE MEDITERRANEE</td>\n",
       "      <td></td>\n",
       "      <td></td>\n",
       "      <td></td>\n",
       "      <td>AV</td>\n",
       "      <td>LEI RIMA</td>\n",
       "      <td>LE LOGIS NEUF</td>\n",
       "      <td>ALLAUCH</td>\n",
       "      <td>13190</td>\n",
       "      <td>...</td>\n",
       "      <td>_Z</td>\n",
       "      <td>CSZ</td>\n",
       "      <td>_Z</td>\n",
       "      <td>200054807</td>\n",
       "      <td>00759</td>\n",
       "      <td>13055</td>\n",
       "      <td>003</td>\n",
       "      <td>1</td>\n",
       "      <td>1</td>\n",
       "      <td>POINT (901698.290 6254031.270)</td>\n",
       "    </tr>\n",
       "  </tbody>\n",
       "</table>\n",
       "<p>5 rows × 75 columns</p>\n",
       "</div>"
      ],
      "text/plain": [
       "     AN                                       NOMRS  \\\n",
       "0  2023        DIR REG FIP PACA ET BOUCHES DU RHONE   \n",
       "1  2023  FRANCE SERVICES D’ALLAUCH - PLAN DE CUQUES   \n",
       "2  2023                                     ALLAUCH   \n",
       "3  2023                      CAISSE D'EPARGNE CEPAC   \n",
       "4  2023               BANQUE POPULAIRE MEDITERRANEE   \n",
       "\n",
       "                       CNOMRS NUMVOIE INDREP TYPVOIE  \\\n",
       "0          TRESORERIE ALLAUCH                    TRA   \n",
       "1                                  17             BD   \n",
       "2                                   1             PL   \n",
       "3  AGENCE ALLAUCH CANTON VERT                     AV   \n",
       "4                                                 AV   \n",
       "\n",
       "                       LIBVOIE                CADR   LIBCOM CODPOS  ...  \\\n",
       "0           LA CHAP DES FILLES                      ALLAUCH  13190  ...   \n",
       "1  CLEMENT ET JULES BARTHELEMY                      ALLAUCH  13190  ...   \n",
       "2     DOCTEUR JOSEPH CHEVILLON                      ALLAUCH  13190  ...   \n",
       "3               DU CANTON VERT  CC ESPACE MELVILLE  ALLAUCH  13190  ...   \n",
       "4                     LEI RIMA       LE LOGIS NEUF  ALLAUCH  13190  ...   \n",
       "\n",
       "  QUALI_QVA  ZUS QUALI_ZUS       EPCI UU2020 BV2022 AAV2020 DENS3 DENS7  \\\n",
       "0        _Z  CSZ        _Z  200054807  00759  13055     003     1     1   \n",
       "1        _Z  CSZ        _Z  200054807  00759  13055     003     1     1   \n",
       "2        _Z  CSZ        _Z  200054807  00759  13055     003     1     1   \n",
       "3        _Z  CSZ        _Z  200054807  00759  13055     003     1     1   \n",
       "4        _Z  CSZ        _Z  200054807  00759  13055     003     1     1   \n",
       "\n",
       "                         geometry  \n",
       "0  POINT (901350.000 6251550.000)  \n",
       "1  POINT (899921.860 6251277.510)  \n",
       "2  POINT (901355.700 6251704.700)  \n",
       "3  POINT (900461.000 6252323.800)  \n",
       "4  POINT (901698.290 6254031.270)  \n",
       "\n",
       "[5 rows x 75 columns]"
      ]
     },
     "execution_count": 2,
     "metadata": {},
     "output_type": "execute_result"
    }
   ],
   "source": [
    "# Fichier deses données de la BPE filtré sur Marseille \n",
    "data_path = \"../../proxy/data/processed/amenities/bpe2023_Marseille.gpkg\"\n",
    "# Chargement des données \n",
    "data = gpd.read_file(data_path)\n",
    "\n",
    "# Affichage des 5 premières lignes\n",
    "data.head()"
   ]
  },
  {
   "cell_type": "code",
   "execution_count": 3,
   "metadata": {},
   "outputs": [
    {
     "data": {
      "text/plain": [
       "Index(['AN', 'NOMRS', 'CNOMRS', 'NUMVOIE', 'INDREP', 'TYPVOIE', 'LIBVOIE',\n",
       "       'CADR', 'LIBCOM', 'CODPOS', 'DEPCOM', 'DEP', 'REG', 'DOM', 'SDOM',\n",
       "       'TYPEQU', 'SIRET', 'STATUT_DIFFUSION', 'CANTINE', 'INTERNAT', 'RPI',\n",
       "       'EP', 'CL_PGE', 'SECT', 'ACCES_AIRE_PRATIQUE', 'ACCES_LIBRE',\n",
       "       'ACCES_SANITAIRE', 'ACCES_VESTIAIRE', 'CAPACITE_D_ACCUEIL',\n",
       "       'PRES_DOUCHE', 'PRES_SANITAIRE', 'SAISONNIER', 'COUVERT', 'ECLAIRE',\n",
       "       'CATEGORIE', 'MULTIPLEXE', 'ACCUEIL', 'ITINERANCE', 'MODE_GESTION',\n",
       "       'SSTYPHEB', 'TYPE', 'CAPACITE', 'INDIC_CAPA', 'NBEQUIDENT',\n",
       "       'INDIC_NBEQUIDENT', 'NBSALLES', 'INDIC_NBSALLES', 'NBLIEUX',\n",
       "       'INDIC_NBLIEUX', 'LAMBERT_X', 'LAMBERT_Y', 'LONGITUDE', 'LATITUDE',\n",
       "       'QUALITE_XY', 'EPSG', 'QUALITE_GEOLOC', 'TR_DIST_PRECISION', 'DCIRIS',\n",
       "       'QUALI_IRIS', 'IRISEE', 'QP2015', 'QUALI_QP2015', 'QP', 'QUALI_QP',\n",
       "       'QVA', 'QUALI_QVA', 'ZUS', 'QUALI_ZUS', 'EPCI', 'UU2020', 'BV2022',\n",
       "       'AAV2020', 'DENS3', 'DENS7', 'geometry'],\n",
       "      dtype='object')"
      ]
     },
     "execution_count": 3,
     "metadata": {},
     "output_type": "execute_result"
    }
   ],
   "source": [
    "# Affiche les variables\n",
    "data.columns"
   ]
  },
  {
   "cell_type": "markdown",
   "metadata": {},
   "source": [
    "Le dictionnaire de ces variables (colonnes) est disponible dans le fichier `BPE23_anonymisee_dictionnaire_variables.html` dans le dossier `data/raw/docs` du projet."
   ]
  },
  {
   "cell_type": "markdown",
   "metadata": {},
   "source": [
    "## La qualité de géolocalisation des équipements\n",
    "\n",
    "Les équipements de la BPE sont géolocalisés avec différents niveaux de précision, indiqués dans la colonne `QUALITE_XY` du GeoDataFrame. Voici les différentes qualités de géolocalisation possibles :"
   ]
  },
  {
   "cell_type": "code",
   "execution_count": 4,
   "metadata": {},
   "outputs": [
    {
     "name": "stdout",
     "output_type": "stream",
     "text": [
      "['A' 'B' 'M' '_U']\n"
     ]
    }
   ],
   "source": [
    "print(data['QUALITE_XY'].unique())"
   ]
  },
  {
   "cell_type": "markdown",
   "metadata": {},
   "source": [
    "**DESCRIPTION QUALITE_XY** \n",
    "\n",
    "  | Code | Libellé | Description |\n",
    "  |------|---------|-------------|\n",
    "  | B    | Bonne   | Précision < 100 m (adresse exacte ou voie exacte, précision < 100 m) |\n",
    "  | A    | Acceptable | Précision [100 - 500[ m (voie exacte, précision entre 100 et 500 m) |\n",
    "  | M    | Mauvaise | Précision ≥ 500 m (voie exacte, précision ≥ 500 m ou voie inconnue/probable, position aléatoire dans la commune) |\n",
    "  | _Z   | Non-géolocalisé | Non-géolocalisé |\n",
    "  | _U   | Indéterminée | Indéterminée |\n",
    "\n",
    "\n",
    "\n",
    "Dans mon analyse, je ne vais retenir que les équipements avec une qualité de géolocalisation \"Bonne\" ou \"Acceptable\", c'est-à-dire ceux qui ont une précision de localisation inférieure à **500 mètres**. Les équipements avec une qualité \"Mauvaise\", \"Non-géolocalisé\" ou \"Indéterminée\" sont exclus de l'analyse, car leur localisation est trop imprécise pour être utile par rapport à granulometrie de notre analyse."
   ]
  },
  {
   "cell_type": "code",
   "execution_count": 5,
   "metadata": {},
   "outputs": [
    {
     "name": "stdout",
     "output_type": "stream",
     "text": [
      "Qualité des données génerale\n",
      "['A' 'B' 'M' '_U']\n",
      "-----------------------------------\n",
      "Qualité des données prises\n",
      "['A' 'B']\n"
     ]
    }
   ],
   "source": [
    "print(\"Qualité des données génerale\")\n",
    "print(data['QUALITE_XY'].unique())\n",
    "\n",
    "print('-----------------------------------')\n",
    "\n",
    "data = data[data['QUALITE_XY'].isin(['B', 'A'])]\n",
    "print(\"Qualité des données prises\")\n",
    "print(data['QUALITE_XY'].unique())"
   ]
  },
  {
   "cell_type": "markdown",
   "metadata": {},
   "source": [
    "## Catégorisation par types d’équipements\n",
    "\n",
    "Les équipements seront regrouper en grandes catégories (santé, éducation, culture, sport, etc.).\n",
    "Cette catégorisation sera basée sur la colonne `TYPEQU` du GeoDataFrame, qui indique le type d’équipement.\n",
    "\n",
    "La correspondance entre les codes `TYPEQU` et leur signification est disponible dans ce fichier: [https://www.insee.fr/fr/metadonnees/source/fichier/BPE23_anonymisee_dictionnaire_variables.html](https://www.insee.fr/fr/metadonnees/source/fichier/BPE23_anonymisee_dictionnaire_variables.html).\n",
    "\n",
    "La sélection des catégories peut être adaptée selon les besoins de l’analyse."
   ]
  },
  {
   "cell_type": "code",
   "execution_count": 6,
   "metadata": {},
   "outputs": [
    {
     "name": "stdout",
     "output_type": "stream",
     "text": [
      "Affichage des types d'equipements\n",
      "['A120' 'A128' 'A129' 'A203' 'A205' 'A206' 'A208' 'A301' 'A303' 'A304'\n",
      " 'A401' 'A402' 'A403' 'A404' 'A405' 'A406' 'A501' 'A502' 'A503' 'A504'\n",
      " 'A505' 'A506' 'A507' 'B105' 'B201' 'B202' 'B204' 'B207' 'B208' 'B209'\n",
      " 'B210' 'B302' 'B303' 'B304' 'B306' 'B307' 'B309' 'B311' 'B312' 'B313'\n",
      " 'B315' 'B316' 'B320' 'B321' 'B323' 'B325' 'C107' 'C108' 'C109' 'D104'\n",
      " 'D109' 'D201' 'D203' 'D207' 'D208' 'D211' 'D221' 'D233' 'D235' 'D236'\n",
      " 'D237' 'D238' 'D240' 'D242' 'D243' 'D244' 'D302' 'D303' 'D307' 'D401'\n",
      " 'D403' 'D502' 'D505' 'D603' 'D604' 'D606' 'E101' 'F307' 'F314' 'G101'\n",
      " 'G102' 'G104' 'G105' 'A101' 'A104' 'A122' 'A124' 'A132' 'A133' 'A207'\n",
      " 'A302' 'B103' 'B104' 'B205' 'B206' 'B308' 'B310' 'B317' 'B318' 'B319'\n",
      " 'B322' 'B324' 'C201' 'C301' 'C302' 'C402' 'C409' 'C501' 'C502' 'C601'\n",
      " 'C609' 'D101' 'D102' 'D106' 'D107' 'D108' 'D111' 'D112' 'D113' 'D202'\n",
      " 'D206' 'D209' 'D210' 'D212' 'D213' 'D214' 'D231' 'D239' 'D402' 'D503'\n",
      " 'D504' 'D602' 'D605' 'D709' 'E108' 'F303' 'F305' 'F312' 'F315' 'G103'\n",
      " 'D601' 'C605' 'D506' 'D103' 'D703' 'E109' 'C503' 'E102' 'D701' 'C305'\n",
      " 'C504' 'C701' 'D110' 'D704' 'D705' 'E107' 'C509' 'D507' 'C403' 'C702'\n",
      " 'C401' 'D304' 'A109' 'A126' 'A130' 'A131' 'D702' 'A108' 'F313' 'D105'\n",
      " 'C602' 'C304' 'D305']\n"
     ]
    }
   ],
   "source": [
    "print(\"Affichage des types d'equipements\")\n",
    "print(data[\"TYPEQU\"].unique())"
   ]
  },
  {
   "cell_type": "markdown",
   "metadata": {},
   "source": [
    "### Domaines des types d’équipements\n",
    "\n",
    "Chaque code correspond à un type d’équipement, réparti en **7 grands domaines** :\n",
    "\n",
    "| Code | Domaine d’appartenance         |\n",
    "| ---- | ------------------------------ |\n",
    "| A    | Services pour les particuliers |\n",
    "| B    | Commerces                      |\n",
    "| C    | Enseignement                   |\n",
    "| D    | Santé et action sociale        |\n",
    "| E    | Transports et déplacements     |\n",
    "| F    | Sports, loisirs et culture     |\n",
    "| G    | Tourisme                       |\n",
    "\n",
    "\n",
    "### Exemple : catégorisation du domaine **Santé**\n",
    "\n",
    "Pour illustrer la démarche, prenons l’exemple du domaine **Santé**.\n",
    "Dans cette catégorie, on peut retenir différents équipements en fonction des objectifs d’analyse.\n",
    "\n",
    "Par exemple : médecin généraliste, masseur-kinésithérapeute, laboratoire d’analyses médicales, pharmacie ou encore centre de santé.\n",
    "\n",
    "Dans le dictionnaire de variables de la BPE, cela se revient à prendre :"
   ]
  },
  {
   "cell_type": "code",
   "execution_count": 7,
   "metadata": {},
   "outputs": [],
   "source": [
    "health = {\n",
    "    'D108', 'D113', 'D201', 'D233', 'D302', 'D307'\n",
    "}"
   ]
  },
  {
   "cell_type": "markdown",
   "metadata": {},
   "source": [
    "Ici, chaque code est associé à un type d’équipement :\n",
    "\n",
    "* `D108` : Centre de santé\n",
    "* `D113` : Maison de santé pluridisciplinaire\n",
    "* `D201` : Médecin généraliste\n",
    "* `D233` : Masseur-kinésithérapeute\n",
    "* `D302` : Laboratoire d’analyses médicales\n",
    "* `D307` : Pharmacie"
   ]
  },
  {
   "cell_type": "markdown",
   "metadata": {},
   "source": [
    "## Pondération des équipements\n",
    "\n",
    "En plus de la catégorisation, les équipements vont être pondérés selon deux dimensions :\n",
    "\n",
    "* leur importance (poids intrinsèque),\n",
    "* leur environnement (poids extrinsèque).\n",
    "\n",
    "Pour cela, nous créerons deux colonnes dans le GeoDataFrame :\n",
    "\n",
    "* `wi` pour le poids intrinsèque,\n",
    "* `wecat` pour le poids extrinsèque."
   ]
  },
  {
   "cell_type": "markdown",
   "metadata": {},
   "source": [
    "### Crétation des colonnes et initialisation"
   ]
  },
  {
   "cell_type": "code",
   "execution_count": 8,
   "metadata": {},
   "outputs": [
    {
     "data": {
      "text/html": [
       "<div>\n",
       "<style scoped>\n",
       "    .dataframe tbody tr th:only-of-type {\n",
       "        vertical-align: middle;\n",
       "    }\n",
       "\n",
       "    .dataframe tbody tr th {\n",
       "        vertical-align: top;\n",
       "    }\n",
       "\n",
       "    .dataframe thead th {\n",
       "        text-align: right;\n",
       "    }\n",
       "</style>\n",
       "<table border=\"1\" class=\"dataframe\">\n",
       "  <thead>\n",
       "    <tr style=\"text-align: right;\">\n",
       "      <th></th>\n",
       "      <th>AN</th>\n",
       "      <th>NOMRS</th>\n",
       "      <th>CNOMRS</th>\n",
       "      <th>NUMVOIE</th>\n",
       "      <th>INDREP</th>\n",
       "      <th>TYPVOIE</th>\n",
       "      <th>LIBVOIE</th>\n",
       "      <th>CADR</th>\n",
       "      <th>LIBCOM</th>\n",
       "      <th>CODPOS</th>\n",
       "      <th>...</th>\n",
       "      <th>EPCI</th>\n",
       "      <th>UU2020</th>\n",
       "      <th>BV2022</th>\n",
       "      <th>AAV2020</th>\n",
       "      <th>DENS3</th>\n",
       "      <th>DENS7</th>\n",
       "      <th>geometry</th>\n",
       "      <th>cat</th>\n",
       "      <th>wi</th>\n",
       "      <th>wecat</th>\n",
       "    </tr>\n",
       "  </thead>\n",
       "  <tbody>\n",
       "    <tr>\n",
       "      <th>0</th>\n",
       "      <td>2023</td>\n",
       "      <td>DIR REG FIP PACA ET BOUCHES DU RHONE</td>\n",
       "      <td>TRESORERIE ALLAUCH</td>\n",
       "      <td></td>\n",
       "      <td></td>\n",
       "      <td>TRA</td>\n",
       "      <td>LA CHAP DES FILLES</td>\n",
       "      <td></td>\n",
       "      <td>ALLAUCH</td>\n",
       "      <td>13190</td>\n",
       "      <td>...</td>\n",
       "      <td>200054807</td>\n",
       "      <td>00759</td>\n",
       "      <td>13055</td>\n",
       "      <td>003</td>\n",
       "      <td>1</td>\n",
       "      <td>1</td>\n",
       "      <td>POINT (901350.000 6251550.000)</td>\n",
       "      <td>tbd</td>\n",
       "      <td>0.0</td>\n",
       "      <td>0.0</td>\n",
       "    </tr>\n",
       "    <tr>\n",
       "      <th>1</th>\n",
       "      <td>2023</td>\n",
       "      <td>FRANCE SERVICES D’ALLAUCH - PLAN DE CUQUES</td>\n",
       "      <td></td>\n",
       "      <td>17</td>\n",
       "      <td></td>\n",
       "      <td>BD</td>\n",
       "      <td>CLEMENT ET JULES BARTHELEMY</td>\n",
       "      <td></td>\n",
       "      <td>ALLAUCH</td>\n",
       "      <td>13190</td>\n",
       "      <td>...</td>\n",
       "      <td>200054807</td>\n",
       "      <td>00759</td>\n",
       "      <td>13055</td>\n",
       "      <td>003</td>\n",
       "      <td>1</td>\n",
       "      <td>1</td>\n",
       "      <td>POINT (899921.860 6251277.510)</td>\n",
       "      <td>tbd</td>\n",
       "      <td>0.0</td>\n",
       "      <td>0.0</td>\n",
       "    </tr>\n",
       "    <tr>\n",
       "      <th>2</th>\n",
       "      <td>2023</td>\n",
       "      <td>ALLAUCH</td>\n",
       "      <td></td>\n",
       "      <td>1</td>\n",
       "      <td></td>\n",
       "      <td>PL</td>\n",
       "      <td>DOCTEUR JOSEPH CHEVILLON</td>\n",
       "      <td></td>\n",
       "      <td>ALLAUCH</td>\n",
       "      <td>13190</td>\n",
       "      <td>...</td>\n",
       "      <td>200054807</td>\n",
       "      <td>00759</td>\n",
       "      <td>13055</td>\n",
       "      <td>003</td>\n",
       "      <td>1</td>\n",
       "      <td>1</td>\n",
       "      <td>POINT (901355.700 6251704.700)</td>\n",
       "      <td>tbd</td>\n",
       "      <td>0.0</td>\n",
       "      <td>0.0</td>\n",
       "    </tr>\n",
       "    <tr>\n",
       "      <th>3</th>\n",
       "      <td>2023</td>\n",
       "      <td>CAISSE D'EPARGNE CEPAC</td>\n",
       "      <td>AGENCE ALLAUCH CANTON VERT</td>\n",
       "      <td></td>\n",
       "      <td></td>\n",
       "      <td>AV</td>\n",
       "      <td>DU CANTON VERT</td>\n",
       "      <td>CC ESPACE MELVILLE</td>\n",
       "      <td>ALLAUCH</td>\n",
       "      <td>13190</td>\n",
       "      <td>...</td>\n",
       "      <td>200054807</td>\n",
       "      <td>00759</td>\n",
       "      <td>13055</td>\n",
       "      <td>003</td>\n",
       "      <td>1</td>\n",
       "      <td>1</td>\n",
       "      <td>POINT (900461.000 6252323.800)</td>\n",
       "      <td>tbd</td>\n",
       "      <td>0.0</td>\n",
       "      <td>0.0</td>\n",
       "    </tr>\n",
       "    <tr>\n",
       "      <th>4</th>\n",
       "      <td>2023</td>\n",
       "      <td>BANQUE POPULAIRE MEDITERRANEE</td>\n",
       "      <td></td>\n",
       "      <td></td>\n",
       "      <td></td>\n",
       "      <td>AV</td>\n",
       "      <td>LEI RIMA</td>\n",
       "      <td>LE LOGIS NEUF</td>\n",
       "      <td>ALLAUCH</td>\n",
       "      <td>13190</td>\n",
       "      <td>...</td>\n",
       "      <td>200054807</td>\n",
       "      <td>00759</td>\n",
       "      <td>13055</td>\n",
       "      <td>003</td>\n",
       "      <td>1</td>\n",
       "      <td>1</td>\n",
       "      <td>POINT (901698.290 6254031.270)</td>\n",
       "      <td>tbd</td>\n",
       "      <td>0.0</td>\n",
       "      <td>0.0</td>\n",
       "    </tr>\n",
       "  </tbody>\n",
       "</table>\n",
       "<p>5 rows × 78 columns</p>\n",
       "</div>"
      ],
      "text/plain": [
       "     AN                                       NOMRS  \\\n",
       "0  2023        DIR REG FIP PACA ET BOUCHES DU RHONE   \n",
       "1  2023  FRANCE SERVICES D’ALLAUCH - PLAN DE CUQUES   \n",
       "2  2023                                     ALLAUCH   \n",
       "3  2023                      CAISSE D'EPARGNE CEPAC   \n",
       "4  2023               BANQUE POPULAIRE MEDITERRANEE   \n",
       "\n",
       "                       CNOMRS NUMVOIE INDREP TYPVOIE  \\\n",
       "0          TRESORERIE ALLAUCH                    TRA   \n",
       "1                                  17             BD   \n",
       "2                                   1             PL   \n",
       "3  AGENCE ALLAUCH CANTON VERT                     AV   \n",
       "4                                                 AV   \n",
       "\n",
       "                       LIBVOIE                CADR   LIBCOM CODPOS  ...  \\\n",
       "0           LA CHAP DES FILLES                      ALLAUCH  13190  ...   \n",
       "1  CLEMENT ET JULES BARTHELEMY                      ALLAUCH  13190  ...   \n",
       "2     DOCTEUR JOSEPH CHEVILLON                      ALLAUCH  13190  ...   \n",
       "3               DU CANTON VERT  CC ESPACE MELVILLE  ALLAUCH  13190  ...   \n",
       "4                     LEI RIMA       LE LOGIS NEUF  ALLAUCH  13190  ...   \n",
       "\n",
       "        EPCI UU2020 BV2022 AAV2020 DENS3 DENS7  \\\n",
       "0  200054807  00759  13055     003     1     1   \n",
       "1  200054807  00759  13055     003     1     1   \n",
       "2  200054807  00759  13055     003     1     1   \n",
       "3  200054807  00759  13055     003     1     1   \n",
       "4  200054807  00759  13055     003     1     1   \n",
       "\n",
       "                         geometry  cat   wi wecat  \n",
       "0  POINT (901350.000 6251550.000)  tbd  0.0   0.0  \n",
       "1  POINT (899921.860 6251277.510)  tbd  0.0   0.0  \n",
       "2  POINT (901355.700 6251704.700)  tbd  0.0   0.0  \n",
       "3  POINT (900461.000 6252323.800)  tbd  0.0   0.0  \n",
       "4  POINT (901698.290 6254031.270)  tbd  0.0   0.0  \n",
       "\n",
       "[5 rows x 78 columns]"
      ]
     },
     "execution_count": 8,
     "metadata": {},
     "output_type": "execute_result"
    }
   ],
   "source": [
    "data[\"cat\"] = \"tbd\"  # une chaîne de caractères (categorie sociale)\n",
    "data[\"wi\"] = 0.0    # un float (poids intrinsèque)\n",
    "data[\"wecat\"] = 0.0  # un float (poids extrinsèque)\n",
    "\n",
    "# Vérification si colonnes ont été ajoutées \n",
    "data.head()"
   ]
  },
  {
   "cell_type": "markdown",
   "metadata": {},
   "source": [
    "Ensuite je réduis le GeoDataFrame aux colonnes essentielles pour l'analyse, à savoir :"
   ]
  },
  {
   "cell_type": "code",
   "execution_count": 9,
   "metadata": {},
   "outputs": [],
   "source": [
    "data = data[['TYPEQU', 'geometry', 'cat', 'wi', 'wecat']] # On réduit à 5 colonnes + l'ID"
   ]
  },
  {
   "cell_type": "code",
   "execution_count": 10,
   "metadata": {},
   "outputs": [
    {
     "name": "stdout",
     "output_type": "stream",
     "text": [
      "<class 'geopandas.geodataframe.GeoDataFrame'>\n",
      "Index: 54113 entries, 0 to 58686\n",
      "Data columns (total 5 columns):\n",
      " #   Column    Non-Null Count  Dtype   \n",
      "---  ------    --------------  -----   \n",
      " 0   TYPEQU    54113 non-null  object  \n",
      " 1   geometry  54113 non-null  geometry\n",
      " 2   cat       54113 non-null  object  \n",
      " 3   wi        54113 non-null  float64 \n",
      " 4   wecat     54113 non-null  float64 \n",
      "dtypes: float64(2), geometry(1), object(2)\n",
      "memory usage: 2.5+ MB\n"
     ]
    }
   ],
   "source": [
    "# Affichage des informations sur les colonnes retenues\n",
    "data.info()"
   ]
  },
  {
   "cell_type": "markdown",
   "metadata": {},
   "source": [
    "### Remplissage des colonnes `cat`, `wi` et `wecat`\n",
    "\n",
    "* La colonne `cat` (catégorie sociale) est remplie à partir du type d’équipement (`TYPEQU`).\n",
    "  Par exemple, les équipements de santé sont marqués comme *\"santé\"*, ceux d’éducation comme *\"éducation\"*, etc.\n",
    "\n",
    "* La colonne `wi` (poids intrinsèque) représente l’importance relative de chaque type d’équipement à l’intérieur de sa catégorie.\n",
    "\n",
    "* La colonne `wecat` (poids extrinsèque) correspond au contexte : elle prend en compte la diversité des services disponibles autour de l’équipement.\n",
    "\n",
    "Dans cette partie, seule la colonne `cat` sera renseigner.\n",
    "Les colonnes `wi` et `wecat` sont initialisées à zéro et feront l’objet d’analyses ultérieurs. Pour illustrer, prenons l’exemple du domaine Santé."
   ]
  },
  {
   "cell_type": "code",
   "execution_count": 11,
   "metadata": {},
   "outputs": [],
   "source": [
    "# Normaliser les valeurs dans la base\n",
    "data['TYPEQU'] = data['TYPEQU'].str.strip().str.upper()\n",
    "\n",
    "data.loc[data['TYPEQU'].isin(health), 'cat'] = 'health'\n",
    "\n",
    "# Supprimer les lignes qui ne sont pas dans les listes\n",
    "data = data[data['cat'] != 'tbd']"
   ]
  },
  {
   "cell_type": "code",
   "execution_count": 12,
   "metadata": {},
   "outputs": [
    {
     "data": {
      "text/plain": [
       "array(['D201', 'D233', 'D302', 'D307', 'D108', 'D113'], dtype=object)"
      ]
     },
     "execution_count": 12,
     "metadata": {},
     "output_type": "execute_result"
    }
   ],
   "source": [
    "data[\"TYPEQU\"].unique()"
   ]
  },
  {
   "cell_type": "code",
   "execution_count": 13,
   "metadata": {},
   "outputs": [
    {
     "data": {
      "text/html": [
       "<div>\n",
       "<style scoped>\n",
       "    .dataframe tbody tr th:only-of-type {\n",
       "        vertical-align: middle;\n",
       "    }\n",
       "\n",
       "    .dataframe tbody tr th {\n",
       "        vertical-align: top;\n",
       "    }\n",
       "\n",
       "    .dataframe thead th {\n",
       "        text-align: right;\n",
       "    }\n",
       "</style>\n",
       "<table border=\"1\" class=\"dataframe\">\n",
       "  <thead>\n",
       "    <tr style=\"text-align: right;\">\n",
       "      <th></th>\n",
       "      <th>TYPEQU</th>\n",
       "      <th>geometry</th>\n",
       "      <th>cat</th>\n",
       "      <th>wi</th>\n",
       "      <th>wecat</th>\n",
       "    </tr>\n",
       "  </thead>\n",
       "  <tbody>\n",
       "    <tr>\n",
       "      <th>0</th>\n",
       "      <td>D201</td>\n",
       "      <td>POINT (901648.360 6253959.190)</td>\n",
       "      <td>health</td>\n",
       "      <td>0.0</td>\n",
       "      <td>0.0</td>\n",
       "    </tr>\n",
       "    <tr>\n",
       "      <th>1</th>\n",
       "      <td>D201</td>\n",
       "      <td>POINT (901650.000 6253850.000)</td>\n",
       "      <td>health</td>\n",
       "      <td>0.0</td>\n",
       "      <td>0.0</td>\n",
       "    </tr>\n",
       "    <tr>\n",
       "      <th>2</th>\n",
       "      <td>D201</td>\n",
       "      <td>POINT (901387.000 6251711.700)</td>\n",
       "      <td>health</td>\n",
       "      <td>0.0</td>\n",
       "      <td>0.0</td>\n",
       "    </tr>\n",
       "    <tr>\n",
       "      <th>3</th>\n",
       "      <td>D201</td>\n",
       "      <td>POINT (901236.730 6251635.020)</td>\n",
       "      <td>health</td>\n",
       "      <td>0.0</td>\n",
       "      <td>0.0</td>\n",
       "    </tr>\n",
       "    <tr>\n",
       "      <th>4</th>\n",
       "      <td>D201</td>\n",
       "      <td>POINT (901244.210 6251911.890)</td>\n",
       "      <td>health</td>\n",
       "      <td>0.0</td>\n",
       "      <td>0.0</td>\n",
       "    </tr>\n",
       "  </tbody>\n",
       "</table>\n",
       "</div>"
      ],
      "text/plain": [
       "  TYPEQU                        geometry     cat   wi  wecat\n",
       "0   D201  POINT (901648.360 6253959.190)  health  0.0    0.0\n",
       "1   D201  POINT (901650.000 6253850.000)  health  0.0    0.0\n",
       "2   D201  POINT (901387.000 6251711.700)  health  0.0    0.0\n",
       "3   D201  POINT (901236.730 6251635.020)  health  0.0    0.0\n",
       "4   D201  POINT (901244.210 6251911.890)  health  0.0    0.0"
      ]
     },
     "execution_count": 13,
     "metadata": {},
     "output_type": "execute_result"
    }
   ],
   "source": [
    "# Réinitialisation de l'index \n",
    "data = data.reset_index(drop=True)\n",
    "\n",
    "# Affichage de l'entête du tableau\n",
    "data.head()"
   ]
  },
  {
   "cell_type": "code",
   "execution_count": 14,
   "metadata": {},
   "outputs": [
    {
     "name": "stdout",
     "output_type": "stream",
     "text": [
      "<class 'geopandas.geodataframe.GeoDataFrame'>\n",
      "RangeIndex: 4670 entries, 0 to 4669\n",
      "Data columns (total 5 columns):\n",
      " #   Column    Non-Null Count  Dtype   \n",
      "---  ------    --------------  -----   \n",
      " 0   TYPEQU    4670 non-null   object  \n",
      " 1   geometry  4670 non-null   geometry\n",
      " 2   cat       4670 non-null   object  \n",
      " 3   wi        4670 non-null   float64 \n",
      " 4   wecat     4670 non-null   float64 \n",
      "dtypes: float64(2), geometry(1), object(2)\n",
      "memory usage: 182.5+ KB\n"
     ]
    }
   ],
   "source": [
    "# Affichage des informations \n",
    "data.info()"
   ]
  },
  {
   "cell_type": "markdown",
   "metadata": {},
   "source": [
    "## Sauvegarde des données\n",
    "\n",
    "Le GeoDataFrame prétraité est sauvegardé dans un nouveau fichier GeoPackage.\n",
    "Ce fichier contient les colonnes essentielles qui serviront de base pour les analyses des sections suivantes.\n"
   ]
  },
  {
   "cell_type": "code",
   "execution_count": 15,
   "metadata": {},
   "outputs": [],
   "source": [
    "# Sauvegarde de la nouvelle base\n",
    "data.to_file('../../proxy/data/processed/b3_2501171030_health_mrs.gpkg', driver='GPKG')"
   ]
  },
  {
   "cell_type": "markdown",
   "metadata": {},
   "source": [
    "## Conclusion\n",
    "\n",
    "Dans cette partie, j’ai montré les premières étapes de préparation des données de la **BPE 2023** : importation, filtrage selon la qualité de la géolocalisation et illustration de la catégorisation possible des équipements.\n",
    "J’ai également introduit la logique de pondération (intrinsèque et extrinsèque), qui sera développée dans les analyses suivantes.\n",
    "\n",
    "Le GeoDataFrame sauvegardé ici constitue donc une base de travail, encore partielle, mais déjà utile pour avancer dans la suite du projet."
   ]
  }
 ],
 "metadata": {
  "kernelspec": {
   "display_name": "pynkdv",
   "language": "python",
   "name": "python3"
  },
  "language_info": {
   "codemirror_mode": {
    "name": "ipython",
    "version": 3
   },
   "file_extension": ".py",
   "mimetype": "text/x-python",
   "name": "python",
   "nbconvert_exporter": "python",
   "pygments_lexer": "ipython3",
   "version": "3.9.19"
  }
 },
 "nbformat": 4,
 "nbformat_minor": 2
}
