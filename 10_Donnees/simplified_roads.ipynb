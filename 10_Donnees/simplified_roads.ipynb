{
 "cells": [
  {
   "cell_type": "markdown",
   "metadata": {},
   "source": [
    "# Simplification du réseau routier\n",
    "\n",
    "Mon réseau de route me sera de support pour calculer mes indicateurs de proximité le long du réseau piéton.\n",
    "Maintenant que j'ai telecharger le réseau, une des choses qu'il faut s'assurer c'est que les intersections sont bien "
   ]
  },
  {
   "cell_type": "code",
   "execution_count": 16,
   "metadata": {},
   "outputs": [],
   "source": [
    "%reset -f"
   ]
  },
  {
   "cell_type": "code",
   "execution_count": 17,
   "metadata": {},
   "outputs": [],
   "source": [
    "import geopandas as gpd\n",
    "from shapely.geometry import Point, MultiPoint\n",
    "from shapely.ops import split, unary_union, snap\n",
    "from rtree import index \n",
    "\n",
    "import geopandas as gpd\n",
    "from shapely.geometry import LineString, MultiLineString, Point, MultiPoint\n",
    "from shapely.ops import split, unary_union, snap\n",
    "from rtree import index as rtree_index  # Utilisation de rtree pour l'index spatial\n",
    "\n",
    "import warnings\n",
    "warnings.filterwarnings('ignore')"
   ]
  },
  {
   "cell_type": "code",
   "execution_count": 18,
   "metadata": {},
   "outputs": [
    {
     "data": {
      "text/html": [
       "<div>\n",
       "<style scoped>\n",
       "    .dataframe tbody tr th:only-of-type {\n",
       "        vertical-align: middle;\n",
       "    }\n",
       "\n",
       "    .dataframe tbody tr th {\n",
       "        vertical-align: top;\n",
       "    }\n",
       "\n",
       "    .dataframe thead th {\n",
       "        text-align: right;\n",
       "    }\n",
       "</style>\n",
       "<table border=\"1\" class=\"dataframe\">\n",
       "  <thead>\n",
       "    <tr style=\"text-align: right;\">\n",
       "      <th></th>\n",
       "      <th>osm_id</th>\n",
       "      <th>highway</th>\n",
       "      <th>name</th>\n",
       "      <th>access</th>\n",
       "      <th>foot</th>\n",
       "      <th>surface</th>\n",
       "      <th>incline</th>\n",
       "      <th>smoothness</th>\n",
       "      <th>width</th>\n",
       "      <th>sidewalk</th>\n",
       "      <th>crossing</th>\n",
       "      <th>lit</th>\n",
       "      <th>bridge</th>\n",
       "      <th>tunnel</th>\n",
       "      <th>layer</th>\n",
       "      <th>oneway</th>\n",
       "      <th>geometry</th>\n",
       "    </tr>\n",
       "  </thead>\n",
       "  <tbody>\n",
       "    <tr>\n",
       "      <th>0</th>\n",
       "      <td>2682531</td>\n",
       "      <td>service</td>\n",
       "      <td></td>\n",
       "      <td></td>\n",
       "      <td></td>\n",
       "      <td></td>\n",
       "      <td></td>\n",
       "      <td></td>\n",
       "      <td></td>\n",
       "      <td></td>\n",
       "      <td></td>\n",
       "      <td></td>\n",
       "      <td></td>\n",
       "      <td></td>\n",
       "      <td>0</td>\n",
       "      <td>no</td>\n",
       "      <td>LINESTRING (913982.648 6247541.048, 914032.152...</td>\n",
       "    </tr>\n",
       "    <tr>\n",
       "      <th>1</th>\n",
       "      <td>2699768</td>\n",
       "      <td>path</td>\n",
       "      <td></td>\n",
       "      <td></td>\n",
       "      <td></td>\n",
       "      <td></td>\n",
       "      <td></td>\n",
       "      <td></td>\n",
       "      <td></td>\n",
       "      <td></td>\n",
       "      <td></td>\n",
       "      <td></td>\n",
       "      <td></td>\n",
       "      <td></td>\n",
       "      <td>0</td>\n",
       "      <td>no</td>\n",
       "      <td>LINESTRING (909518.351 6239066.723, 909533.383...</td>\n",
       "    </tr>\n",
       "    <tr>\n",
       "      <th>2</th>\n",
       "      <td>2699769</td>\n",
       "      <td>path</td>\n",
       "      <td></td>\n",
       "      <td></td>\n",
       "      <td></td>\n",
       "      <td></td>\n",
       "      <td></td>\n",
       "      <td></td>\n",
       "      <td></td>\n",
       "      <td></td>\n",
       "      <td></td>\n",
       "      <td></td>\n",
       "      <td></td>\n",
       "      <td></td>\n",
       "      <td>0</td>\n",
       "      <td>no</td>\n",
       "      <td>LINESTRING (909448.07 6239122.435, 909435.263 ...</td>\n",
       "    </tr>\n",
       "    <tr>\n",
       "      <th>3</th>\n",
       "      <td>3617343</td>\n",
       "      <td>primary</td>\n",
       "      <td></td>\n",
       "      <td></td>\n",
       "      <td></td>\n",
       "      <td>asphalt</td>\n",
       "      <td></td>\n",
       "      <td></td>\n",
       "      <td></td>\n",
       "      <td></td>\n",
       "      <td></td>\n",
       "      <td></td>\n",
       "      <td></td>\n",
       "      <td></td>\n",
       "      <td>0</td>\n",
       "      <td>no</td>\n",
       "      <td>LINESTRING (910535.741 6250520.857, 910540.587...</td>\n",
       "    </tr>\n",
       "    <tr>\n",
       "      <th>4</th>\n",
       "      <td>3617344</td>\n",
       "      <td>primary</td>\n",
       "      <td></td>\n",
       "      <td></td>\n",
       "      <td></td>\n",
       "      <td></td>\n",
       "      <td></td>\n",
       "      <td></td>\n",
       "      <td></td>\n",
       "      <td></td>\n",
       "      <td></td>\n",
       "      <td></td>\n",
       "      <td></td>\n",
       "      <td></td>\n",
       "      <td>0</td>\n",
       "      <td>no</td>\n",
       "      <td>LINESTRING (910571.976 6250128.531, 910573.41 ...</td>\n",
       "    </tr>\n",
       "  </tbody>\n",
       "</table>\n",
       "</div>"
      ],
      "text/plain": [
       "    osm_id  highway name access foot  surface incline smoothness width  \\\n",
       "0  2682531  service                                                      \n",
       "1  2699768     path                                                      \n",
       "2  2699769     path                                                      \n",
       "3  3617343  primary                   asphalt                            \n",
       "4  3617344  primary                                                      \n",
       "\n",
       "  sidewalk crossing lit bridge tunnel layer oneway  \\\n",
       "0                                         0     no   \n",
       "1                                         0     no   \n",
       "2                                         0     no   \n",
       "3                                         0     no   \n",
       "4                                         0     no   \n",
       "\n",
       "                                            geometry  \n",
       "0  LINESTRING (913982.648 6247541.048, 914032.152...  \n",
       "1  LINESTRING (909518.351 6239066.723, 909533.383...  \n",
       "2  LINESTRING (909448.07 6239122.435, 909435.263 ...  \n",
       "3  LINESTRING (910535.741 6250520.857, 910540.587...  \n",
       "4  LINESTRING (910571.976 6250128.531, 910573.41 ...  "
      ]
     },
     "execution_count": 18,
     "metadata": {},
     "output_type": "execute_result"
    }
   ],
   "source": [
    "roads = gpd.read_file(\"../../Proximity/data/processed/roads_network/osm_foot_network_Marseille_2025-10-01.gpkg\")\n",
    "roads.head()"
   ]
  },
  {
   "cell_type": "code",
   "execution_count": 19,
   "metadata": {},
   "outputs": [
    {
     "name": "stdout",
     "output_type": "stream",
     "text": [
      "['LineString']\n"
     ]
    }
   ],
   "source": [
    "# Je verifie le type de géométrie \n",
    "print(roads.geometry.type.unique())"
   ]
  },
  {
   "cell_type": "markdown",
   "metadata": {},
   "source": [
    "## Préparation et extraction des LineString"
   ]
  },
  {
   "cell_type": "code",
   "execution_count": 20,
   "metadata": {},
   "outputs": [],
   "source": [
    "# Geom valides\n",
    "def validate_geometry(geom):\n",
    "    try:\n",
    "        if geom is None or geom.is_empty or not geom.is_valid:\n",
    "            return None\n",
    "        return geom\n",
    "    except Exception as e:\n",
    "        print(f\"Erreur lors de la validation de la géométrie : {e}\")\n",
    "        return None"
   ]
  },
  {
   "cell_type": "code",
   "execution_count": 21,
   "metadata": {},
   "outputs": [
    {
     "name": "stdout",
     "output_type": "stream",
     "text": [
      "Nombre de géométries valides : 96901\n"
     ]
    }
   ],
   "source": [
    "# Je supprime les geométrie non valides\n",
    "roads['geometry'] = roads['geometry'].apply(validate_geometry)\n",
    "roads = roads.dropna(subset=['geometry'])\n",
    "print(f\"Nombre de géométries valides : {len(roads)}\")\n",
    "\n",
    "# J'enleve les tunnels (Naive !)\n",
    "# roads = roads[roads['tunnel'] != 'T'] \n",
    "# print(f\"Lignes après exclusion des tunnels : {len(roads)}\")"
   ]
  },
  {
   "cell_type": "code",
   "execution_count": 22,
   "metadata": {},
   "outputs": [
    {
     "name": "stdout",
     "output_type": "stream",
     "text": [
      "Nombre total de segments extraits : 96901\n"
     ]
    }
   ],
   "source": [
    "# Extraction de tous les segments (LineString)\n",
    "lines = []      # Liste des géométries de type LineString\n",
    "line_ids = []   # Référence (ici osm_id) à la ligne d'origine\n",
    "\n",
    "for idx, row in roads.iterrows():\n",
    "    geom = row.geometry\n",
    "    if geom.geom_type == 'LineString':\n",
    "        lines.append(geom)\n",
    "        line_ids.append(row.osm_id)\n",
    "    elif geom.geom_type == 'MultiLineString':\n",
    "        for sub_geom in geom.geoms:\n",
    "            lines.append(sub_geom)\n",
    "            line_ids.append(row.osm_id)\n",
    "\n",
    "print(f\"Nombre total de segments extraits : {len(lines)}\")"
   ]
  },
  {
   "cell_type": "code",
   "execution_count": 23,
   "metadata": {},
   "outputs": [
    {
     "name": "stdout",
     "output_type": "stream",
     "text": [
      "['LineString']\n"
     ]
    }
   ],
   "source": [
    "print(roads.geometry.type.unique())"
   ]
  },
  {
   "cell_type": "markdown",
   "metadata": {},
   "source": [
    "## Calcul des points d'intersection entre segments"
   ]
  },
  {
   "cell_type": "code",
   "execution_count": 24,
   "metadata": {},
   "outputs": [],
   "source": [
    "# Construction d'un index spatial pour accélérer la recherche\n",
    "line_index = rtree_index.Index()\n",
    "for pos, line in enumerate(lines):\n",
    "    line_index.insert(pos, line.bounds)"
   ]
  },
  {
   "cell_type": "code",
   "execution_count": 25,
   "metadata": {},
   "outputs": [
    {
     "name": "stdout",
     "output_type": "stream",
     "text": [
      "Nombre de points d'intersection bruts : 160997\n"
     ]
    }
   ],
   "source": [
    "intersection_points = []  # Liste pour stocker les intersections\n",
    "\n",
    "# Pour chaque paire de lignes (en utilisant l'index), je calcul l'intersection\n",
    "for i, line in enumerate(lines):\n",
    "    possible_indexes = list(line_index.intersection(line.bounds))\n",
    "    for j in possible_indexes:\n",
    "        if i >= j:\n",
    "            continue  # pour éviter les redondances (i=j ou déjà traité)\n",
    "        other_line = lines[j]\n",
    "        inter = line.intersection(other_line)\n",
    "        if inter.is_empty:\n",
    "            continue\n",
    "        # Si l'intersection est un Point\n",
    "        if inter.geom_type == 'Point':\n",
    "            intersection_points.append(inter)\n",
    "        # Si l'intersection renvoie plusieurs points\n",
    "        elif inter.geom_type == 'MultiPoint':\n",
    "            intersection_points.extend(list(inter.geoms))\n",
    "        # Si l'intersection est un LineString ou MultiLineString (cas de recouvrement)\n",
    "        elif inter.geom_type in ['LineString', 'MultiLineString']:\n",
    "            if inter.geom_type == 'LineString':\n",
    "                intersection_points.append(Point(inter.coords[0]))\n",
    "                intersection_points.append(Point(inter.coords[-1]))\n",
    "            else:\n",
    "                for sub in inter.geoms:\n",
    "                    intersection_points.append(Point(sub.coords[0]))\n",
    "                    intersection_points.append(Point(sub.coords[-1]))\n",
    "\n",
    "print(f\"Nombre de points d'intersection bruts : {len(intersection_points)}\")"
   ]
  },
  {
   "cell_type": "code",
   "execution_count": 26,
   "metadata": {},
   "outputs": [],
   "source": [
    "# Regrouper les points pour éliminer d'éventuels doublons\n",
    "if intersection_points:\n",
    "    intersection_union = unary_union(intersection_points)\n",
    "    if intersection_union.geom_type == 'Point':\n",
    "        intersection_union = MultiPoint([intersection_union])\n",
    "else:\n",
    "    intersection_union = None"
   ]
  },
  {
   "cell_type": "markdown",
   "metadata": {},
   "source": [
    "# Construction de l'index spatial pour les points d'intersection"
   ]
  },
  {
   "cell_type": "code",
   "execution_count": 27,
   "metadata": {},
   "outputs": [],
   "source": [
    "# (pour limiter le nombre de points à considérer par ligne)\n",
    "if intersection_union is not None:\n",
    "    if intersection_union.geom_type == 'MultiPoint':\n",
    "        pts = list(intersection_union.geoms)\n",
    "    elif intersection_union.geom_type == 'Point':\n",
    "        pts = [intersection_union]\n",
    "    else:\n",
    "        pts = []\n",
    "else:\n",
    "    pts = []"
   ]
  },
  {
   "cell_type": "code",
   "execution_count": 28,
   "metadata": {},
   "outputs": [],
   "source": [
    "pt_index = rtree_index.Index()\n",
    "for i, pt in enumerate(pts):\n",
    "    pt_index.insert(i, pt.bounds)"
   ]
  },
  {
   "cell_type": "code",
   "execution_count": 29,
   "metadata": {},
   "outputs": [],
   "source": [
    "def get_local_intersections(line, buffer=0.001):\n",
    "    \"\"\"\n",
    "    Retourne l'union (MultiPoint) des points d'intersection se trouvant à\n",
    "    moins de 'buffer' de la ligne.\n",
    "    \"\"\"\n",
    "    minx, miny, maxx, maxy = line.bounds\n",
    "    # Élargir légèrement l'enveloppe\n",
    "    bbox = (minx - buffer, miny - buffer, maxx + buffer, maxy + buffer)\n",
    "    candidate_ids = list(pt_index.intersection(bbox))\n",
    "    selected_points = [pts[i] for i in candidate_ids if line.distance(pts[i]) < buffer]\n",
    "    if selected_points:\n",
    "        union_local = unary_union(selected_points)\n",
    "        if union_local.geom_type == 'Point':\n",
    "            union_local = MultiPoint([union_local])\n",
    "        return union_local\n",
    "    else:\n",
    "        return None"
   ]
  },
  {
   "cell_type": "markdown",
   "metadata": {},
   "source": [
    "## Découpage des lignes aux intersections (nœudisation)"
   ]
  },
  {
   "cell_type": "code",
   "execution_count": 30,
   "metadata": {},
   "outputs": [
    {
     "name": "stdout",
     "output_type": "stream",
     "text": [
      "Nombre total de segments après découpage (séquentiel) : 193614\n"
     ]
    }
   ],
   "source": [
    "tolerance = 1e-7  # Tolérance pour le snapping\n",
    "\n",
    "# Boucle séquentielle \n",
    "final_segments = []  # Liste des segments finaux (LineString)\n",
    "final_osm_ids = []   # Référence d'origine\n",
    "\n",
    "for osm_id, line in zip(line_ids, lines):\n",
    "    local_intersections = get_local_intersections(line, buffer=0.001)\n",
    "    if local_intersections is not None:\n",
    "        # Effectuer un snapping de la ligne sur les points locaux\n",
    "        snapped_line = snap(line, local_intersections, tolerance)\n",
    "        try:\n",
    "            split_result = split(snapped_line, local_intersections)\n",
    "        except Exception as e:\n",
    "            print(f\"Erreur lors du split de la ligne (osm_id={osm_id}) : {e}\")\n",
    "            continue\n",
    "        for segment in split_result.geoms:\n",
    "            if segment.length > 0 and segment.geom_type == 'LineString':\n",
    "                final_segments.append(segment)\n",
    "                final_osm_ids.append(osm_id)\n",
    "    else:\n",
    "        final_segments.append(line)\n",
    "        final_osm_ids.append(osm_id)\n",
    "\n",
    "print(f\"Nombre total de segments après découpage (séquentiel) : {len(final_segments)}\")"
   ]
  },
  {
   "cell_type": "markdown",
   "metadata": {},
   "source": [
    "## Création du GeoDataFrame final contenant uniquement des LineString"
   ]
  },
  {
   "cell_type": "code",
   "execution_count": 31,
   "metadata": {},
   "outputs": [
    {
     "name": "stdout",
     "output_type": "stream",
     "text": [
      "Réseau final (uniquement des LineString) : 193614\n"
     ]
    }
   ],
   "source": [
    "final_network_gdf = gpd.GeoDataFrame({'osm_id': final_osm_ids},\n",
    "                                     geometry=final_segments,\n",
    "                                     crs=roads.crs)\n",
    "\n",
    "print(f\"Réseau final (uniquement des LineString) : {len(final_network_gdf)}\")"
   ]
  },
  {
   "cell_type": "markdown",
   "metadata": {},
   "source": [
    "## Simplifier les données pour sauvegarde\n",
    "\n",
    "Je ne garde que fid et la géometries c'est ce dont j'ai besoin pour la suite"
   ]
  },
  {
   "cell_type": "code",
   "execution_count": 32,
   "metadata": {},
   "outputs": [
    {
     "name": "stdout",
     "output_type": "stream",
     "text": [
      "                                            geometry\n",
      "0  LINESTRING (913982.648 6247541.048, 914032.152...\n",
      "1  LINESTRING (909518.351 6239066.723, 909533.383...\n",
      "2  LINESTRING (909448.07 6239122.435, 909435.263 ...\n",
      "3  LINESTRING (910535.741 6250520.857, 910540.587...\n",
      "4  LINESTRING (910557.379 6250589.626, 910560.121...\n",
      "Fichier sauvegardé avec succès : ../../Proximity/data/processed/roads_network/osm_foot_network_Marseille_simplified_2025-10-01.gpkg\n"
     ]
    }
   ],
   "source": [
    "geo_path = \"../../Proximity/data/processed/roads_network/osm_foot_network_Marseille_simplified_2025-10-01.gpkg\"\n",
    "final_network_gdf = final_network_gdf[['geometry']]\n",
    "print(final_network_gdf.head())\n",
    "final_network_gdf = final_network_gdf.to_crs(\"EPSG:2154\")\n",
    "final_network_gdf.to_file(geo_path, driver='GPKG', layer='edges')\n",
    "print(f\"Fichier sauvegardé avec succès : {geo_path}\")"
   ]
  }
 ],
 "metadata": {
  "kernelspec": {
   "display_name": "geo_env",
   "language": "python",
   "name": "python3"
  },
  "language_info": {
   "codemirror_mode": {
    "name": "ipython",
    "version": 3
   },
   "file_extension": ".py",
   "mimetype": "text/x-python",
   "name": "python",
   "nbconvert_exporter": "python",
   "pygments_lexer": "ipython3",
   "version": "3.10.18"
  }
 },
 "nbformat": 4,
 "nbformat_minor": 2
}
