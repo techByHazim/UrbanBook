{
 "cells": [
  {
   "cell_type": "markdown",
   "metadata": {},
   "source": [
    "# Simplification du réseau routier"
   ]
  },
  {
   "cell_type": "code",
   "execution_count": 3,
   "metadata": {},
   "outputs": [],
   "source": [
    "import geopandas as gpd\n",
    "from shapely.geometry import Point, MultiPoint\n",
    "from shapely.ops import split, unary_union, snap\n",
    "from rtree import index \n",
    "\n",
    "import geopandas as gpd\n",
    "from shapely.geometry import LineString, MultiLineString, Point, MultiPoint\n",
    "from shapely.ops import split, unary_union, snap\n",
    "from rtree import index as rtree_index  # Utilisation de rtree pour l'index spatial\n",
    "\n",
    "import warnings\n",
    "warnings.filterwarnings('ignore')"
   ]
  },
  {
   "cell_type": "code",
   "execution_count": 4,
   "metadata": {},
   "outputs": [],
   "source": [
    "roads = gpd.read_file('C:/Users/hazim/Desktop/Nos_Cartes/data/reseau/provence-alpes-cote-d-azur-osm-geofabrik/gis_osm_roads_free_marseille_no_tunnel_no_motoway.gpkg')"
   ]
  },
  {
   "cell_type": "code",
   "execution_count": 5,
   "metadata": {},
   "outputs": [
    {
     "name": "stdout",
     "output_type": "stream",
     "text": [
      "['MultiLineString']\n"
     ]
    }
   ],
   "source": [
    "print(roads.geometry.type.unique())"
   ]
  },
  {
   "cell_type": "markdown",
   "metadata": {},
   "source": [
    "## Préparation et extraction des LineString"
   ]
  },
  {
   "cell_type": "code",
   "execution_count": 6,
   "metadata": {},
   "outputs": [
    {
     "name": "stdout",
     "output_type": "stream",
     "text": [
      "Nombre de géométries valides : 97953\n",
      "Lignes après exclusion des tunnels : 96488\n",
      "Nombre total de segments individuels extraits : 96517\n"
     ]
    }
   ],
   "source": [
    "def validate_geometry(geom):\n",
    "    try:\n",
    "        if geom is None or geom.is_empty or not geom.is_valid:\n",
    "            return None\n",
    "        return geom\n",
    "    except Exception as e:\n",
    "        print(f\"Erreur lors de la validation de la géométrie : {e}\")\n",
    "        return None\n",
    "\n",
    "# Supposons que roads soit déjà chargé sous forme de GeoDataFrame\n",
    "roads['geometry'] = roads['geometry'].apply(validate_geometry)\n",
    "roads = roads.dropna(subset=['geometry'])\n",
    "print(f\"Nombre de géométries valides : {len(roads)}\")\n",
    "\n",
    "roads = roads[roads['tunnel'] != 'T'] \n",
    "print(f\"Lignes après exclusion des tunnels : {len(roads)}\")\n",
    "\n",
    "# Extraction de tous les segments individuels (LineString)\n",
    "lines = []      # Liste des géométries de type LineString\n",
    "line_ids = []   # Référence (ici osm_id) à la ligne d'origine\n",
    "\n",
    "for idx, row in roads.iterrows():\n",
    "    geom = row.geometry\n",
    "    if geom.geom_type == 'LineString':\n",
    "        lines.append(geom)\n",
    "        line_ids.append(row.osm_id)\n",
    "    elif geom.geom_type == 'MultiLineString':\n",
    "        for sub_geom in geom.geoms:\n",
    "            lines.append(sub_geom)\n",
    "            line_ids.append(row.osm_id)\n",
    "\n",
    "print(f\"Nombre total de segments individuels extraits : {len(lines)}\")"
   ]
  },
  {
   "cell_type": "code",
   "execution_count": 7,
   "metadata": {},
   "outputs": [
    {
     "name": "stdout",
     "output_type": "stream",
     "text": [
      "['MultiLineString']\n"
     ]
    }
   ],
   "source": [
    "print(roads.geometry.type.unique())"
   ]
  },
  {
   "cell_type": "markdown",
   "metadata": {},
   "source": [
    "## Calcul des points d'intersection entre segments"
   ]
  },
  {
   "cell_type": "code",
   "execution_count": 8,
   "metadata": {},
   "outputs": [
    {
     "name": "stdout",
     "output_type": "stream",
     "text": [
      "Nombre de points d'intersection bruts : 160681\n"
     ]
    }
   ],
   "source": [
    "# Construction d'un index spatial pour accélérer la recherche\n",
    "line_index = rtree_index.Index()\n",
    "for pos, line in enumerate(lines):\n",
    "    line_index.insert(pos, line.bounds)\n",
    "\n",
    "intersection_points = []  # Liste pour stocker les intersections\n",
    "\n",
    "# Pour chaque paire de lignes (en utilisant l'index), calculer l'intersection\n",
    "for i, line in enumerate(lines):\n",
    "    possible_indexes = list(line_index.intersection(line.bounds))\n",
    "    for j in possible_indexes:\n",
    "        if i >= j:\n",
    "            continue  # éviter les redondances (i=j ou déjà traité)\n",
    "        other_line = lines[j]\n",
    "        inter = line.intersection(other_line)\n",
    "        if inter.is_empty:\n",
    "            continue\n",
    "        # Si l'intersection est un Point\n",
    "        if inter.geom_type == 'Point':\n",
    "            intersection_points.append(inter)\n",
    "        # Si l'intersection renvoie plusieurs points\n",
    "        elif inter.geom_type == 'MultiPoint':\n",
    "            intersection_points.extend(list(inter.geoms))\n",
    "        # Si l'intersection est un LineString ou MultiLineString (cas de recouvrement)\n",
    "        elif inter.geom_type in ['LineString', 'MultiLineString']:\n",
    "            if inter.geom_type == 'LineString':\n",
    "                intersection_points.append(Point(inter.coords[0]))\n",
    "                intersection_points.append(Point(inter.coords[-1]))\n",
    "            else:\n",
    "                for sub in inter.geoms:\n",
    "                    intersection_points.append(Point(sub.coords[0]))\n",
    "                    intersection_points.append(Point(sub.coords[-1]))\n",
    "\n",
    "print(f\"Nombre de points d'intersection bruts : {len(intersection_points)}\")\n",
    "\n",
    "# Regrouper les points pour éliminer d'éventuels doublons\n",
    "if intersection_points:\n",
    "    intersection_union = unary_union(intersection_points)\n",
    "    if intersection_union.geom_type == 'Point':\n",
    "        intersection_union = MultiPoint([intersection_union])\n",
    "else:\n",
    "    intersection_union = None"
   ]
  },
  {
   "cell_type": "markdown",
   "metadata": {},
   "source": [
    "# Construction de l'index spatial pour les points d'intersection"
   ]
  },
  {
   "cell_type": "code",
   "execution_count": 9,
   "metadata": {},
   "outputs": [],
   "source": [
    "# (pour limiter le nombre de points à considérer par ligne)\n",
    "if intersection_union is not None:\n",
    "    if intersection_union.geom_type == 'MultiPoint':\n",
    "        pts = list(intersection_union.geoms)\n",
    "    elif intersection_union.geom_type == 'Point':\n",
    "        pts = [intersection_union]\n",
    "    else:\n",
    "        pts = []\n",
    "else:\n",
    "    pts = []\n",
    "\n",
    "pt_index = rtree_index.Index()\n",
    "for i, pt in enumerate(pts):\n",
    "    pt_index.insert(i, pt.bounds)\n",
    "\n",
    "def get_local_intersections(line, buffer=0.001):\n",
    "    \"\"\"\n",
    "    Retourne l'union (MultiPoint) des points d'intersection se trouvant à\n",
    "    moins de 'buffer' de la ligne.\n",
    "    \"\"\"\n",
    "    minx, miny, maxx, maxy = line.bounds\n",
    "    # Élargir légèrement l'enveloppe\n",
    "    bbox = (minx - buffer, miny - buffer, maxx + buffer, maxy + buffer)\n",
    "    candidate_ids = list(pt_index.intersection(bbox))\n",
    "    selected_points = [pts[i] for i in candidate_ids if line.distance(pts[i]) < buffer]\n",
    "    if selected_points:\n",
    "        union_local = unary_union(selected_points)\n",
    "        if union_local.geom_type == 'Point':\n",
    "            union_local = MultiPoint([union_local])\n",
    "        return union_local\n",
    "    else:\n",
    "        return None"
   ]
  },
  {
   "cell_type": "markdown",
   "metadata": {},
   "source": [
    "## Découpage des lignes aux intersections (nœudisation)"
   ]
  },
  {
   "cell_type": "code",
   "execution_count": 10,
   "metadata": {},
   "outputs": [
    {
     "name": "stdout",
     "output_type": "stream",
     "text": [
      "Nombre total de segments après découpage (séquentiel) : 194380\n"
     ]
    }
   ],
   "source": [
    "tolerance = 1e-7  # Tolérance pour le snapping\n",
    "\n",
    "# ----- Option 1 : Boucle séquentielle -----\n",
    "final_segments = []  # Liste des segments finaux (LineString)\n",
    "final_osm_ids = []   # Référence d'origine\n",
    "\n",
    "for osm_id, line in zip(line_ids, lines):\n",
    "    local_intersections = get_local_intersections(line, buffer=0.001)\n",
    "    if local_intersections is not None:\n",
    "        # Effectuer un snapping de la ligne sur les points locaux\n",
    "        snapped_line = snap(line, local_intersections, tolerance)\n",
    "        try:\n",
    "            split_result = split(snapped_line, local_intersections)\n",
    "        except Exception as e:\n",
    "            print(f\"Erreur lors du split de la ligne (osm_id={osm_id}) : {e}\")\n",
    "            continue\n",
    "        for segment in split_result.geoms:\n",
    "            if segment.length > 0 and segment.geom_type == 'LineString':\n",
    "                final_segments.append(segment)\n",
    "                final_osm_ids.append(osm_id)\n",
    "    else:\n",
    "        final_segments.append(line)\n",
    "        final_osm_ids.append(osm_id)\n",
    "\n",
    "print(f\"Nombre total de segments après découpage (séquentiel) : {len(final_segments)}\")"
   ]
  },
  {
   "cell_type": "markdown",
   "metadata": {},
   "source": [
    "## Création du GeoDataFrame final contenant uniquement des LineString"
   ]
  },
  {
   "cell_type": "code",
   "execution_count": 11,
   "metadata": {},
   "outputs": [
    {
     "name": "stdout",
     "output_type": "stream",
     "text": [
      "Réseau final (uniquement des LineString) : 194380\n"
     ]
    }
   ],
   "source": [
    "final_network_gdf = gpd.GeoDataFrame({'osm_id': final_osm_ids},\n",
    "                                     geometry=final_segments,\n",
    "                                     crs=roads.crs)\n",
    "\n",
    "print(f\"Réseau final (uniquement des LineString) : {len(final_network_gdf)}\")"
   ]
  },
  {
   "cell_type": "markdown",
   "metadata": {},
   "source": [
    "## Simplifier les données pour sauvegarde"
   ]
  },
  {
   "cell_type": "code",
   "execution_count": 12,
   "metadata": {},
   "outputs": [
    {
     "name": "stdout",
     "output_type": "stream",
     "text": [
      "                                            geometry\n",
      "0  LINESTRING (5.63579 43.29489, 5.63641 43.29524...\n",
      "1  LINESTRING (5.57743 43.22003, 5.57762 43.22006...\n",
      "2  LINESTRING (5.57659 43.22055, 5.57643 43.22051...\n",
      "3  LINESTRING (5.59457 43.32271, 5.59464 43.32291...\n",
      "4    LINESTRING (5.59486 43.32332, 5.59490 43.32339)\n",
      "Fichier sauvegardé avec succès : C:/Users/hazim/Desktop/Nos_Cartes/data/reseau/provence-alpes-cote-d-azur-osm-geofabrik/simplified_gis_osm_roads_free_marseille_no_tunnel_no_motoway_cleaned.gpkg\n"
     ]
    }
   ],
   "source": [
    "geo_path = \"C:/Users/hazim/Desktop/Nos_Cartes/data/reseau/provence-alpes-cote-d-azur-osm-geofabrik/simplified_gis_osm_roads_free_marseille_no_tunnel_no_motoway_cleaned.gpkg\"\n",
    "final_network_gdf = final_network_gdf[['geometry']]\n",
    "print(final_network_gdf.head())\n",
    "final_network_gdf = final_network_gdf.to_crs(\"EPSG:2154\")\n",
    "final_network_gdf.to_file(geo_path, driver='GPKG', layer='edges')\n",
    "print(f\"Fichier sauvegardé avec succès : {geo_path}\")"
   ]
  }
 ],
 "metadata": {
  "kernelspec": {
   "display_name": "pynkdv",
   "language": "python",
   "name": "python3"
  },
  "language_info": {
   "codemirror_mode": {
    "name": "ipython",
    "version": 3
   },
   "file_extension": ".py",
   "mimetype": "text/x-python",
   "name": "python",
   "nbconvert_exporter": "python",
   "pygments_lexer": "ipython3",
   "version": "3.9.19"
  }
 },
 "nbformat": 4,
 "nbformat_minor": 2
}
