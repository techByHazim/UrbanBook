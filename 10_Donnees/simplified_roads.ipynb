{
 "cells": [
  {
   "cell_type": "markdown",
   "metadata": {},
   "source": [
    "# Nettoyage et simplification du réseau piéton\n",
    "\n",
    "> L’objectif de ce notebook est de nettoyer puis simplifier le réseau OSM afin d’obtenir un graphe cohérent, prêt pour les analyses de proximité sur le réseau.\n",
    "> Il s’agit de la version finale et optimisée du notebook (d’autres brouillons et essais existent en local, mais celui-ci rassemble l’ensemble du travail abouti)."
   ]
  },
  {
   "cell_type": "markdown",
   "metadata": {},
   "source": [
    "## Chargement des bibliothèques\n",
    "\n",
    "On importe les outils nécessaires pour manipuler les données géographiques."
   ]
  },
  {
   "cell_type": "code",
   "execution_count": 69,
   "metadata": {},
   "outputs": [
    {
     "data": {
      "application/javascript": "IPython.notebook.set_autosave_interval(120000)"
     },
     "metadata": {},
     "output_type": "display_data"
    },
    {
     "name": "stdout",
     "output_type": "stream",
     "text": [
      "Autosaving every 120 seconds\n"
     ]
    }
   ],
   "source": [
    "# Auto-enregistrement toutes les 2 minutes\n",
    "%autosave 120\n",
    "\n",
    "# Nettoie toutes les variables de la mémoire \n",
    "%reset -f\n",
    "\n",
    "# Affichage net et clair des graphiques \n",
    "%config InlineBackend.figure_format = 'retina'"
   ]
  },
  {
   "cell_type": "code",
   "execution_count": 70,
   "metadata": {},
   "outputs": [],
   "source": [
    "import os\n",
    "import geopandas as gpd\n",
    "from shapely.geometry import LineString, MultiLineString, Point, MultiPoint\n",
    "from shapely.ops import split, unary_union, snap\n",
    "from rtree import index as rtree_index\n",
    "from tqdm import tqdm"
   ]
  },
  {
   "cell_type": "markdown",
   "metadata": {},
   "source": [
    "## Validation des géométries\n",
    "\n",
    "Avant tout traitement, je m’assure que les géométries du réseau sont valides.\n",
    "Certaines peuvent être vides, corrompues ou mal définies (ex. : lignes sans coordonnées).\n",
    "On les écarte pour éviter les erreurs plus tard."
   ]
  },
  {
   "cell_type": "code",
   "execution_count": 71,
   "metadata": {},
   "outputs": [],
   "source": [
    "def validate_geometry(geom):\n",
    "    try:\n",
    "        if geom is None or geom.is_empty or not geom.is_valid:\n",
    "            return None\n",
    "        return geom\n",
    "    except Exception as e:\n",
    "        print(f\"Erreur lors de la validation de la géométrie : {e}\")\n",
    "        return None"
   ]
  },
  {
   "cell_type": "markdown",
   "metadata": {},
   "source": [
    "Testons rapidement la fonction :"
   ]
  },
  {
   "cell_type": "code",
   "execution_count": 72,
   "metadata": {},
   "outputs": [
    {
     "name": "stdout",
     "output_type": "stream",
     "text": [
      "LINESTRING (0 0, 1 1)\n",
      "None\n"
     ]
    }
   ],
   "source": [
    "print(validate_geometry(LineString([(0,0),(1,1)])))   #  Ligne valide\n",
    "print(validate_geometry(LineString([])))              #  Ligne vide"
   ]
  },
  {
   "cell_type": "markdown",
   "metadata": {},
   "source": [
    "## Extraction des lignes\n",
    "\n",
    "On isole toutes les géométries linéaires (routes, chemins…) contenues dans la base OSM.\n",
    "Les objets MultiLineString sont “dépliés” pour travailler sur des tronçons simples (LineStrings). Ceci est possible grace à la librairie `shapely`."
   ]
  },
  {
   "cell_type": "code",
   "execution_count": 73,
   "metadata": {},
   "outputs": [],
   "source": [
    "def extract_lines(roads):\n",
    "    roads['geometry'] = roads['geometry'].apply(validate_geometry)\n",
    "    roads = roads.dropna(subset=['geometry'])\n",
    "\n",
    "    lines, line_ids = [], []\n",
    "\n",
    "    for idx, row in tqdm(roads.iterrows(), total=roads.shape[0], desc=\"Extraction des lignes\"):\n",
    "        geom = row.geometry\n",
    "        if geom.geom_type == 'LineString':\n",
    "            lines.append(geom)\n",
    "            line_ids.append(row.osm_id)\n",
    "        elif geom.geom_type == 'MultiLineString':\n",
    "            for sub_geom in geom.geoms:\n",
    "                lines.append(sub_geom)\n",
    "                line_ids.append(row.osm_id)\n",
    "    return lines, line_ids"
   ]
  },
  {
   "cell_type": "markdown",
   "metadata": {},
   "source": [
    "## Calcul des intersections\n",
    "\n",
    "Cette étape est la plus délicate :\n",
    "on identifie les points d’intersection entre tronçons, en tenant compte des ponts, tunnels et niveaux (layer).\n",
    "\n",
    "Cela permet de découper plus tard le réseau sans créer de faux croisements. Les reagles de recherche d'intersections decoupages sont definis dans la section précedente."
   ]
  },
  {
   "cell_type": "code",
   "execution_count": 74,
   "metadata": {},
   "outputs": [],
   "source": [
    "def compute_intersections(lines, line_index, roads_attributes, line_ids):\n",
    "    intersection_points = []\n",
    "\n",
    "    # Valeurs spécifiques à ignorer ou à traiter à part\n",
    "    tunnel_vals = ['yes', 'passage', 'covered', 'building_passage', 'cave']\n",
    "    bridge_vals = ['yes', 'viaduct', 'movable', 'covered', 'service']\n",
    "\n",
    "    def get_boundary_points(geom):\n",
    "        boundary = geom.boundary\n",
    "        if boundary.geom_type == 'Point':\n",
    "            return [boundary]\n",
    "        elif boundary.geom_type == 'MultiPoint':\n",
    "            return list(boundary.geoms)\n",
    "        else:\n",
    "            return []\n",
    "\n",
    "    def parse_layers(layer_val):\n",
    "        if not layer_val:\n",
    "            return [0.0]\n",
    "        return [float(val) for val in str(layer_val).split(';') if val.strip()]\n",
    "\n",
    "    def layers_are_compatible(layer_i, layer_j, tolerance=1):\n",
    "        layers_i = parse_layers(layer_i)\n",
    "        layers_j = parse_layers(layer_j)\n",
    "        for li in layers_i:\n",
    "            for lj in layers_j:\n",
    "                if abs(li - lj) <= tolerance:\n",
    "                    return True\n",
    "        return False\n",
    "\n",
    "    for i, line in tqdm(enumerate(lines), total=len(lines), desc=\"Calcul des intersections\"):\n",
    "        possible_indexes = list(line_index.intersection(line.bounds))\n",
    "\n",
    "        for j in possible_indexes:\n",
    "            if i >= j:\n",
    "                continue\n",
    "\n",
    "            id_i, id_j = line_ids[i], line_ids[j]\n",
    "            attr_i, attr_j = roads_attributes.get(id_i, {}), roads_attributes.get(id_j, {})\n",
    "            inter = line.intersection(lines[j])\n",
    "\n",
    "            if inter.is_empty:\n",
    "                continue\n",
    "\n",
    "            inter_points = [inter] if inter.geom_type == 'Point' else \\\n",
    "                           list(inter.geoms) if inter.geom_type == 'MultiPoint' else []\n",
    "\n",
    "            if not inter_points:\n",
    "                continue\n",
    "\n",
    "            boundary_i = get_boundary_points(line)\n",
    "            boundary_j = get_boundary_points(lines[j])\n",
    "            is_at_endpoint = any(pt.equals(b) for pt in inter_points for b in boundary_i + boundary_j)\n",
    "\n",
    "            # Cas des escaliers : toujours connectés\n",
    "            if attr_i.get('highway') == 'steps' or attr_j.get('highway') == 'steps':\n",
    "                intersection_points.extend(inter_points)\n",
    "                continue\n",
    "\n",
    "            # Intersections en extrémité (tolérance ±1 sur les couches)\n",
    "            if is_at_endpoint:\n",
    "                if layers_are_compatible(attr_i.get('layer', '0'), attr_j.get('layer', '0'), tolerance=1):\n",
    "                    intersection_points.extend(inter_points)\n",
    "                continue\n",
    "\n",
    "            # Autres intersections (couches strictement égales)\n",
    "            if not layers_are_compatible(attr_i.get('layer', '0'), attr_j.get('layer', '0'), tolerance=0):\n",
    "                continue\n",
    "            if (attr_i.get('tunnel') in tunnel_vals and attr_j.get('tunnel', '') not in tunnel_vals) or \\\n",
    "               (attr_j.get('tunnel') in tunnel_vals and attr_i.get('tunnel', '') not in tunnel_vals):\n",
    "                continue\n",
    "            if (attr_i.get('bridge') in bridge_vals and attr_j.get('bridge', '') not in bridge_vals) or \\\n",
    "               (attr_j.get('bridge') in bridge_vals and attr_i.get('bridge', '') not in bridge_vals):\n",
    "                continue\n",
    "\n",
    "            intersection_points.extend(inter_points)\n",
    "\n",
    "    print(f\" {len(intersection_points)} intersections détectées.\")\n",
    "    return intersection_points"
   ]
  },
  {
   "cell_type": "markdown",
   "metadata": {},
   "source": [
    "## Découpage des lignes aux intersections\n",
    "\n",
    "Maintenant que les intersections sont identifiées,\n",
    "on découpe les lignes pour obtenir des tronçons homogènes, bien connectés aux nœuds du réseau."
   ]
  },
  {
   "cell_type": "code",
   "execution_count": 75,
   "metadata": {},
   "outputs": [],
   "source": [
    "def build_point_index(pts):\n",
    "    pt_index = rtree_index.Index()\n",
    "    for i, pt in enumerate(tqdm(pts, desc=\"Indexation spatiale des points\")):\n",
    "        pt_index.insert(i, pt.bounds)\n",
    "    return pt_index"
   ]
  },
  {
   "cell_type": "code",
   "execution_count": 76,
   "metadata": {},
   "outputs": [],
   "source": [
    "def get_local_intersections(line, pts, pt_index, buffer=0.001):\n",
    "    bbox = tuple([coord + delta for coord, delta in zip(line.bounds, (-buffer, -buffer, buffer, buffer))])\n",
    "    candidate_ids = list(pt_index.intersection(bbox))\n",
    "    selected_points = [pts[i] for i in candidate_ids if line.distance(pts[i]) < buffer]\n",
    "\n",
    "    if selected_points:\n",
    "        union_local = unary_union(selected_points)\n",
    "        if union_local.geom_type == 'Point':\n",
    "            union_local = MultiPoint([union_local])\n",
    "        return union_local\n",
    "    return None"
   ]
  },
  {
   "cell_type": "code",
   "execution_count": 77,
   "metadata": {},
   "outputs": [],
   "source": [
    "\n",
    "def split_lines_at_intersections(lines, line_ids, pts, roads_attributes):\n",
    "    tolerance = 1e-7\n",
    "    final_segments, final_attrs = [], []\n",
    "    pt_index = build_point_index(pts)\n",
    "\n",
    "    for osm_id, line in tqdm(zip(line_ids, lines), total=len(lines), desc=\"Découpage des lignes\"):\n",
    "        local_intersections = get_local_intersections(line, pts, pt_index, buffer=0.001)\n",
    "\n",
    "        if local_intersections:\n",
    "            snapped_line = snap(line, local_intersections, tolerance)\n",
    "            try:\n",
    "                split_result = split(snapped_line, local_intersections)\n",
    "            except Exception as e:\n",
    "                print(f\"Erreur lors du split (osm_id={osm_id}) : {e}\")\n",
    "                continue\n",
    "\n",
    "            for segment in split_result.geoms:\n",
    "                if segment.length > 0:\n",
    "                    attr = roads_attributes.get(osm_id, {}).copy()\n",
    "                    attr['osm_id'] = osm_id\n",
    "                    final_segments.append(segment)\n",
    "                    final_attrs.append(attr)\n",
    "        else:\n",
    "            attr = roads_attributes.get(osm_id, {}).copy()\n",
    "            attr['osm_id'] = osm_id\n",
    "            final_segments.append(line)\n",
    "            final_attrs.append(attr)\n",
    "\n",
    "    print(f\"{len(final_segments)} segments obtenus après découpage.\")\n",
    "    return final_segments, final_attrs"
   ]
  },
  {
   "cell_type": "markdown",
   "metadata": {},
   "source": [
    "## Fonction principale de simplification\n",
    "\n",
    "Cette fonction réunit tout le processus :\n",
    "\n",
    " - projection en Lambert 93,\n",
    "\n",
    " - extraction des lignes,\n",
    "\n",
    " - détection d’intersections,\n",
    "\n",
    "- découpage,\n",
    "\n",
    "- suppression des doublons géométriques."
   ]
  },
  {
   "cell_type": "code",
   "execution_count": 78,
   "metadata": {},
   "outputs": [],
   "source": [
    "def simplify_roads(roads):\n",
    "    if roads.crs.to_epsg() != 2154:\n",
    "        print(\"Reprojection en Lambert 93 (EPSG:2154)...\")\n",
    "        roads = roads.to_crs(epsg=2154)\n",
    "\n",
    "    cols_to_include = [col for col in roads.columns if col != 'geometry']\n",
    "    roads_attributes = roads[cols_to_include].set_index('osm_id').to_dict('index')\n",
    "\n",
    "    lines, line_ids = extract_lines(roads)\n",
    "\n",
    "    # Index spatial des lignes\n",
    "    line_index = rtree_index.Index()\n",
    "    for pos, line in enumerate(tqdm(lines, desc=\"Indexation spatiale des lignes\")):\n",
    "        line_index.insert(pos, line.bounds)\n",
    "\n",
    "    # Calcul et découpage\n",
    "    intersection_points = compute_intersections(lines, line_index, roads_attributes, line_ids)\n",
    "    final_segments, final_attrs = split_lines_at_intersections(lines, line_ids, intersection_points, roads_attributes)\n",
    "\n",
    "    final_network_gdf = gpd.GeoDataFrame(final_attrs, geometry=final_segments, crs=roads.crs)\n",
    "\n",
    "    print(\"Suppression des géométries dupliquées...\")\n",
    "    final_network_gdf['geom_wkb'] = final_network_gdf.geometry.apply(lambda g: g.wkb)\n",
    "    final_network_gdf = final_network_gdf.drop_duplicates(subset=['geom_wkb']).drop(columns=['geom_wkb'])\n",
    "\n",
    "    print(f\"Réseau final : {len(final_network_gdf)} segments\")\n",
    "    return final_network_gdf"
   ]
  },
  {
   "cell_type": "markdown",
   "metadata": {},
   "source": [
    "## Exemple"
   ]
  },
  {
   "cell_type": "code",
   "execution_count": 79,
   "metadata": {},
   "outputs": [
    {
     "name": "stdout",
     "output_type": "stream",
     "text": [
      "Chargement du réseau brut...\n"
     ]
    },
    {
     "data": {
      "text/html": [
       "<div>\n",
       "<style scoped>\n",
       "    .dataframe tbody tr th:only-of-type {\n",
       "        vertical-align: middle;\n",
       "    }\n",
       "\n",
       "    .dataframe tbody tr th {\n",
       "        vertical-align: top;\n",
       "    }\n",
       "\n",
       "    .dataframe thead th {\n",
       "        text-align: right;\n",
       "    }\n",
       "</style>\n",
       "<table border=\"1\" class=\"dataframe\">\n",
       "  <thead>\n",
       "    <tr style=\"text-align: right;\">\n",
       "      <th></th>\n",
       "      <th>osm_id</th>\n",
       "      <th>highway</th>\n",
       "      <th>name</th>\n",
       "      <th>access</th>\n",
       "      <th>foot</th>\n",
       "      <th>surface</th>\n",
       "      <th>incline</th>\n",
       "      <th>smoothness</th>\n",
       "      <th>width</th>\n",
       "      <th>sidewalk</th>\n",
       "      <th>crossing</th>\n",
       "      <th>lit</th>\n",
       "      <th>bridge</th>\n",
       "      <th>tunnel</th>\n",
       "      <th>layer</th>\n",
       "      <th>oneway</th>\n",
       "      <th>geometry</th>\n",
       "    </tr>\n",
       "  </thead>\n",
       "  <tbody>\n",
       "    <tr>\n",
       "      <th>0</th>\n",
       "      <td>2682531</td>\n",
       "      <td>service</td>\n",
       "      <td></td>\n",
       "      <td></td>\n",
       "      <td></td>\n",
       "      <td></td>\n",
       "      <td></td>\n",
       "      <td></td>\n",
       "      <td></td>\n",
       "      <td></td>\n",
       "      <td></td>\n",
       "      <td></td>\n",
       "      <td></td>\n",
       "      <td></td>\n",
       "      <td>0</td>\n",
       "      <td>no</td>\n",
       "      <td>LINESTRING (913982.648 6247541.048, 914032.152...</td>\n",
       "    </tr>\n",
       "    <tr>\n",
       "      <th>1</th>\n",
       "      <td>2699768</td>\n",
       "      <td>path</td>\n",
       "      <td></td>\n",
       "      <td></td>\n",
       "      <td></td>\n",
       "      <td></td>\n",
       "      <td></td>\n",
       "      <td></td>\n",
       "      <td></td>\n",
       "      <td></td>\n",
       "      <td></td>\n",
       "      <td></td>\n",
       "      <td></td>\n",
       "      <td></td>\n",
       "      <td>0</td>\n",
       "      <td>no</td>\n",
       "      <td>LINESTRING (909518.351 6239066.723, 909533.383...</td>\n",
       "    </tr>\n",
       "    <tr>\n",
       "      <th>2</th>\n",
       "      <td>2699769</td>\n",
       "      <td>path</td>\n",
       "      <td></td>\n",
       "      <td></td>\n",
       "      <td></td>\n",
       "      <td></td>\n",
       "      <td></td>\n",
       "      <td></td>\n",
       "      <td></td>\n",
       "      <td></td>\n",
       "      <td></td>\n",
       "      <td></td>\n",
       "      <td></td>\n",
       "      <td></td>\n",
       "      <td>0</td>\n",
       "      <td>no</td>\n",
       "      <td>LINESTRING (909448.07 6239122.435, 909435.263 ...</td>\n",
       "    </tr>\n",
       "    <tr>\n",
       "      <th>3</th>\n",
       "      <td>3617343</td>\n",
       "      <td>primary</td>\n",
       "      <td></td>\n",
       "      <td></td>\n",
       "      <td></td>\n",
       "      <td>asphalt</td>\n",
       "      <td></td>\n",
       "      <td></td>\n",
       "      <td></td>\n",
       "      <td></td>\n",
       "      <td></td>\n",
       "      <td></td>\n",
       "      <td></td>\n",
       "      <td></td>\n",
       "      <td>0</td>\n",
       "      <td>no</td>\n",
       "      <td>LINESTRING (910535.741 6250520.857, 910540.587...</td>\n",
       "    </tr>\n",
       "    <tr>\n",
       "      <th>4</th>\n",
       "      <td>3617344</td>\n",
       "      <td>primary</td>\n",
       "      <td></td>\n",
       "      <td></td>\n",
       "      <td></td>\n",
       "      <td></td>\n",
       "      <td></td>\n",
       "      <td></td>\n",
       "      <td></td>\n",
       "      <td></td>\n",
       "      <td></td>\n",
       "      <td></td>\n",
       "      <td></td>\n",
       "      <td></td>\n",
       "      <td>0</td>\n",
       "      <td>no</td>\n",
       "      <td>LINESTRING (910571.976 6250128.531, 910573.41 ...</td>\n",
       "    </tr>\n",
       "  </tbody>\n",
       "</table>\n",
       "</div>"
      ],
      "text/plain": [
       "    osm_id  highway name access foot  surface incline smoothness width  \\\n",
       "0  2682531  service                                                      \n",
       "1  2699768     path                                                      \n",
       "2  2699769     path                                                      \n",
       "3  3617343  primary                   asphalt                            \n",
       "4  3617344  primary                                                      \n",
       "\n",
       "  sidewalk crossing lit bridge tunnel layer oneway  \\\n",
       "0                                         0     no   \n",
       "1                                         0     no   \n",
       "2                                         0     no   \n",
       "3                                         0     no   \n",
       "4                                         0     no   \n",
       "\n",
       "                                            geometry  \n",
       "0  LINESTRING (913982.648 6247541.048, 914032.152...  \n",
       "1  LINESTRING (909518.351 6239066.723, 909533.383...  \n",
       "2  LINESTRING (909448.07 6239122.435, 909435.263 ...  \n",
       "3  LINESTRING (910535.741 6250520.857, 910540.587...  \n",
       "4  LINESTRING (910571.976 6250128.531, 910573.41 ...  "
      ]
     },
     "execution_count": 79,
     "metadata": {},
     "output_type": "execute_result"
    }
   ],
   "source": [
    "print(\"Chargement du réseau brut...\")\n",
    "roads = gpd.read_file(\"../../Proximity/data/processed/roads_network/osm_foot_network_Marseille_2025-10-06.gpkg\")\n",
    "roads.head()"
   ]
  },
  {
   "cell_type": "code",
   "execution_count": 80,
   "metadata": {},
   "outputs": [
    {
     "name": "stdout",
     "output_type": "stream",
     "text": [
      "Simplification du réseau...\n"
     ]
    },
    {
     "name": "stderr",
     "output_type": "stream",
     "text": [
      "Extraction des lignes: 100%|██████████| 96901/96901 [00:03<00:00, 24545.86it/s]\n",
      "Indexation spatiale des lignes: 100%|██████████| 96901/96901 [00:03<00:00, 31078.74it/s]\n",
      "Calcul des intersections: 100%|██████████| 96901/96901 [00:16<00:00, 5830.82it/s] \n"
     ]
    },
    {
     "name": "stdout",
     "output_type": "stream",
     "text": [
      " 159221 intersections détectées.\n"
     ]
    },
    {
     "name": "stderr",
     "output_type": "stream",
     "text": [
      "Indexation spatiale des points: 100%|██████████| 159221/159221 [00:05<00:00, 31197.82it/s]\n",
      "Découpage des lignes: 100%|██████████| 96901/96901 [00:23<00:00, 4091.34it/s]\n"
     ]
    },
    {
     "name": "stdout",
     "output_type": "stream",
     "text": [
      "190982 segments obtenus après découpage.\n",
      "Suppression des géométries dupliquées...\n",
      "Réseau final : 190945 segments\n"
     ]
    }
   ],
   "source": [
    "print(\"Simplification du réseau...\")\n",
    "simplified = simplify_roads(roads)"
   ]
  },
  {
   "cell_type": "code",
   "execution_count": 81,
   "metadata": {},
   "outputs": [
    {
     "data": {
      "text/html": [
       "<div>\n",
       "<style scoped>\n",
       "    .dataframe tbody tr th:only-of-type {\n",
       "        vertical-align: middle;\n",
       "    }\n",
       "\n",
       "    .dataframe tbody tr th {\n",
       "        vertical-align: top;\n",
       "    }\n",
       "\n",
       "    .dataframe thead th {\n",
       "        text-align: right;\n",
       "    }\n",
       "</style>\n",
       "<table border=\"1\" class=\"dataframe\">\n",
       "  <thead>\n",
       "    <tr style=\"text-align: right;\">\n",
       "      <th></th>\n",
       "      <th>highway</th>\n",
       "      <th>name</th>\n",
       "      <th>access</th>\n",
       "      <th>foot</th>\n",
       "      <th>surface</th>\n",
       "      <th>incline</th>\n",
       "      <th>smoothness</th>\n",
       "      <th>width</th>\n",
       "      <th>sidewalk</th>\n",
       "      <th>crossing</th>\n",
       "      <th>lit</th>\n",
       "      <th>bridge</th>\n",
       "      <th>tunnel</th>\n",
       "      <th>layer</th>\n",
       "      <th>oneway</th>\n",
       "      <th>osm_id</th>\n",
       "      <th>geometry</th>\n",
       "    </tr>\n",
       "  </thead>\n",
       "  <tbody>\n",
       "    <tr>\n",
       "      <th>0</th>\n",
       "      <td>service</td>\n",
       "      <td></td>\n",
       "      <td></td>\n",
       "      <td></td>\n",
       "      <td></td>\n",
       "      <td></td>\n",
       "      <td></td>\n",
       "      <td></td>\n",
       "      <td></td>\n",
       "      <td></td>\n",
       "      <td></td>\n",
       "      <td></td>\n",
       "      <td></td>\n",
       "      <td>0</td>\n",
       "      <td>no</td>\n",
       "      <td>2682531</td>\n",
       "      <td>LINESTRING (913982.648 6247541.048, 914032.152...</td>\n",
       "    </tr>\n",
       "    <tr>\n",
       "      <th>1</th>\n",
       "      <td>path</td>\n",
       "      <td></td>\n",
       "      <td></td>\n",
       "      <td></td>\n",
       "      <td></td>\n",
       "      <td></td>\n",
       "      <td></td>\n",
       "      <td></td>\n",
       "      <td></td>\n",
       "      <td></td>\n",
       "      <td></td>\n",
       "      <td></td>\n",
       "      <td></td>\n",
       "      <td>0</td>\n",
       "      <td>no</td>\n",
       "      <td>2699768</td>\n",
       "      <td>LINESTRING (909518.351 6239066.723, 909533.383...</td>\n",
       "    </tr>\n",
       "    <tr>\n",
       "      <th>2</th>\n",
       "      <td>path</td>\n",
       "      <td></td>\n",
       "      <td></td>\n",
       "      <td></td>\n",
       "      <td></td>\n",
       "      <td></td>\n",
       "      <td></td>\n",
       "      <td></td>\n",
       "      <td></td>\n",
       "      <td></td>\n",
       "      <td></td>\n",
       "      <td></td>\n",
       "      <td></td>\n",
       "      <td>0</td>\n",
       "      <td>no</td>\n",
       "      <td>2699769</td>\n",
       "      <td>LINESTRING (909448.07 6239122.435, 909435.263 ...</td>\n",
       "    </tr>\n",
       "    <tr>\n",
       "      <th>3</th>\n",
       "      <td>primary</td>\n",
       "      <td></td>\n",
       "      <td></td>\n",
       "      <td></td>\n",
       "      <td>asphalt</td>\n",
       "      <td></td>\n",
       "      <td></td>\n",
       "      <td></td>\n",
       "      <td></td>\n",
       "      <td></td>\n",
       "      <td></td>\n",
       "      <td></td>\n",
       "      <td></td>\n",
       "      <td>0</td>\n",
       "      <td>no</td>\n",
       "      <td>3617343</td>\n",
       "      <td>LINESTRING (910535.741 6250520.857, 910540.587...</td>\n",
       "    </tr>\n",
       "    <tr>\n",
       "      <th>4</th>\n",
       "      <td>primary</td>\n",
       "      <td></td>\n",
       "      <td></td>\n",
       "      <td></td>\n",
       "      <td>asphalt</td>\n",
       "      <td></td>\n",
       "      <td></td>\n",
       "      <td></td>\n",
       "      <td></td>\n",
       "      <td></td>\n",
       "      <td></td>\n",
       "      <td></td>\n",
       "      <td></td>\n",
       "      <td>0</td>\n",
       "      <td>no</td>\n",
       "      <td>3617343</td>\n",
       "      <td>LINESTRING (910557.379 6250589.626, 910560.121...</td>\n",
       "    </tr>\n",
       "  </tbody>\n",
       "</table>\n",
       "</div>"
      ],
      "text/plain": [
       "   highway name access foot  surface incline smoothness width sidewalk  \\\n",
       "0  service                                                               \n",
       "1     path                                                               \n",
       "2     path                                                               \n",
       "3  primary                   asphalt                                     \n",
       "4  primary                   asphalt                                     \n",
       "\n",
       "  crossing lit bridge tunnel layer oneway   osm_id  \\\n",
       "0                                0     no  2682531   \n",
       "1                                0     no  2699768   \n",
       "2                                0     no  2699769   \n",
       "3                                0     no  3617343   \n",
       "4                                0     no  3617343   \n",
       "\n",
       "                                            geometry  \n",
       "0  LINESTRING (913982.648 6247541.048, 914032.152...  \n",
       "1  LINESTRING (909518.351 6239066.723, 909533.383...  \n",
       "2  LINESTRING (909448.07 6239122.435, 909435.263 ...  \n",
       "3  LINESTRING (910535.741 6250520.857, 910540.587...  \n",
       "4  LINESTRING (910557.379 6250589.626, 910560.121...  "
      ]
     },
     "execution_count": 81,
     "metadata": {},
     "output_type": "execute_result"
    }
   ],
   "source": [
    "# Réseau traité\n",
    "simplified.head()"
   ]
  },
  {
   "cell_type": "code",
   "execution_count": 82,
   "metadata": {},
   "outputs": [
    {
     "name": "stdout",
     "output_type": "stream",
     "text": [
      "Enregistrement du réseau nettoyé...\n"
     ]
    }
   ],
   "source": [
    "print(\"Enregistrement du réseau nettoyé...\")\n",
    "simplified.to_file(\"osm_foot_network_Marseille_simplified_2025-10-06.gpkg\", driver=\"GPKG\")"
   ]
  }
 ],
 "metadata": {
  "kernelspec": {
   "display_name": "geo_env",
   "language": "python",
   "name": "python3"
  },
  "language_info": {
   "codemirror_mode": {
    "name": "ipython",
    "version": 3
   },
   "file_extension": ".py",
   "mimetype": "text/x-python",
   "name": "python",
   "nbconvert_exporter": "python",
   "pygments_lexer": "ipython3",
   "version": "3.10.18"
  }
 },
 "nbformat": 4,
 "nbformat_minor": 2
}
