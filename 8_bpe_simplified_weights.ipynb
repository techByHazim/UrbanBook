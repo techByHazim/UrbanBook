{
 "cells": [
  {
   "cell_type": "markdown",
   "metadata": {},
   "source": [
    "# Pondération des équipements "
   ]
  },
  {
   "cell_type": "markdown",
   "metadata": {},
   "source": [
    "Dans la section précedente, j'ai montré comment filtrer les données de la BPE pour ne conserver que les équipements liés à une fonction sociale. De plus, j'ai introduit la notion de pondération des équipements en fonction de leur importance et de la variété environnante. Dans cette partie, je vais implémenter une méthode pour attribuer ces poids aux équipements."
   ]
  },
  {
   "cell_type": "markdown",
   "metadata": {},
   "source": [
    "## Les Types de pondération\n",
    "\n",
    "Je distingue deux types de pondération :\n",
    "\n",
    "1. **Pondération par importance intrinsèque** : Chaque type d'équipement se voit attribuer un poids en fonction de son importance sociale. Par exemple, un supermarché pourrait avoir un poids plus élevé qu'une boulangerie.\n",
    "\n",
    "2. **Pondération par variété environnante** : La valeur d'un équipement peut être influencée par la présence d'autres équipements à proximité. Par exemple, un parc situé près de plusieurs écoles et centres communautaires pourrait être considéré comme plus précieux qu'un parc isolé."
   ]
  },
  {
   "cell_type": "markdown",
   "metadata": {},
   "source": [
    "## Importation des bibliothèques nécessaires"
   ]
  },
  {
   "cell_type": "code",
   "execution_count": 2,
   "metadata": {},
   "outputs": [],
   "source": [
    "import numpy as np\n",
    "import geopandas as gpd\n",
    "from sklearn.neighbors import BallTree"
   ]
  },
  {
   "cell_type": "markdown",
   "metadata": {},
   "source": [
    "## Chargement des données\n",
    "\n",
    "Je charge les données filtrées de la BPE que j'ai sauvegardées dans le notebook précédent. Ces données contiennent uniquement les équipements liés aux fonctions sociales."
   ]
  },
  {
   "cell_type": "code",
   "execution_count": 3,
   "metadata": {},
   "outputs": [
    {
     "data": {
      "text/html": [
       "<div>\n",
       "<style scoped>\n",
       "    .dataframe tbody tr th:only-of-type {\n",
       "        vertical-align: middle;\n",
       "    }\n",
       "\n",
       "    .dataframe tbody tr th {\n",
       "        vertical-align: top;\n",
       "    }\n",
       "\n",
       "    .dataframe thead th {\n",
       "        text-align: right;\n",
       "    }\n",
       "</style>\n",
       "<table border=\"1\" class=\"dataframe\">\n",
       "  <thead>\n",
       "    <tr style=\"text-align: right;\">\n",
       "      <th></th>\n",
       "      <th>TYPEQU</th>\n",
       "      <th>fs</th>\n",
       "      <th>wi</th>\n",
       "      <th>wefs</th>\n",
       "      <th>geometry</th>\n",
       "    </tr>\n",
       "  </thead>\n",
       "  <tbody>\n",
       "    <tr>\n",
       "      <th>0</th>\n",
       "      <td>D201</td>\n",
       "      <td>health</td>\n",
       "      <td>0.0</td>\n",
       "      <td>0.0</td>\n",
       "      <td>POINT (901648.360 6253959.190)</td>\n",
       "    </tr>\n",
       "    <tr>\n",
       "      <th>1</th>\n",
       "      <td>D201</td>\n",
       "      <td>health</td>\n",
       "      <td>0.0</td>\n",
       "      <td>0.0</td>\n",
       "      <td>POINT (901650.000 6253850.000)</td>\n",
       "    </tr>\n",
       "    <tr>\n",
       "      <th>2</th>\n",
       "      <td>D201</td>\n",
       "      <td>health</td>\n",
       "      <td>0.0</td>\n",
       "      <td>0.0</td>\n",
       "      <td>POINT (901387.000 6251711.700)</td>\n",
       "    </tr>\n",
       "    <tr>\n",
       "      <th>3</th>\n",
       "      <td>D201</td>\n",
       "      <td>health</td>\n",
       "      <td>0.0</td>\n",
       "      <td>0.0</td>\n",
       "      <td>POINT (901236.730 6251635.020)</td>\n",
       "    </tr>\n",
       "    <tr>\n",
       "      <th>4</th>\n",
       "      <td>D201</td>\n",
       "      <td>health</td>\n",
       "      <td>0.0</td>\n",
       "      <td>0.0</td>\n",
       "      <td>POINT (901244.210 6251911.890)</td>\n",
       "    </tr>\n",
       "  </tbody>\n",
       "</table>\n",
       "</div>"
      ],
      "text/plain": [
       "  TYPEQU      fs   wi  wefs                        geometry\n",
       "0   D201  health  0.0   0.0  POINT (901648.360 6253959.190)\n",
       "1   D201  health  0.0   0.0  POINT (901650.000 6253850.000)\n",
       "2   D201  health  0.0   0.0  POINT (901387.000 6251711.700)\n",
       "3   D201  health  0.0   0.0  POINT (901236.730 6251635.020)\n",
       "4   D201  health  0.0   0.0  POINT (901244.210 6251911.890)"
      ]
     },
     "execution_count": 3,
     "metadata": {},
     "output_type": "execute_result"
    }
   ],
   "source": [
    "data_path = \"../proxy/data/processed/b3_2501171030_health_mrs.gpkg\" # Pour santé par exemple\n",
    "# Chargement des données de la BPE (points)\n",
    "data = gpd.read_file(data_path)\n",
    "# Affichage des premières lignes du GeoDataFrame\n",
    "data.head()"
   ]
  },
  {
   "cell_type": "markdown",
   "metadata": {},
   "source": [
    "## Dictionnaire des poids intrinsèques par type d'équipement\n",
    "\n",
    "L'idée est de créer un dictionnaire où chaque type d'équipement est associé à un poids. Ces poids sont basés sur une évaluation subjective de l'importance sociale de chaque type d'équipement.\n",
    "\n",
    "Pour illustrer ma démarche, je prend trois exemples de catégorisation : santé, alimentation et loisir. Je vais créer un dictionnaire pour chaque catégorie dont les clés sont les types d'équipements et les valeurs sont les poids associés."
   ]
  },
  {
   "cell_type": "code",
   "execution_count": 4,
   "metadata": {},
   "outputs": [],
   "source": [
    "# Dictionnaires pour les poids\n",
    "poids_supply = {\n",
    "    'B104': 3.0, # 'Hypermarché et Grand Magasin → pluriservices',\n",
    "    'B105': 3.0, # 'Supermarché et Magasin Multi-commerce → pluriservices',\n",
    "    'B201': 3.0, # 'Supérette → pluriservices',\n",
    "    'B202': 1.0, # 'Épicerie → monoservice',\n",
    "    'B204': 1.0, # 'Boucherie Charcuterie → monoservice',\n",
    "    'B205': 1.0, # 'Produits Surgelés → monoservice',\n",
    "    'B206': 1.0, # 'Poissonnerie → monoservice',\n",
    "    'B207': 1.0, # 'Boulangerie-Pâtisserie → monoservice',\n",
    "    'B208': 1.0, # 'Commerce spécialisé en Fruits et Légumes → monoservice',\n",
    "    'B209': 1.0, # 'Commerce de Boissons → monoservice',\n",
    "    'B210': 1.0  # 'Autres Commerces Alimentaires → monoservice'\n",
    "}\n",
    "\n",
    "poids_health = {\n",
    "    'D108': 2.0, # CENTRE DE SANTÉ\n",
    "    'D113': 2.0, # MAISON DE SANTÉ PLURIDISCIPLINAIRE\n",
    "    'D201': 1.0, # MÉDECIN GÉNÉRALISTE\n",
    "    # 'D221': 1.0, # CHIRURGIEN DENTISTE\n",
    "    'D233': 1.0, # MASSEUR KINÉSITHÉRAPEUTE\n",
    "    # 'D235': 1.0, # ORTHOPHONISTE\n",
    "    # 'D236': 1.0, # ORTHOPTISTE\n",
    "    # 'D243': 1.0, # PSYCHOLOGUE\n",
    "    # 'D244': 1.0, # INFIRMIER\n",
    "    'D302': 1.0, # LABORATOIRE D'ANALYSES ET DE BIOLOGIE MÉDICALE\n",
    "    'D307': 3.0, # PHARMACIE\n",
    "    # 'F101': 2.0, # BASSIN DE NATATION\n",
    "    # 'F102': 1.0, # BOULODROME\n",
    "    # 'F103': 1.0, # TENNIS\n",
    "    # 'F104': 1.0, # ÉQUIPEMENT DE CYCLISME\n",
    "    # 'F105': 1.0, # DOMAINE SKIABLE\n",
    "    # 'F106': 1.0, # CENTRE ÉQUESTRE\n",
    "    # 'F107': 1.0, # ATHLÉTISME\n",
    "    # 'F108': 1.0, # TERRAIN DE GOLF\n",
    "    # 'F109': 1.0, # PARCOURS SPORTIF/SANTÉ\n",
    "    # 'F110': 1.0, # SPORTS DE GLACE\n",
    "    # 'F111': 1.0, # PLATEAUX ET TERRAINS DE JEUX EXTÉRIEURS\n",
    "    # 'F112': 1.0, # SALLES SPÉCIALISÉES\n",
    "    # 'F113': 1.0, # TERRAINS DE GRANDS JEUX\n",
    "    # 'F114': 1.0, # SALLES DE COMBAT\n",
    "    # 'F116': 1.0, # SALLES NON SPÉCIALISÉES\n",
    "    # 'F117': 1.0, # ROLLER-SKATE-VÉLO BICROSS / VTT OU FREESTYLE\n",
    "    # 'F118': 1.0, # SPORTS NAUTIQUES\n",
    "    # 'F120': 3.0, # SALLES DE REMISE EN FORME\n",
    "    # 'F121': 1.0, # SALLES MULTISPORTS (GYMNASES)\n",
    "    # 'F123': 1.0, # MUR ET FRONTON\n",
    "    # 'F201': 1.0, # BAIGNADE AMÉNAGÉE\n",
    "    # 'F203': 1.0, # BOUCLE DE RANDONNÉE ET PARCOURS DE COURSE D’ORIENTATION\n",
    "}\n",
    "\n",
    "poids_enjoy = {\n",
    "    'F303': 3.0, # CINÉMA\n",
    "    'F305': 1.0, # CONSERVATOIRE\n",
    "    'F307': 3.0, # BIBLIOTHÈQUE\n",
    "    'F312': 1.0, # EXPOSITION ET MEDIATION CULTURELLE\n",
    "    'F313': 1.0, # ESPACE REMARQUABLE ET PATRIMOINE\n",
    "    'F314': 1.0, # ARCHIVES\n",
    "    'F315': 3.0  # ARTS DU SPECTACLE\n",
    "}"
   ]
  },
  {
   "cell_type": "markdown",
   "metadata": {},
   "source": [
    "## Attribution des poids aux équipements\n",
    "\n",
    "### Poids intrinsèques\n",
    "\n",
    "Une fois les dictionnaires de poids définis, je vais parcourir le GeoDataFrame des équipements et attribuer le poids correspondant à chaque équipement en fonction de son type. Si un type d'équipement n'est pas trouvé dans le dictionnaire, je lui attribue un poids par défaut (ici, 0). Je prends la catégorie \"santé\" comme exemple mais le même principe s'applique pour les autres catégories."
   ]
  },
  {
   "cell_type": "code",
   "execution_count": 5,
   "metadata": {},
   "outputs": [
    {
     "data": {
      "text/html": [
       "<div>\n",
       "<style scoped>\n",
       "    .dataframe tbody tr th:only-of-type {\n",
       "        vertical-align: middle;\n",
       "    }\n",
       "\n",
       "    .dataframe tbody tr th {\n",
       "        vertical-align: top;\n",
       "    }\n",
       "\n",
       "    .dataframe thead th {\n",
       "        text-align: right;\n",
       "    }\n",
       "</style>\n",
       "<table border=\"1\" class=\"dataframe\">\n",
       "  <thead>\n",
       "    <tr style=\"text-align: right;\">\n",
       "      <th></th>\n",
       "      <th>TYPEQU</th>\n",
       "      <th>fs</th>\n",
       "      <th>wi</th>\n",
       "      <th>wefs</th>\n",
       "      <th>geometry</th>\n",
       "    </tr>\n",
       "  </thead>\n",
       "  <tbody>\n",
       "    <tr>\n",
       "      <th>0</th>\n",
       "      <td>D201</td>\n",
       "      <td>health</td>\n",
       "      <td>1.0</td>\n",
       "      <td>0.0</td>\n",
       "      <td>POINT (901648.360 6253959.190)</td>\n",
       "    </tr>\n",
       "    <tr>\n",
       "      <th>1</th>\n",
       "      <td>D201</td>\n",
       "      <td>health</td>\n",
       "      <td>1.0</td>\n",
       "      <td>0.0</td>\n",
       "      <td>POINT (901650.000 6253850.000)</td>\n",
       "    </tr>\n",
       "    <tr>\n",
       "      <th>2</th>\n",
       "      <td>D201</td>\n",
       "      <td>health</td>\n",
       "      <td>1.0</td>\n",
       "      <td>0.0</td>\n",
       "      <td>POINT (901387.000 6251711.700)</td>\n",
       "    </tr>\n",
       "    <tr>\n",
       "      <th>3</th>\n",
       "      <td>D201</td>\n",
       "      <td>health</td>\n",
       "      <td>1.0</td>\n",
       "      <td>0.0</td>\n",
       "      <td>POINT (901236.730 6251635.020)</td>\n",
       "    </tr>\n",
       "    <tr>\n",
       "      <th>4</th>\n",
       "      <td>D201</td>\n",
       "      <td>health</td>\n",
       "      <td>1.0</td>\n",
       "      <td>0.0</td>\n",
       "      <td>POINT (901244.210 6251911.890)</td>\n",
       "    </tr>\n",
       "  </tbody>\n",
       "</table>\n",
       "</div>"
      ],
      "text/plain": [
       "  TYPEQU      fs   wi  wefs                        geometry\n",
       "0   D201  health  1.0   0.0  POINT (901648.360 6253959.190)\n",
       "1   D201  health  1.0   0.0  POINT (901650.000 6253850.000)\n",
       "2   D201  health  1.0   0.0  POINT (901387.000 6251711.700)\n",
       "3   D201  health  1.0   0.0  POINT (901236.730 6251635.020)\n",
       "4   D201  health  1.0   0.0  POINT (901244.210 6251911.890)"
      ]
     },
     "execution_count": 5,
     "metadata": {},
     "output_type": "execute_result"
    }
   ],
   "source": [
    "# Fonction pour obtenir le poids en fonction de TYPEQU\n",
    "def get_weight(row):\n",
    "    if row['TYPEQU'] in poids_supply:\n",
    "        return poids_supply[row['TYPEQU']]\n",
    "    elif row['TYPEQU'] in poids_health:\n",
    "        return poids_health[row['TYPEQU']]\n",
    "    elif row['TYPEQU'] in poids_enjoy:\n",
    "        return poids_enjoy[row['TYPEQU']]\n",
    "    else:\n",
    "        return 0  # Valeur par défaut si TYPEQU n'est pas trouvé\n",
    "\n",
    "# Application de la fonction pour remplir la colonne `wi`\n",
    "data['wi'] = data.apply(get_weight, axis=1)\n",
    "# Affichage des premières lignes pour vérifier les poids attribués\n",
    "data.head()"
   ]
  },
  {
   "cell_type": "code",
   "execution_count": 6,
   "metadata": {},
   "outputs": [
    {
     "data": {
      "text/plain": [
       "array(['health'], dtype=object)"
      ]
     },
     "execution_count": 6,
     "metadata": {},
     "output_type": "execute_result"
    }
   ],
   "source": [
    "data['fs'].unique()"
   ]
  },
  {
   "cell_type": "markdown",
   "metadata": {},
   "source": [
    "### Poids par variété environnante: extrinsèque\n",
    "\n",
    "Pour la pondération par variété environnante (la diversité), je vais utiliser l'approche suivante. Je vais compter le nombre d'équipements différents dans un rayon donné autour de chaque équipement. Plus il y a de types d'équipements différents à proximité, plus le poids de l'équipement augmente.\n",
    "\n",
    "Pour se faire, je vais utiliser un outil de géotraitement spatial pour accelerer les calculs. Il s'agit de `Balltree` de la bibliothèque `sklearn`. Le principe est de construire un arbre spatial pour les points d'équipements, puis pour chaque équipement, je vais rechercher puis compter les équipements voisins dans un rayon donné. "
   ]
  },
  {
   "cell_type": "code",
   "execution_count": 7,
   "metadata": {},
   "outputs": [],
   "source": [
    "# Construction de l'arbre spatial avec BallTree\n",
    "coords = np.vstack([data.geometry.x, data.geometry.y]).T\n",
    "tree = BallTree(coords, metric='euclidean')"
   ]
  },
  {
   "cell_type": "code",
   "execution_count": null,
   "metadata": {},
   "outputs": [],
   "source": [
    "# Je ne compte pas l'equipement principal, il a dejà un poids intrinsèque\n",
    "\n",
    "rayon = 50.0 # Rayon pour calculer la diversité\n",
    "\n",
    "def wefs(index, point, typequ, radius = rayon): \n",
    "\n",
    "    indices = tree.query_radius([point], r=radius)[0]\n",
    "    \n",
    "    neighboors = data.iloc[indices]\n",
    "    types_diff = neighboors['TYPEQU'].unique()\n",
    "    \n",
    "    types_diff = types_diff[types_diff != typequ]\n",
    "    \n",
    "    return len(types_diff) #+ 1 pour compter l'equipement principale"
   ]
  },
  {
   "cell_type": "code",
   "execution_count": 9,
   "metadata": {},
   "outputs": [],
   "source": [
    "# calcul et Ajout des poids extrasinque dans les données\n",
    "data.loc[:, 'wefs'] = data.apply(lambda row: wefs(row.name, [row.geometry.x, row.geometry.y], row['TYPEQU']), axis=1)"
   ]
  },
  {
   "cell_type": "markdown",
   "metadata": {},
   "source": [
    "## Sauvegarde des données pondérées\n",
    "\n",
    "Je sauvegarde les données pondérées dans un nouveau fichier GeoPackage pour une utilisation ultérieure."
   ]
  },
  {
   "cell_type": "code",
   "execution_count": 11,
   "metadata": {},
   "outputs": [],
   "source": [
    "data.to_file(\"../proxy/data/processed/b3_2501171030_health_mrs_50.gpkg\", driver=\"GPKG\")"
   ]
  },
  {
   "cell_type": "markdown",
   "metadata": {},
   "source": [
    "## Conclusion\n",
    "\n",
    "Dans cette section, j'ai montré comment attribuer les poids aux équipements en fonction de leur importance intrinsèque et de la variété environnante. Le resultat est un GeoDataFrame enregistré dans un fichier GeoPackage. Il servira pour le calcul des indices de proximité dans les sections qui suivent."
   ]
  }
 ],
 "metadata": {
  "kernelspec": {
   "display_name": "pynkdv",
   "language": "python",
   "name": "python3"
  },
  "language_info": {
   "codemirror_mode": {
    "name": "ipython",
    "version": 3
   },
   "file_extension": ".py",
   "mimetype": "text/x-python",
   "name": "python",
   "nbconvert_exporter": "python",
   "pygments_lexer": "ipython3",
   "version": "3.9.19"
  }
 },
 "nbformat": 4,
 "nbformat_minor": 2
}
